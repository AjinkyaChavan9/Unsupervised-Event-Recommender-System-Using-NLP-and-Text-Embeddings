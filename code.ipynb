{
  "nbformat": 4,
  "nbformat_minor": 0,
  "metadata": {
    "colab": {
      "name": "code.ipynb",
      "provenance": [],
      "collapsed_sections": []
    },
    "kernelspec": {
      "name": "python3",
      "display_name": "Python 3"
    }
  },
  "cells": [
    {
      "cell_type": "code",
      "metadata": {
        "id": "Zury9Ijgr8AP",
        "colab_type": "code",
        "colab": {
          "base_uri": "https://localhost:8080/",
          "height": 204
        },
        "outputId": "eeace454-932e-4cfa-f74f-7627d49e23a7"
      },
      "source": [
        "!pip install pandas\n",
        "!pip install numpy\n",
        "!pip install scikit-learn"
      ],
      "execution_count": 102,
      "outputs": [
        {
          "output_type": "stream",
          "text": [
            "Requirement already satisfied: pandas in /usr/local/lib/python3.6/dist-packages (1.0.5)\n",
            "Requirement already satisfied: python-dateutil>=2.6.1 in /usr/local/lib/python3.6/dist-packages (from pandas) (2.8.1)\n",
            "Requirement already satisfied: pytz>=2017.2 in /usr/local/lib/python3.6/dist-packages (from pandas) (2018.9)\n",
            "Requirement already satisfied: numpy>=1.13.3 in /usr/local/lib/python3.6/dist-packages (from pandas) (1.18.5)\n",
            "Requirement already satisfied: six>=1.5 in /usr/local/lib/python3.6/dist-packages (from python-dateutil>=2.6.1->pandas) (1.15.0)\n",
            "Requirement already satisfied: numpy in /usr/local/lib/python3.6/dist-packages (1.18.5)\n",
            "Requirement already satisfied: scikit-learn in /usr/local/lib/python3.6/dist-packages (0.23.1)\n",
            "Requirement already satisfied: joblib>=0.11 in /usr/local/lib/python3.6/dist-packages (from scikit-learn) (0.16.0)\n",
            "Requirement already satisfied: threadpoolctl>=2.0.0 in /usr/local/lib/python3.6/dist-packages (from scikit-learn) (2.1.0)\n",
            "Requirement already satisfied: scipy>=0.19.1 in /usr/local/lib/python3.6/dist-packages (from scikit-learn) (1.4.1)\n",
            "Requirement already satisfied: numpy>=1.13.3 in /usr/local/lib/python3.6/dist-packages (from scikit-learn) (1.18.5)\n"
          ],
          "name": "stdout"
        }
      ]
    },
    {
      "cell_type": "code",
      "metadata": {
        "id": "OklUzBAosX-R",
        "colab_type": "code",
        "colab": {
          "base_uri": "https://localhost:8080/",
          "height": 51
        },
        "outputId": "251d5fae-22d4-4542-f63d-927ebe4bd2b2"
      },
      "source": [
        "!pip install nltk"
      ],
      "execution_count": 103,
      "outputs": [
        {
          "output_type": "stream",
          "text": [
            "Requirement already satisfied: nltk in /usr/local/lib/python3.6/dist-packages (3.2.5)\n",
            "Requirement already satisfied: six in /usr/local/lib/python3.6/dist-packages (from nltk) (1.15.0)\n"
          ],
          "name": "stdout"
        }
      ]
    },
    {
      "cell_type": "code",
      "metadata": {
        "id": "aIdS1W8LfMOi",
        "colab_type": "code",
        "colab": {
          "base_uri": "https://localhost:8080/",
          "height": 51
        },
        "outputId": "960b044d-9f65-4805-9ec2-f053a1cfdef3"
      },
      "source": [
        "!pip install wordtodigits\n",
        "!pip install inflect"
      ],
      "execution_count": 104,
      "outputs": [
        {
          "output_type": "stream",
          "text": [
            "Requirement already satisfied: wordtodigits in /usr/local/lib/python3.6/dist-packages (1.0.2)\n",
            "Requirement already satisfied: inflect in /usr/local/lib/python3.6/dist-packages (2.1.0)\n"
          ],
          "name": "stdout"
        }
      ]
    },
    {
      "cell_type": "code",
      "metadata": {
        "id": "EMN20BhmyJ7G",
        "colab_type": "code",
        "colab": {
          "base_uri": "https://localhost:8080/",
          "height": 785
        },
        "outputId": "10b47ded-9aa1-423e-f9d3-ed0cf726b3d3"
      },
      "source": [
        "!pip install absl-py\n",
        "!pip install tensorflow\n",
        "!pip install tensorflow_hub"
      ],
      "execution_count": 105,
      "outputs": [
        {
          "output_type": "stream",
          "text": [
            "Requirement already satisfied: absl-py in /usr/local/lib/python3.6/dist-packages (0.9.0)\n",
            "Requirement already satisfied: six in /usr/local/lib/python3.6/dist-packages (from absl-py) (1.15.0)\n",
            "Requirement already satisfied: tensorflow in /usr/local/lib/python3.6/dist-packages (2.2.0)\n",
            "Requirement already satisfied: tensorboard<2.3.0,>=2.2.0 in /usr/local/lib/python3.6/dist-packages (from tensorflow) (2.2.2)\n",
            "Requirement already satisfied: wheel>=0.26; python_version >= \"3\" in /usr/local/lib/python3.6/dist-packages (from tensorflow) (0.34.2)\n",
            "Requirement already satisfied: h5py<2.11.0,>=2.10.0 in /usr/local/lib/python3.6/dist-packages (from tensorflow) (2.10.0)\n",
            "Requirement already satisfied: numpy<2.0,>=1.16.0 in /usr/local/lib/python3.6/dist-packages (from tensorflow) (1.18.5)\n",
            "Requirement already satisfied: astunparse==1.6.3 in /usr/local/lib/python3.6/dist-packages (from tensorflow) (1.6.3)\n",
            "Requirement already satisfied: termcolor>=1.1.0 in /usr/local/lib/python3.6/dist-packages (from tensorflow) (1.1.0)\n",
            "Requirement already satisfied: grpcio>=1.8.6 in /usr/local/lib/python3.6/dist-packages (from tensorflow) (1.30.0)\n",
            "Requirement already satisfied: absl-py>=0.7.0 in /usr/local/lib/python3.6/dist-packages (from tensorflow) (0.9.0)\n",
            "Requirement already satisfied: wrapt>=1.11.1 in /usr/local/lib/python3.6/dist-packages (from tensorflow) (1.12.1)\n",
            "Requirement already satisfied: six>=1.12.0 in /usr/local/lib/python3.6/dist-packages (from tensorflow) (1.15.0)\n",
            "Requirement already satisfied: scipy==1.4.1; python_version >= \"3\" in /usr/local/lib/python3.6/dist-packages (from tensorflow) (1.4.1)\n",
            "Requirement already satisfied: opt-einsum>=2.3.2 in /usr/local/lib/python3.6/dist-packages (from tensorflow) (3.3.0)\n",
            "Requirement already satisfied: gast==0.3.3 in /usr/local/lib/python3.6/dist-packages (from tensorflow) (0.3.3)\n",
            "Requirement already satisfied: protobuf>=3.8.0 in /usr/local/lib/python3.6/dist-packages (from tensorflow) (3.12.2)\n",
            "Requirement already satisfied: keras-preprocessing>=1.1.0 in /usr/local/lib/python3.6/dist-packages (from tensorflow) (1.1.2)\n",
            "Requirement already satisfied: google-pasta>=0.1.8 in /usr/local/lib/python3.6/dist-packages (from tensorflow) (0.2.0)\n",
            "Requirement already satisfied: tensorflow-estimator<2.3.0,>=2.2.0 in /usr/local/lib/python3.6/dist-packages (from tensorflow) (2.2.0)\n",
            "Requirement already satisfied: requests<3,>=2.21.0 in /usr/local/lib/python3.6/dist-packages (from tensorboard<2.3.0,>=2.2.0->tensorflow) (2.23.0)\n",
            "Requirement already satisfied: werkzeug>=0.11.15 in /usr/local/lib/python3.6/dist-packages (from tensorboard<2.3.0,>=2.2.0->tensorflow) (1.0.1)\n",
            "Requirement already satisfied: google-auth<2,>=1.6.3 in /usr/local/lib/python3.6/dist-packages (from tensorboard<2.3.0,>=2.2.0->tensorflow) (1.17.2)\n",
            "Requirement already satisfied: google-auth-oauthlib<0.5,>=0.4.1 in /usr/local/lib/python3.6/dist-packages (from tensorboard<2.3.0,>=2.2.0->tensorflow) (0.4.1)\n",
            "Requirement already satisfied: tensorboard-plugin-wit>=1.6.0 in /usr/local/lib/python3.6/dist-packages (from tensorboard<2.3.0,>=2.2.0->tensorflow) (1.7.0)\n",
            "Requirement already satisfied: setuptools>=41.0.0 in /usr/local/lib/python3.6/dist-packages (from tensorboard<2.3.0,>=2.2.0->tensorflow) (49.2.0)\n",
            "Requirement already satisfied: markdown>=2.6.8 in /usr/local/lib/python3.6/dist-packages (from tensorboard<2.3.0,>=2.2.0->tensorflow) (3.2.2)\n",
            "Requirement already satisfied: certifi>=2017.4.17 in /usr/local/lib/python3.6/dist-packages (from requests<3,>=2.21.0->tensorboard<2.3.0,>=2.2.0->tensorflow) (2020.6.20)\n",
            "Requirement already satisfied: idna<3,>=2.5 in /usr/local/lib/python3.6/dist-packages (from requests<3,>=2.21.0->tensorboard<2.3.0,>=2.2.0->tensorflow) (2.10)\n",
            "Requirement already satisfied: chardet<4,>=3.0.2 in /usr/local/lib/python3.6/dist-packages (from requests<3,>=2.21.0->tensorboard<2.3.0,>=2.2.0->tensorflow) (3.0.4)\n",
            "Requirement already satisfied: urllib3!=1.25.0,!=1.25.1,<1.26,>=1.21.1 in /usr/local/lib/python3.6/dist-packages (from requests<3,>=2.21.0->tensorboard<2.3.0,>=2.2.0->tensorflow) (1.24.3)\n",
            "Requirement already satisfied: cachetools<5.0,>=2.0.0 in /usr/local/lib/python3.6/dist-packages (from google-auth<2,>=1.6.3->tensorboard<2.3.0,>=2.2.0->tensorflow) (4.1.1)\n",
            "Requirement already satisfied: pyasn1-modules>=0.2.1 in /usr/local/lib/python3.6/dist-packages (from google-auth<2,>=1.6.3->tensorboard<2.3.0,>=2.2.0->tensorflow) (0.2.8)\n",
            "Requirement already satisfied: rsa<5,>=3.1.4; python_version >= \"3\" in /usr/local/lib/python3.6/dist-packages (from google-auth<2,>=1.6.3->tensorboard<2.3.0,>=2.2.0->tensorflow) (4.6)\n",
            "Requirement already satisfied: requests-oauthlib>=0.7.0 in /usr/local/lib/python3.6/dist-packages (from google-auth-oauthlib<0.5,>=0.4.1->tensorboard<2.3.0,>=2.2.0->tensorflow) (1.3.0)\n",
            "Requirement already satisfied: importlib-metadata; python_version < \"3.8\" in /usr/local/lib/python3.6/dist-packages (from markdown>=2.6.8->tensorboard<2.3.0,>=2.2.0->tensorflow) (1.7.0)\n",
            "Requirement already satisfied: pyasn1<0.5.0,>=0.4.6 in /usr/local/lib/python3.6/dist-packages (from pyasn1-modules>=0.2.1->google-auth<2,>=1.6.3->tensorboard<2.3.0,>=2.2.0->tensorflow) (0.4.8)\n",
            "Requirement already satisfied: oauthlib>=3.0.0 in /usr/local/lib/python3.6/dist-packages (from requests-oauthlib>=0.7.0->google-auth-oauthlib<0.5,>=0.4.1->tensorboard<2.3.0,>=2.2.0->tensorflow) (3.1.0)\n",
            "Requirement already satisfied: zipp>=0.5 in /usr/local/lib/python3.6/dist-packages (from importlib-metadata; python_version < \"3.8\"->markdown>=2.6.8->tensorboard<2.3.0,>=2.2.0->tensorflow) (3.1.0)\n",
            "Requirement already satisfied: tensorflow_hub in /usr/local/lib/python3.6/dist-packages (0.8.0)\n",
            "Requirement already satisfied: numpy>=1.12.0 in /usr/local/lib/python3.6/dist-packages (from tensorflow_hub) (1.18.5)\n",
            "Requirement already satisfied: protobuf>=3.8.0 in /usr/local/lib/python3.6/dist-packages (from tensorflow_hub) (3.12.2)\n",
            "Requirement already satisfied: six>=1.12.0 in /usr/local/lib/python3.6/dist-packages (from tensorflow_hub) (1.15.0)\n",
            "Requirement already satisfied: setuptools in /usr/local/lib/python3.6/dist-packages (from protobuf>=3.8.0->tensorflow_hub) (49.2.0)\n"
          ],
          "name": "stdout"
        }
      ]
    },
    {
      "cell_type": "code",
      "metadata": {
        "id": "BeOm2ZUqPwWc",
        "colab_type": "code",
        "colab": {}
      },
      "source": [
        "#Importing libraries \n",
        "import pandas as pd\n",
        "import numpy as np\n",
        "import nltk #module for text preprocessing\n",
        "import wordtodigits\n",
        "import inflect #module to convert plural text into singular\n",
        "import tensorflow_hub as hub #module to get pretrained tensorflow model\n",
        "from sklearn.metrics.pairwise import cosine_similarity"
      ],
      "execution_count": 106,
      "outputs": []
    },
    {
      "cell_type": "markdown",
      "metadata": {
        "id": "rf1K6ilEIGkH",
        "colab_type": "text"
      },
      "source": [
        "# Employee Preference Data Analysis"
      ]
    },
    {
      "cell_type": "code",
      "metadata": {
        "id": "ajPUAH_jQ76X",
        "colab_type": "code",
        "colab": {
          "base_uri": "https://localhost:8080/",
          "height": 419
        },
        "outputId": "a1ba7a1f-9011-44a7-a30e-32ec9e97b223"
      },
      "source": [
        "Employee_Preference_Data = pd.read_csv('CCMLEmployeeData.csv')\n",
        "Employee_Preference_Data"
      ],
      "execution_count": 107,
      "outputs": [
        {
          "output_type": "execute_result",
          "data": {
            "text/html": [
              "<div>\n",
              "<style scoped>\n",
              "    .dataframe tbody tr th:only-of-type {\n",
              "        vertical-align: middle;\n",
              "    }\n",
              "\n",
              "    .dataframe tbody tr th {\n",
              "        vertical-align: top;\n",
              "    }\n",
              "\n",
              "    .dataframe thead th {\n",
              "        text-align: right;\n",
              "    }\n",
              "</style>\n",
              "<table border=\"1\" class=\"dataframe\">\n",
              "  <thead>\n",
              "    <tr style=\"text-align: right;\">\n",
              "      <th></th>\n",
              "      <th>Name</th>\n",
              "      <th>Domain</th>\n",
              "      <th>Event1</th>\n",
              "      <th>Event2</th>\n",
              "    </tr>\n",
              "  </thead>\n",
              "  <tbody>\n",
              "    <tr>\n",
              "      <th>0</th>\n",
              "      <td>Bryan Brock</td>\n",
              "      <td>Management</td>\n",
              "      <td>Jobs</td>\n",
              "      <td>Hackathons</td>\n",
              "    </tr>\n",
              "    <tr>\n",
              "      <th>1</th>\n",
              "      <td>Joseph Sullivan</td>\n",
              "      <td>Coding</td>\n",
              "      <td>Certifications</td>\n",
              "      <td>Webinars</td>\n",
              "    </tr>\n",
              "    <tr>\n",
              "      <th>2</th>\n",
              "      <td>Sherri Dawson</td>\n",
              "      <td>Security</td>\n",
              "      <td>Internships</td>\n",
              "      <td>Fests</td>\n",
              "    </tr>\n",
              "    <tr>\n",
              "      <th>3</th>\n",
              "      <td>Dustin Ferguson</td>\n",
              "      <td>Hardware</td>\n",
              "      <td>Competitions</td>\n",
              "      <td>Webinars</td>\n",
              "    </tr>\n",
              "    <tr>\n",
              "      <th>4</th>\n",
              "      <td>Kayla Young</td>\n",
              "      <td>Web Development</td>\n",
              "      <td>Expos</td>\n",
              "      <td>Certifications</td>\n",
              "    </tr>\n",
              "    <tr>\n",
              "      <th>...</th>\n",
              "      <td>...</td>\n",
              "      <td>...</td>\n",
              "      <td>...</td>\n",
              "      <td>...</td>\n",
              "    </tr>\n",
              "    <tr>\n",
              "      <th>178</th>\n",
              "      <td>Katelyn Barnes</td>\n",
              "      <td>Coding</td>\n",
              "      <td>Courses</td>\n",
              "      <td>Webinars</td>\n",
              "    </tr>\n",
              "    <tr>\n",
              "      <th>179</th>\n",
              "      <td>Gabriel Cruz</td>\n",
              "      <td>Other</td>\n",
              "      <td>Talks</td>\n",
              "      <td>Fests</td>\n",
              "    </tr>\n",
              "    <tr>\n",
              "      <th>180</th>\n",
              "      <td>Christina Williams</td>\n",
              "      <td>Software Architecture</td>\n",
              "      <td>Talks</td>\n",
              "      <td>Fests</td>\n",
              "    </tr>\n",
              "    <tr>\n",
              "      <th>181</th>\n",
              "      <td>William Turner</td>\n",
              "      <td>Development Processes</td>\n",
              "      <td>Trainings</td>\n",
              "      <td>Seminars</td>\n",
              "    </tr>\n",
              "    <tr>\n",
              "      <th>182</th>\n",
              "      <td>Damon Lane</td>\n",
              "      <td>C</td>\n",
              "      <td>Seminars</td>\n",
              "      <td>Internships</td>\n",
              "    </tr>\n",
              "  </tbody>\n",
              "</table>\n",
              "<p>183 rows × 4 columns</p>\n",
              "</div>"
            ],
            "text/plain": [
              "                   Name                 Domain          Event1          Event2\n",
              "0           Bryan Brock             Management            Jobs      Hackathons\n",
              "1       Joseph Sullivan                 Coding  Certifications        Webinars\n",
              "2         Sherri Dawson               Security     Internships           Fests\n",
              "3       Dustin Ferguson               Hardware    Competitions        Webinars\n",
              "4           Kayla Young        Web Development           Expos  Certifications\n",
              "..                  ...                    ...             ...             ...\n",
              "178      Katelyn Barnes                 Coding         Courses        Webinars\n",
              "179        Gabriel Cruz                  Other           Talks           Fests\n",
              "180  Christina Williams  Software Architecture           Talks           Fests\n",
              "181      William Turner  Development Processes       Trainings        Seminars\n",
              "182          Damon Lane                      C        Seminars     Internships\n",
              "\n",
              "[183 rows x 4 columns]"
            ]
          },
          "metadata": {
            "tags": []
          },
          "execution_count": 107
        }
      ]
    },
    {
      "cell_type": "code",
      "metadata": {
        "id": "5Vt1iPcS58Hl",
        "colab_type": "code",
        "colab": {
          "base_uri": "https://localhost:8080/",
          "height": 408
        },
        "outputId": "89324f93-67a7-46d4-d518-2cd3b921ef63"
      },
      "source": [
        "Domain = sorted(Employee_Preference_Data.Domain.unique())\n",
        "#print(str(len(Domain)) + ' Total Domains')\n",
        "Domain"
      ],
      "execution_count": 108,
      "outputs": [
        {
          "output_type": "execute_result",
          "data": {
            "text/plain": [
              "['Artificial Intelligence',\n",
              " 'Blockchain',\n",
              " 'C',\n",
              " 'C++',\n",
              " 'Cloud Computing',\n",
              " 'Coding',\n",
              " 'Data Science',\n",
              " 'Development Processes',\n",
              " 'Finance',\n",
              " 'Hardware',\n",
              " 'Higher Education',\n",
              " 'IoT',\n",
              " 'Java',\n",
              " 'JavaScript',\n",
              " 'Machine Learning',\n",
              " 'Management',\n",
              " 'Mobile Applications',\n",
              " 'Networking',\n",
              " 'Other',\n",
              " 'Python',\n",
              " 'Security',\n",
              " 'Software Architecture',\n",
              " 'Web Development']"
            ]
          },
          "metadata": {
            "tags": []
          },
          "execution_count": 108
        }
      ]
    },
    {
      "cell_type": "code",
      "metadata": {
        "id": "mGAd6LVHRnXj",
        "colab_type": "code",
        "colab": {
          "base_uri": "https://localhost:8080/",
          "height": 34
        },
        "outputId": "7bdbdbf3-7b15-48fb-a340-408412fa75c0"
      },
      "source": [
        "Event1 = Employee_Preference_Data.Event1.unique()\n",
        "Event1"
      ],
      "execution_count": 109,
      "outputs": [
        {
          "output_type": "execute_result",
          "data": {
            "text/plain": [
              "array(['Jobs', 'Certifications', 'Internships', 'Competitions', 'Expos', 'Workshops', 'Trainings', 'Seminars', 'Hackathons', 'Fests', 'Talks', 'Webinars', 'Courses'], dtype=object)"
            ]
          },
          "metadata": {
            "tags": []
          },
          "execution_count": 109
        }
      ]
    },
    {
      "cell_type": "code",
      "metadata": {
        "id": "Pw6UbPqrSN5k",
        "colab_type": "code",
        "colab": {
          "base_uri": "https://localhost:8080/",
          "height": 34
        },
        "outputId": "d0a3b200-f232-491f-af6e-e4c1a44bbe97"
      },
      "source": [
        "Event2 = Employee_Preference_Data.Event2.unique()\n",
        "Event2"
      ],
      "execution_count": 110,
      "outputs": [
        {
          "output_type": "execute_result",
          "data": {
            "text/plain": [
              "array(['Hackathons', 'Webinars', 'Fests', 'Certifications', 'Seminars', 'Courses', 'Expos', 'Jobs', 'Trainings', 'Internships', 'Competitions', 'Talks', 'Workshops'], dtype=object)"
            ]
          },
          "metadata": {
            "tags": []
          },
          "execution_count": 110
        }
      ]
    },
    {
      "cell_type": "code",
      "metadata": {
        "id": "M1iWSFNESVYC",
        "colab_type": "code",
        "colab": {
          "base_uri": "https://localhost:8080/",
          "height": 238
        },
        "outputId": "51f4ec52-c656-415c-b141-00bb7d251d25"
      },
      "source": [
        "Events = set(Event1) | set(Event2)\n",
        "Events = sorted(list(Events))\n",
        "#print(str(len(Events))+ ' Total Events')\n",
        "Events"
      ],
      "execution_count": 111,
      "outputs": [
        {
          "output_type": "execute_result",
          "data": {
            "text/plain": [
              "['Certifications',\n",
              " 'Competitions',\n",
              " 'Courses',\n",
              " 'Expos',\n",
              " 'Fests',\n",
              " 'Hackathons',\n",
              " 'Internships',\n",
              " 'Jobs',\n",
              " 'Seminars',\n",
              " 'Talks',\n",
              " 'Trainings',\n",
              " 'Webinars',\n",
              " 'Workshops']"
            ]
          },
          "metadata": {
            "tags": []
          },
          "execution_count": 111
        }
      ]
    },
    {
      "cell_type": "code",
      "metadata": {
        "id": "dCTPeywP4YUo",
        "colab_type": "code",
        "colab": {}
      },
      "source": [
        "pd.options.display.max_colwidth=10000"
      ],
      "execution_count": 112,
      "outputs": []
    },
    {
      "cell_type": "markdown",
      "metadata": {
        "id": "KdjjbEBqIRYY",
        "colab_type": "text"
      },
      "source": [
        "# Preprocessing Input Events"
      ]
    },
    {
      "cell_type": "code",
      "metadata": {
        "id": "LMeYEJeIQhau",
        "colab_type": "code",
        "colab": {
          "base_uri": "https://localhost:8080/",
          "height": 638
        },
        "outputId": "fd026261-14a1-4cbd-8884-3ef3629ad3f1"
      },
      "source": [
        "input = pd.read_csv('input.csv')\n",
        "input"
      ],
      "execution_count": 113,
      "outputs": [
        {
          "output_type": "execute_result",
          "data": {
            "text/html": [
              "<div>\n",
              "<style scoped>\n",
              "    .dataframe tbody tr th:only-of-type {\n",
              "        vertical-align: middle;\n",
              "    }\n",
              "\n",
              "    .dataframe tbody tr th {\n",
              "        vertical-align: top;\n",
              "    }\n",
              "\n",
              "    .dataframe thead th {\n",
              "        text-align: right;\n",
              "    }\n",
              "</style>\n",
              "<table border=\"1\" class=\"dataframe\">\n",
              "  <thead>\n",
              "    <tr style=\"text-align: right;\">\n",
              "      <th></th>\n",
              "      <th>input_events</th>\n",
              "    </tr>\n",
              "  </thead>\n",
              "  <tbody>\n",
              "    <tr>\n",
              "      <th>0</th>\n",
              "      <td>Get a System Administration certification from PurpleHat today.</td>\n",
              "    </tr>\n",
              "    <tr>\n",
              "      <th>1</th>\n",
              "      <td>Lockdown special courses on Ydemi. 22 hours left!</td>\n",
              "    </tr>\n",
              "    <tr>\n",
              "      <th>2</th>\n",
              "      <td>CodeBoost codeathon is live now!</td>\n",
              "    </tr>\n",
              "    <tr>\n",
              "      <th>3</th>\n",
              "      <td>Attend the Computer Vision and Deep Learning Summit tomorrow</td>\n",
              "    </tr>\n",
              "    <tr>\n",
              "      <th>4</th>\n",
              "      <td>AI &amp; Big Data Expo in 36 hours</td>\n",
              "    </tr>\n",
              "    <tr>\n",
              "      <th>5</th>\n",
              "      <td>Book Online Tickets for workshops on C programming</td>\n",
              "    </tr>\n",
              "    <tr>\n",
              "      <th>6</th>\n",
              "      <td>Spoonshot is hiring a Work From Home - Data Science Internship for 6 months in Bengaluru</td>\n",
              "    </tr>\n",
              "    <tr>\n",
              "      <th>7</th>\n",
              "      <td>Java Training in Electronic city Bangalore</td>\n",
              "    </tr>\n",
              "    <tr>\n",
              "      <th>8</th>\n",
              "      <td>Ted Talk in the field of Security</td>\n",
              "    </tr>\n",
              "    <tr>\n",
              "      <th>9</th>\n",
              "      <td>Arrange a Machine Learning Workshop and Internship</td>\n",
              "    </tr>\n",
              "    <tr>\n",
              "      <th>10</th>\n",
              "      <td>Digital Marketing Workshop and Webinar</td>\n",
              "    </tr>\n",
              "    <tr>\n",
              "      <th>11</th>\n",
              "      <td>Advanced Certification in Open Banking from July 2020</td>\n",
              "    </tr>\n",
              "    <tr>\n",
              "      <th>12</th>\n",
              "      <td>Software development conference is designed for developers, team leads, architects, and project managers</td>\n",
              "    </tr>\n",
              "    <tr>\n",
              "      <th>13</th>\n",
              "      <td>Don't miss the Web Development Course in Pune</td>\n",
              "    </tr>\n",
              "    <tr>\n",
              "      <th>14</th>\n",
              "      <td>Bolt IoT and ML Innovation Training in August</td>\n",
              "    </tr>\n",
              "    <tr>\n",
              "      <th>15</th>\n",
              "      <td>Tech Savvy contest 2020 - The IOT Academy</td>\n",
              "    </tr>\n",
              "    <tr>\n",
              "      <th>16</th>\n",
              "      <td>Talk on the Role of Data analytics and Cloud Computing in Internet of Things 2020</td>\n",
              "    </tr>\n",
              "    <tr>\n",
              "      <th>17</th>\n",
              "      <td>Four days of hands-on security training followed by the two-day main conference covering the information security research</td>\n",
              "    </tr>\n",
              "    <tr>\n",
              "      <th>18</th>\n",
              "      <td>We are happy to invite you to the much anticipated AngularJS Hackathon!</td>\n",
              "    </tr>\n",
              "  </tbody>\n",
              "</table>\n",
              "</div>"
            ],
            "text/plain": [
              "                                                                                                                  input_events\n",
              "0                                                              Get a System Administration certification from PurpleHat today.\n",
              "1                                                                            Lockdown special courses on Ydemi. 22 hours left!\n",
              "2                                                                                             CodeBoost codeathon is live now!\n",
              "3                                                                 Attend the Computer Vision and Deep Learning Summit tomorrow\n",
              "4                                                                                               AI & Big Data Expo in 36 hours\n",
              "5                                                                           Book Online Tickets for workshops on C programming\n",
              "6                                     Spoonshot is hiring a Work From Home - Data Science Internship for 6 months in Bengaluru\n",
              "7                                                                                   Java Training in Electronic city Bangalore\n",
              "8                                                                                            Ted Talk in the field of Security\n",
              "9                                                                          Arrange a Machine Learning Workshop and Internship \n",
              "10                                                                                     Digital Marketing Workshop and Webinar \n",
              "11                                                                       Advanced Certification in Open Banking from July 2020\n",
              "12                    Software development conference is designed for developers, team leads, architects, and project managers\n",
              "13                                                                               Don't miss the Web Development Course in Pune\n",
              "14                                                                               Bolt IoT and ML Innovation Training in August\n",
              "15                                                                                   Tech Savvy contest 2020 - The IOT Academy\n",
              "16                                           Talk on the Role of Data analytics and Cloud Computing in Internet of Things 2020\n",
              "17  Four days of hands-on security training followed by the two-day main conference covering the information security research\n",
              "18                                                     We are happy to invite you to the much anticipated AngularJS Hackathon!"
            ]
          },
          "metadata": {
            "tags": []
          },
          "execution_count": 113
        }
      ]
    },
    {
      "cell_type": "code",
      "metadata": {
        "id": "SG35Ho8PS0e1",
        "colab_type": "code",
        "colab": {
          "base_uri": "https://localhost:8080/",
          "height": 638
        },
        "outputId": "ef50c2c0-59fc-40c2-d50a-84eedfab2205"
      },
      "source": [
        "preprocess = pd.DataFrame(columns=['input'])\n",
        "preprocess['input'] = input.iloc[:,0] #df.iloc[rows,columns]  (: means seecting all values of that dimension)\n",
        "#Lower Casing\n",
        "preprocess['input'] = preprocess['input'].str.lower()\n",
        "preprocess"
      ],
      "execution_count": 114,
      "outputs": [
        {
          "output_type": "execute_result",
          "data": {
            "text/html": [
              "<div>\n",
              "<style scoped>\n",
              "    .dataframe tbody tr th:only-of-type {\n",
              "        vertical-align: middle;\n",
              "    }\n",
              "\n",
              "    .dataframe tbody tr th {\n",
              "        vertical-align: top;\n",
              "    }\n",
              "\n",
              "    .dataframe thead th {\n",
              "        text-align: right;\n",
              "    }\n",
              "</style>\n",
              "<table border=\"1\" class=\"dataframe\">\n",
              "  <thead>\n",
              "    <tr style=\"text-align: right;\">\n",
              "      <th></th>\n",
              "      <th>input</th>\n",
              "    </tr>\n",
              "  </thead>\n",
              "  <tbody>\n",
              "    <tr>\n",
              "      <th>0</th>\n",
              "      <td>get a system administration certification from purplehat today.</td>\n",
              "    </tr>\n",
              "    <tr>\n",
              "      <th>1</th>\n",
              "      <td>lockdown special courses on ydemi. 22 hours left!</td>\n",
              "    </tr>\n",
              "    <tr>\n",
              "      <th>2</th>\n",
              "      <td>codeboost codeathon is live now!</td>\n",
              "    </tr>\n",
              "    <tr>\n",
              "      <th>3</th>\n",
              "      <td>attend the computer vision and deep learning summit tomorrow</td>\n",
              "    </tr>\n",
              "    <tr>\n",
              "      <th>4</th>\n",
              "      <td>ai &amp; big data expo in 36 hours</td>\n",
              "    </tr>\n",
              "    <tr>\n",
              "      <th>5</th>\n",
              "      <td>book online tickets for workshops on c programming</td>\n",
              "    </tr>\n",
              "    <tr>\n",
              "      <th>6</th>\n",
              "      <td>spoonshot is hiring a work from home - data science internship for 6 months in bengaluru</td>\n",
              "    </tr>\n",
              "    <tr>\n",
              "      <th>7</th>\n",
              "      <td>java training in electronic city bangalore</td>\n",
              "    </tr>\n",
              "    <tr>\n",
              "      <th>8</th>\n",
              "      <td>ted talk in the field of security</td>\n",
              "    </tr>\n",
              "    <tr>\n",
              "      <th>9</th>\n",
              "      <td>arrange a machine learning workshop and internship</td>\n",
              "    </tr>\n",
              "    <tr>\n",
              "      <th>10</th>\n",
              "      <td>digital marketing workshop and webinar</td>\n",
              "    </tr>\n",
              "    <tr>\n",
              "      <th>11</th>\n",
              "      <td>advanced certification in open banking from july 2020</td>\n",
              "    </tr>\n",
              "    <tr>\n",
              "      <th>12</th>\n",
              "      <td>software development conference is designed for developers, team leads, architects, and project managers</td>\n",
              "    </tr>\n",
              "    <tr>\n",
              "      <th>13</th>\n",
              "      <td>don't miss the web development course in pune</td>\n",
              "    </tr>\n",
              "    <tr>\n",
              "      <th>14</th>\n",
              "      <td>bolt iot and ml innovation training in august</td>\n",
              "    </tr>\n",
              "    <tr>\n",
              "      <th>15</th>\n",
              "      <td>tech savvy contest 2020 - the iot academy</td>\n",
              "    </tr>\n",
              "    <tr>\n",
              "      <th>16</th>\n",
              "      <td>talk on the role of data analytics and cloud computing in internet of things 2020</td>\n",
              "    </tr>\n",
              "    <tr>\n",
              "      <th>17</th>\n",
              "      <td>four days of hands-on security training followed by the two-day main conference covering the information security research</td>\n",
              "    </tr>\n",
              "    <tr>\n",
              "      <th>18</th>\n",
              "      <td>we are happy to invite you to the much anticipated angularjs hackathon!</td>\n",
              "    </tr>\n",
              "  </tbody>\n",
              "</table>\n",
              "</div>"
            ],
            "text/plain": [
              "                                                                                                                         input\n",
              "0                                                              get a system administration certification from purplehat today.\n",
              "1                                                                            lockdown special courses on ydemi. 22 hours left!\n",
              "2                                                                                             codeboost codeathon is live now!\n",
              "3                                                                 attend the computer vision and deep learning summit tomorrow\n",
              "4                                                                                               ai & big data expo in 36 hours\n",
              "5                                                                           book online tickets for workshops on c programming\n",
              "6                                     spoonshot is hiring a work from home - data science internship for 6 months in bengaluru\n",
              "7                                                                                   java training in electronic city bangalore\n",
              "8                                                                                            ted talk in the field of security\n",
              "9                                                                          arrange a machine learning workshop and internship \n",
              "10                                                                                     digital marketing workshop and webinar \n",
              "11                                                                       advanced certification in open banking from july 2020\n",
              "12                    software development conference is designed for developers, team leads, architects, and project managers\n",
              "13                                                                               don't miss the web development course in pune\n",
              "14                                                                               bolt iot and ml innovation training in august\n",
              "15                                                                                   tech savvy contest 2020 - the iot academy\n",
              "16                                           talk on the role of data analytics and cloud computing in internet of things 2020\n",
              "17  four days of hands-on security training followed by the two-day main conference covering the information security research\n",
              "18                                                     we are happy to invite you to the much anticipated angularjs hackathon!"
            ]
          },
          "metadata": {
            "tags": []
          },
          "execution_count": 114
        }
      ]
    },
    {
      "cell_type": "code",
      "metadata": {
        "id": "CCuTZpxbmNs2",
        "colab_type": "code",
        "colab": {
          "base_uri": "https://localhost:8080/",
          "height": 638
        },
        "outputId": "7151f4c3-cc23-4418-9b47-562b34f81a41"
      },
      "source": [
        "#Convert word numbers to digit\n",
        "preprocess['input'] = preprocess['input'].apply(lambda row: wordtodigits.convert(row))\n",
        "preprocess"
      ],
      "execution_count": 115,
      "outputs": [
        {
          "output_type": "execute_result",
          "data": {
            "text/html": [
              "<div>\n",
              "<style scoped>\n",
              "    .dataframe tbody tr th:only-of-type {\n",
              "        vertical-align: middle;\n",
              "    }\n",
              "\n",
              "    .dataframe tbody tr th {\n",
              "        vertical-align: top;\n",
              "    }\n",
              "\n",
              "    .dataframe thead th {\n",
              "        text-align: right;\n",
              "    }\n",
              "</style>\n",
              "<table border=\"1\" class=\"dataframe\">\n",
              "  <thead>\n",
              "    <tr style=\"text-align: right;\">\n",
              "      <th></th>\n",
              "      <th>input</th>\n",
              "    </tr>\n",
              "  </thead>\n",
              "  <tbody>\n",
              "    <tr>\n",
              "      <th>0</th>\n",
              "      <td>get a system administration certification from purplehat today.</td>\n",
              "    </tr>\n",
              "    <tr>\n",
              "      <th>1</th>\n",
              "      <td>lockdown special courses on ydemi. 22 hours left!</td>\n",
              "    </tr>\n",
              "    <tr>\n",
              "      <th>2</th>\n",
              "      <td>codeboost codeathon is live now!</td>\n",
              "    </tr>\n",
              "    <tr>\n",
              "      <th>3</th>\n",
              "      <td>attend the computer vision and deep learning summit tomorrow</td>\n",
              "    </tr>\n",
              "    <tr>\n",
              "      <th>4</th>\n",
              "      <td>ai &amp; big data expo in 36 hours</td>\n",
              "    </tr>\n",
              "    <tr>\n",
              "      <th>5</th>\n",
              "      <td>book online tickets for workshops on c programming</td>\n",
              "    </tr>\n",
              "    <tr>\n",
              "      <th>6</th>\n",
              "      <td>spoonshot is hiring a work from home - data science internship for 6 months in bengaluru</td>\n",
              "    </tr>\n",
              "    <tr>\n",
              "      <th>7</th>\n",
              "      <td>java training in electronic city bangalore</td>\n",
              "    </tr>\n",
              "    <tr>\n",
              "      <th>8</th>\n",
              "      <td>ted talk in the field of security</td>\n",
              "    </tr>\n",
              "    <tr>\n",
              "      <th>9</th>\n",
              "      <td>arrange a machine learning workshop and internship</td>\n",
              "    </tr>\n",
              "    <tr>\n",
              "      <th>10</th>\n",
              "      <td>digital marketing workshop and webinar</td>\n",
              "    </tr>\n",
              "    <tr>\n",
              "      <th>11</th>\n",
              "      <td>advanced certification in open banking from july 2020</td>\n",
              "    </tr>\n",
              "    <tr>\n",
              "      <th>12</th>\n",
              "      <td>software development conference is designed for developers, team leads, architects, and project managers</td>\n",
              "    </tr>\n",
              "    <tr>\n",
              "      <th>13</th>\n",
              "      <td>don't miss the web development course in pune</td>\n",
              "    </tr>\n",
              "    <tr>\n",
              "      <th>14</th>\n",
              "      <td>bolt iot and ml innovation training in august</td>\n",
              "    </tr>\n",
              "    <tr>\n",
              "      <th>15</th>\n",
              "      <td>tech savvy contest 2020 - the iot academy</td>\n",
              "    </tr>\n",
              "    <tr>\n",
              "      <th>16</th>\n",
              "      <td>talk on the role of data analytics and cloud computing in internet of things 2020</td>\n",
              "    </tr>\n",
              "    <tr>\n",
              "      <th>17</th>\n",
              "      <td>4 days of hands-on security training followed by the two-day main conference covering the information security research</td>\n",
              "    </tr>\n",
              "    <tr>\n",
              "      <th>18</th>\n",
              "      <td>we are happy to invite you to the much anticipated angularjs hackathon!</td>\n",
              "    </tr>\n",
              "  </tbody>\n",
              "</table>\n",
              "</div>"
            ],
            "text/plain": [
              "                                                                                                                      input\n",
              "0                                                           get a system administration certification from purplehat today.\n",
              "1                                                                         lockdown special courses on ydemi. 22 hours left!\n",
              "2                                                                                          codeboost codeathon is live now!\n",
              "3                                                              attend the computer vision and deep learning summit tomorrow\n",
              "4                                                                                            ai & big data expo in 36 hours\n",
              "5                                                                        book online tickets for workshops on c programming\n",
              "6                                  spoonshot is hiring a work from home - data science internship for 6 months in bengaluru\n",
              "7                                                                                java training in electronic city bangalore\n",
              "8                                                                                         ted talk in the field of security\n",
              "9                                                                        arrange a machine learning workshop and internship\n",
              "10                                                                                   digital marketing workshop and webinar\n",
              "11                                                                    advanced certification in open banking from july 2020\n",
              "12                 software development conference is designed for developers, team leads, architects, and project managers\n",
              "13                                                                            don't miss the web development course in pune\n",
              "14                                                                            bolt iot and ml innovation training in august\n",
              "15                                                                                tech savvy contest 2020 - the iot academy\n",
              "16                                        talk on the role of data analytics and cloud computing in internet of things 2020\n",
              "17  4 days of hands-on security training followed by the two-day main conference covering the information security research\n",
              "18                                                  we are happy to invite you to the much anticipated angularjs hackathon!"
            ]
          },
          "metadata": {
            "tags": []
          },
          "execution_count": 115
        }
      ]
    },
    {
      "cell_type": "code",
      "metadata": {
        "id": "jNd1xfm5x2av",
        "colab_type": "code",
        "colab": {
          "base_uri": "https://localhost:8080/",
          "height": 672
        },
        "outputId": "fa468a3a-e45f-4ae3-e9ed-dbb0f4318a1b"
      },
      "source": [
        "#removing stopwords\n",
        "nltk.download('stopwords') \n",
        "from nltk.corpus import stopwords\n",
        "stop_words = stopwords.words('english')\n",
        "newStopWords = [\"day\",\"hour\",\"month\",\"days\",\"months\",\"hours\"] #adding more stopwords\n",
        "stop_words.extend(newStopWords)\n",
        "preprocess['input'] = preprocess['input'].apply(lambda x: ' '.join([word for word in x.split() if word not in (stop_words)]))\n",
        "preprocess"
      ],
      "execution_count": 116,
      "outputs": [
        {
          "output_type": "stream",
          "text": [
            "[nltk_data] Downloading package stopwords to /root/nltk_data...\n",
            "[nltk_data]   Package stopwords is already up-to-date!\n"
          ],
          "name": "stdout"
        },
        {
          "output_type": "execute_result",
          "data": {
            "text/html": [
              "<div>\n",
              "<style scoped>\n",
              "    .dataframe tbody tr th:only-of-type {\n",
              "        vertical-align: middle;\n",
              "    }\n",
              "\n",
              "    .dataframe tbody tr th {\n",
              "        vertical-align: top;\n",
              "    }\n",
              "\n",
              "    .dataframe thead th {\n",
              "        text-align: right;\n",
              "    }\n",
              "</style>\n",
              "<table border=\"1\" class=\"dataframe\">\n",
              "  <thead>\n",
              "    <tr style=\"text-align: right;\">\n",
              "      <th></th>\n",
              "      <th>input</th>\n",
              "    </tr>\n",
              "  </thead>\n",
              "  <tbody>\n",
              "    <tr>\n",
              "      <th>0</th>\n",
              "      <td>get system administration certification purplehat today.</td>\n",
              "    </tr>\n",
              "    <tr>\n",
              "      <th>1</th>\n",
              "      <td>lockdown special courses ydemi. 22 left!</td>\n",
              "    </tr>\n",
              "    <tr>\n",
              "      <th>2</th>\n",
              "      <td>codeboost codeathon live now!</td>\n",
              "    </tr>\n",
              "    <tr>\n",
              "      <th>3</th>\n",
              "      <td>attend computer vision deep learning summit tomorrow</td>\n",
              "    </tr>\n",
              "    <tr>\n",
              "      <th>4</th>\n",
              "      <td>ai &amp; big data expo 36</td>\n",
              "    </tr>\n",
              "    <tr>\n",
              "      <th>5</th>\n",
              "      <td>book online tickets workshops c programming</td>\n",
              "    </tr>\n",
              "    <tr>\n",
              "      <th>6</th>\n",
              "      <td>spoonshot hiring work home - data science internship 6 bengaluru</td>\n",
              "    </tr>\n",
              "    <tr>\n",
              "      <th>7</th>\n",
              "      <td>java training electronic city bangalore</td>\n",
              "    </tr>\n",
              "    <tr>\n",
              "      <th>8</th>\n",
              "      <td>ted talk field security</td>\n",
              "    </tr>\n",
              "    <tr>\n",
              "      <th>9</th>\n",
              "      <td>arrange machine learning workshop internship</td>\n",
              "    </tr>\n",
              "    <tr>\n",
              "      <th>10</th>\n",
              "      <td>digital marketing workshop webinar</td>\n",
              "    </tr>\n",
              "    <tr>\n",
              "      <th>11</th>\n",
              "      <td>advanced certification open banking july 2020</td>\n",
              "    </tr>\n",
              "    <tr>\n",
              "      <th>12</th>\n",
              "      <td>software development conference designed developers, team leads, architects, project managers</td>\n",
              "    </tr>\n",
              "    <tr>\n",
              "      <th>13</th>\n",
              "      <td>miss web development course pune</td>\n",
              "    </tr>\n",
              "    <tr>\n",
              "      <th>14</th>\n",
              "      <td>bolt iot ml innovation training august</td>\n",
              "    </tr>\n",
              "    <tr>\n",
              "      <th>15</th>\n",
              "      <td>tech savvy contest 2020 - iot academy</td>\n",
              "    </tr>\n",
              "    <tr>\n",
              "      <th>16</th>\n",
              "      <td>talk role data analytics cloud computing internet things 2020</td>\n",
              "    </tr>\n",
              "    <tr>\n",
              "      <th>17</th>\n",
              "      <td>4 hands-on security training followed two-day main conference covering information security research</td>\n",
              "    </tr>\n",
              "    <tr>\n",
              "      <th>18</th>\n",
              "      <td>happy invite much anticipated angularjs hackathon!</td>\n",
              "    </tr>\n",
              "  </tbody>\n",
              "</table>\n",
              "</div>"
            ],
            "text/plain": [
              "                                                                                                   input\n",
              "0                                               get system administration certification purplehat today.\n",
              "1                                                               lockdown special courses ydemi. 22 left!\n",
              "2                                                                          codeboost codeathon live now!\n",
              "3                                                   attend computer vision deep learning summit tomorrow\n",
              "4                                                                                  ai & big data expo 36\n",
              "5                                                            book online tickets workshops c programming\n",
              "6                                       spoonshot hiring work home - data science internship 6 bengaluru\n",
              "7                                                                java training electronic city bangalore\n",
              "8                                                                                ted talk field security\n",
              "9                                                           arrange machine learning workshop internship\n",
              "10                                                                    digital marketing workshop webinar\n",
              "11                                                         advanced certification open banking july 2020\n",
              "12         software development conference designed developers, team leads, architects, project managers\n",
              "13                                                                      miss web development course pune\n",
              "14                                                                bolt iot ml innovation training august\n",
              "15                                                                 tech savvy contest 2020 - iot academy\n",
              "16                                         talk role data analytics cloud computing internet things 2020\n",
              "17  4 hands-on security training followed two-day main conference covering information security research\n",
              "18                                                    happy invite much anticipated angularjs hackathon!"
            ]
          },
          "metadata": {
            "tags": []
          },
          "execution_count": 116
        }
      ]
    },
    {
      "cell_type": "code",
      "metadata": {
        "id": "gZoEAZ1DI_TI",
        "colab_type": "code",
        "colab": {
          "base_uri": "https://localhost:8080/",
          "height": 638
        },
        "outputId": "dab26139-3644-4f01-b4ce-aeb0d434a21a"
      },
      "source": [
        "#Removing punctuation marks with python RegEx(Regular Expression) \n",
        "# [] - A set of characters\n",
        "# \\w - Returns a match where the string contains any word characters (characters from a to Z, digits from 0-9, and the underscore _ character)\n",
        "# \\s - Returns a match where the string contains a white space character\n",
        "preprocess['input'] = preprocess['input'].str.replace('[^\\w\\s]','')  \n",
        "preprocess"
      ],
      "execution_count": 117,
      "outputs": [
        {
          "output_type": "execute_result",
          "data": {
            "text/html": [
              "<div>\n",
              "<style scoped>\n",
              "    .dataframe tbody tr th:only-of-type {\n",
              "        vertical-align: middle;\n",
              "    }\n",
              "\n",
              "    .dataframe tbody tr th {\n",
              "        vertical-align: top;\n",
              "    }\n",
              "\n",
              "    .dataframe thead th {\n",
              "        text-align: right;\n",
              "    }\n",
              "</style>\n",
              "<table border=\"1\" class=\"dataframe\">\n",
              "  <thead>\n",
              "    <tr style=\"text-align: right;\">\n",
              "      <th></th>\n",
              "      <th>input</th>\n",
              "    </tr>\n",
              "  </thead>\n",
              "  <tbody>\n",
              "    <tr>\n",
              "      <th>0</th>\n",
              "      <td>get system administration certification purplehat today</td>\n",
              "    </tr>\n",
              "    <tr>\n",
              "      <th>1</th>\n",
              "      <td>lockdown special courses ydemi 22 left</td>\n",
              "    </tr>\n",
              "    <tr>\n",
              "      <th>2</th>\n",
              "      <td>codeboost codeathon live now</td>\n",
              "    </tr>\n",
              "    <tr>\n",
              "      <th>3</th>\n",
              "      <td>attend computer vision deep learning summit tomorrow</td>\n",
              "    </tr>\n",
              "    <tr>\n",
              "      <th>4</th>\n",
              "      <td>ai  big data expo 36</td>\n",
              "    </tr>\n",
              "    <tr>\n",
              "      <th>5</th>\n",
              "      <td>book online tickets workshops c programming</td>\n",
              "    </tr>\n",
              "    <tr>\n",
              "      <th>6</th>\n",
              "      <td>spoonshot hiring work home  data science internship 6 bengaluru</td>\n",
              "    </tr>\n",
              "    <tr>\n",
              "      <th>7</th>\n",
              "      <td>java training electronic city bangalore</td>\n",
              "    </tr>\n",
              "    <tr>\n",
              "      <th>8</th>\n",
              "      <td>ted talk field security</td>\n",
              "    </tr>\n",
              "    <tr>\n",
              "      <th>9</th>\n",
              "      <td>arrange machine learning workshop internship</td>\n",
              "    </tr>\n",
              "    <tr>\n",
              "      <th>10</th>\n",
              "      <td>digital marketing workshop webinar</td>\n",
              "    </tr>\n",
              "    <tr>\n",
              "      <th>11</th>\n",
              "      <td>advanced certification open banking july 2020</td>\n",
              "    </tr>\n",
              "    <tr>\n",
              "      <th>12</th>\n",
              "      <td>software development conference designed developers team leads architects project managers</td>\n",
              "    </tr>\n",
              "    <tr>\n",
              "      <th>13</th>\n",
              "      <td>miss web development course pune</td>\n",
              "    </tr>\n",
              "    <tr>\n",
              "      <th>14</th>\n",
              "      <td>bolt iot ml innovation training august</td>\n",
              "    </tr>\n",
              "    <tr>\n",
              "      <th>15</th>\n",
              "      <td>tech savvy contest 2020  iot academy</td>\n",
              "    </tr>\n",
              "    <tr>\n",
              "      <th>16</th>\n",
              "      <td>talk role data analytics cloud computing internet things 2020</td>\n",
              "    </tr>\n",
              "    <tr>\n",
              "      <th>17</th>\n",
              "      <td>4 handson security training followed twoday main conference covering information security research</td>\n",
              "    </tr>\n",
              "    <tr>\n",
              "      <th>18</th>\n",
              "      <td>happy invite much anticipated angularjs hackathon</td>\n",
              "    </tr>\n",
              "  </tbody>\n",
              "</table>\n",
              "</div>"
            ],
            "text/plain": [
              "                                                                                                 input\n",
              "0                                              get system administration certification purplehat today\n",
              "1                                                               lockdown special courses ydemi 22 left\n",
              "2                                                                         codeboost codeathon live now\n",
              "3                                                 attend computer vision deep learning summit tomorrow\n",
              "4                                                                                 ai  big data expo 36\n",
              "5                                                          book online tickets workshops c programming\n",
              "6                                      spoonshot hiring work home  data science internship 6 bengaluru\n",
              "7                                                              java training electronic city bangalore\n",
              "8                                                                              ted talk field security\n",
              "9                                                         arrange machine learning workshop internship\n",
              "10                                                                  digital marketing workshop webinar\n",
              "11                                                       advanced certification open banking july 2020\n",
              "12          software development conference designed developers team leads architects project managers\n",
              "13                                                                    miss web development course pune\n",
              "14                                                              bolt iot ml innovation training august\n",
              "15                                                                tech savvy contest 2020  iot academy\n",
              "16                                       talk role data analytics cloud computing internet things 2020\n",
              "17  4 handson security training followed twoday main conference covering information security research\n",
              "18                                                   happy invite much anticipated angularjs hackathon"
            ]
          },
          "metadata": {
            "tags": []
          },
          "execution_count": 117
        }
      ]
    },
    {
      "cell_type": "code",
      "metadata": {
        "id": "pL0uSiE8gxqY",
        "colab_type": "code",
        "colab": {
          "base_uri": "https://localhost:8080/",
          "height": 638
        },
        "outputId": "d9c5c781-2f64-4c9c-ea30-823a018a5c68"
      },
      "source": [
        "#removing numbers\n",
        "preprocess['input'] = preprocess['input'].str.replace(r'\\d+','')\n",
        "preprocess"
      ],
      "execution_count": 118,
      "outputs": [
        {
          "output_type": "execute_result",
          "data": {
            "text/html": [
              "<div>\n",
              "<style scoped>\n",
              "    .dataframe tbody tr th:only-of-type {\n",
              "        vertical-align: middle;\n",
              "    }\n",
              "\n",
              "    .dataframe tbody tr th {\n",
              "        vertical-align: top;\n",
              "    }\n",
              "\n",
              "    .dataframe thead th {\n",
              "        text-align: right;\n",
              "    }\n",
              "</style>\n",
              "<table border=\"1\" class=\"dataframe\">\n",
              "  <thead>\n",
              "    <tr style=\"text-align: right;\">\n",
              "      <th></th>\n",
              "      <th>input</th>\n",
              "    </tr>\n",
              "  </thead>\n",
              "  <tbody>\n",
              "    <tr>\n",
              "      <th>0</th>\n",
              "      <td>get system administration certification purplehat today</td>\n",
              "    </tr>\n",
              "    <tr>\n",
              "      <th>1</th>\n",
              "      <td>lockdown special courses ydemi  left</td>\n",
              "    </tr>\n",
              "    <tr>\n",
              "      <th>2</th>\n",
              "      <td>codeboost codeathon live now</td>\n",
              "    </tr>\n",
              "    <tr>\n",
              "      <th>3</th>\n",
              "      <td>attend computer vision deep learning summit tomorrow</td>\n",
              "    </tr>\n",
              "    <tr>\n",
              "      <th>4</th>\n",
              "      <td>ai  big data expo</td>\n",
              "    </tr>\n",
              "    <tr>\n",
              "      <th>5</th>\n",
              "      <td>book online tickets workshops c programming</td>\n",
              "    </tr>\n",
              "    <tr>\n",
              "      <th>6</th>\n",
              "      <td>spoonshot hiring work home  data science internship  bengaluru</td>\n",
              "    </tr>\n",
              "    <tr>\n",
              "      <th>7</th>\n",
              "      <td>java training electronic city bangalore</td>\n",
              "    </tr>\n",
              "    <tr>\n",
              "      <th>8</th>\n",
              "      <td>ted talk field security</td>\n",
              "    </tr>\n",
              "    <tr>\n",
              "      <th>9</th>\n",
              "      <td>arrange machine learning workshop internship</td>\n",
              "    </tr>\n",
              "    <tr>\n",
              "      <th>10</th>\n",
              "      <td>digital marketing workshop webinar</td>\n",
              "    </tr>\n",
              "    <tr>\n",
              "      <th>11</th>\n",
              "      <td>advanced certification open banking july</td>\n",
              "    </tr>\n",
              "    <tr>\n",
              "      <th>12</th>\n",
              "      <td>software development conference designed developers team leads architects project managers</td>\n",
              "    </tr>\n",
              "    <tr>\n",
              "      <th>13</th>\n",
              "      <td>miss web development course pune</td>\n",
              "    </tr>\n",
              "    <tr>\n",
              "      <th>14</th>\n",
              "      <td>bolt iot ml innovation training august</td>\n",
              "    </tr>\n",
              "    <tr>\n",
              "      <th>15</th>\n",
              "      <td>tech savvy contest   iot academy</td>\n",
              "    </tr>\n",
              "    <tr>\n",
              "      <th>16</th>\n",
              "      <td>talk role data analytics cloud computing internet things</td>\n",
              "    </tr>\n",
              "    <tr>\n",
              "      <th>17</th>\n",
              "      <td>handson security training followed twoday main conference covering information security research</td>\n",
              "    </tr>\n",
              "    <tr>\n",
              "      <th>18</th>\n",
              "      <td>happy invite much anticipated angularjs hackathon</td>\n",
              "    </tr>\n",
              "  </tbody>\n",
              "</table>\n",
              "</div>"
            ],
            "text/plain": [
              "                                                                                                input\n",
              "0                                             get system administration certification purplehat today\n",
              "1                                                                lockdown special courses ydemi  left\n",
              "2                                                                        codeboost codeathon live now\n",
              "3                                                attend computer vision deep learning summit tomorrow\n",
              "4                                                                                  ai  big data expo \n",
              "5                                                         book online tickets workshops c programming\n",
              "6                                      spoonshot hiring work home  data science internship  bengaluru\n",
              "7                                                             java training electronic city bangalore\n",
              "8                                                                             ted talk field security\n",
              "9                                                        arrange machine learning workshop internship\n",
              "10                                                                 digital marketing workshop webinar\n",
              "11                                                          advanced certification open banking july \n",
              "12         software development conference designed developers team leads architects project managers\n",
              "13                                                                   miss web development course pune\n",
              "14                                                             bolt iot ml innovation training august\n",
              "15                                                                   tech savvy contest   iot academy\n",
              "16                                          talk role data analytics cloud computing internet things \n",
              "17   handson security training followed twoday main conference covering information security research\n",
              "18                                                  happy invite much anticipated angularjs hackathon"
            ]
          },
          "metadata": {
            "tags": []
          },
          "execution_count": 118
        }
      ]
    },
    {
      "cell_type": "code",
      "metadata": {
        "id": "gGhn3NbkVQGo",
        "colab_type": "code",
        "colab": {
          "base_uri": "https://localhost:8080/",
          "height": 68
        },
        "outputId": "15476e17-f532-46a2-9ee5-340298078119"
      },
      "source": [
        "nltk.download('punkt') #module required for ngrams tokenizer"
      ],
      "execution_count": 119,
      "outputs": [
        {
          "output_type": "stream",
          "text": [
            "[nltk_data] Downloading package punkt to /root/nltk_data...\n",
            "[nltk_data]   Package punkt is already up-to-date!\n"
          ],
          "name": "stdout"
        },
        {
          "output_type": "execute_result",
          "data": {
            "text/plain": [
              "True"
            ]
          },
          "metadata": {
            "tags": []
          },
          "execution_count": 119
        }
      ]
    },
    {
      "cell_type": "code",
      "metadata": {
        "id": "kpIO99CxRa9L",
        "colab_type": "code",
        "colab": {}
      },
      "source": [
        "#FUNCTION to generate n-grams from sentences.\n",
        "def extract_ngrams(data, num):\n",
        "    n_grams = nltk.ngrams(nltk.word_tokenize(data), num)\n",
        "    return [ ' '.join(grams) for grams in n_grams]"
      ],
      "execution_count": 120,
      "outputs": []
    },
    {
      "cell_type": "code",
      "metadata": {
        "id": "LtR3NHrgdWix",
        "colab_type": "code",
        "colab": {
          "base_uri": "https://localhost:8080/",
          "height": 638
        },
        "outputId": "a0716bb5-d44e-488a-9710-ede6d5307601"
      },
      "source": [
        "preprocessUnigram = pd.DataFrame(columns=['input'])\n",
        "preprocessUnigram['input'] = preprocess['input'].apply(lambda row: extract_ngrams(row, 1))\n",
        "preprocessUnigram"
      ],
      "execution_count": 121,
      "outputs": [
        {
          "output_type": "execute_result",
          "data": {
            "text/html": [
              "<div>\n",
              "<style scoped>\n",
              "    .dataframe tbody tr th:only-of-type {\n",
              "        vertical-align: middle;\n",
              "    }\n",
              "\n",
              "    .dataframe tbody tr th {\n",
              "        vertical-align: top;\n",
              "    }\n",
              "\n",
              "    .dataframe thead th {\n",
              "        text-align: right;\n",
              "    }\n",
              "</style>\n",
              "<table border=\"1\" class=\"dataframe\">\n",
              "  <thead>\n",
              "    <tr style=\"text-align: right;\">\n",
              "      <th></th>\n",
              "      <th>input</th>\n",
              "    </tr>\n",
              "  </thead>\n",
              "  <tbody>\n",
              "    <tr>\n",
              "      <th>0</th>\n",
              "      <td>[get, system, administration, certification, purplehat, today]</td>\n",
              "    </tr>\n",
              "    <tr>\n",
              "      <th>1</th>\n",
              "      <td>[lockdown, special, courses, ydemi, left]</td>\n",
              "    </tr>\n",
              "    <tr>\n",
              "      <th>2</th>\n",
              "      <td>[codeboost, codeathon, live, now]</td>\n",
              "    </tr>\n",
              "    <tr>\n",
              "      <th>3</th>\n",
              "      <td>[attend, computer, vision, deep, learning, summit, tomorrow]</td>\n",
              "    </tr>\n",
              "    <tr>\n",
              "      <th>4</th>\n",
              "      <td>[ai, big, data, expo]</td>\n",
              "    </tr>\n",
              "    <tr>\n",
              "      <th>5</th>\n",
              "      <td>[book, online, tickets, workshops, c, programming]</td>\n",
              "    </tr>\n",
              "    <tr>\n",
              "      <th>6</th>\n",
              "      <td>[spoonshot, hiring, work, home, data, science, internship, bengaluru]</td>\n",
              "    </tr>\n",
              "    <tr>\n",
              "      <th>7</th>\n",
              "      <td>[java, training, electronic, city, bangalore]</td>\n",
              "    </tr>\n",
              "    <tr>\n",
              "      <th>8</th>\n",
              "      <td>[ted, talk, field, security]</td>\n",
              "    </tr>\n",
              "    <tr>\n",
              "      <th>9</th>\n",
              "      <td>[arrange, machine, learning, workshop, internship]</td>\n",
              "    </tr>\n",
              "    <tr>\n",
              "      <th>10</th>\n",
              "      <td>[digital, marketing, workshop, webinar]</td>\n",
              "    </tr>\n",
              "    <tr>\n",
              "      <th>11</th>\n",
              "      <td>[advanced, certification, open, banking, july]</td>\n",
              "    </tr>\n",
              "    <tr>\n",
              "      <th>12</th>\n",
              "      <td>[software, development, conference, designed, developers, team, leads, architects, project, managers]</td>\n",
              "    </tr>\n",
              "    <tr>\n",
              "      <th>13</th>\n",
              "      <td>[miss, web, development, course, pune]</td>\n",
              "    </tr>\n",
              "    <tr>\n",
              "      <th>14</th>\n",
              "      <td>[bolt, iot, ml, innovation, training, august]</td>\n",
              "    </tr>\n",
              "    <tr>\n",
              "      <th>15</th>\n",
              "      <td>[tech, savvy, contest, iot, academy]</td>\n",
              "    </tr>\n",
              "    <tr>\n",
              "      <th>16</th>\n",
              "      <td>[talk, role, data, analytics, cloud, computing, internet, things]</td>\n",
              "    </tr>\n",
              "    <tr>\n",
              "      <th>17</th>\n",
              "      <td>[handson, security, training, followed, twoday, main, conference, covering, information, security, research]</td>\n",
              "    </tr>\n",
              "    <tr>\n",
              "      <th>18</th>\n",
              "      <td>[happy, invite, much, anticipated, angularjs, hackathon]</td>\n",
              "    </tr>\n",
              "  </tbody>\n",
              "</table>\n",
              "</div>"
            ],
            "text/plain": [
              "                                                                                                           input\n",
              "0                                                 [get, system, administration, certification, purplehat, today]\n",
              "1                                                                      [lockdown, special, courses, ydemi, left]\n",
              "2                                                                              [codeboost, codeathon, live, now]\n",
              "3                                                   [attend, computer, vision, deep, learning, summit, tomorrow]\n",
              "4                                                                                          [ai, big, data, expo]\n",
              "5                                                             [book, online, tickets, workshops, c, programming]\n",
              "6                                          [spoonshot, hiring, work, home, data, science, internship, bengaluru]\n",
              "7                                                                  [java, training, electronic, city, bangalore]\n",
              "8                                                                                   [ted, talk, field, security]\n",
              "9                                                             [arrange, machine, learning, workshop, internship]\n",
              "10                                                                       [digital, marketing, workshop, webinar]\n",
              "11                                                                [advanced, certification, open, banking, july]\n",
              "12         [software, development, conference, designed, developers, team, leads, architects, project, managers]\n",
              "13                                                                        [miss, web, development, course, pune]\n",
              "14                                                                 [bolt, iot, ml, innovation, training, august]\n",
              "15                                                                          [tech, savvy, contest, iot, academy]\n",
              "16                                             [talk, role, data, analytics, cloud, computing, internet, things]\n",
              "17  [handson, security, training, followed, twoday, main, conference, covering, information, security, research]\n",
              "18                                                      [happy, invite, much, anticipated, angularjs, hackathon]"
            ]
          },
          "metadata": {
            "tags": []
          },
          "execution_count": 121
        }
      ]
    },
    {
      "cell_type": "code",
      "metadata": {
        "id": "Nm1YhUSeQ0-d",
        "colab_type": "code",
        "colab": {
          "base_uri": "https://localhost:8080/",
          "height": 638
        },
        "outputId": "6d01a48d-7d04-4b79-87c7-4740c3864148"
      },
      "source": [
        "preprocessBigram = pd.DataFrame(columns=['input'])\n",
        "preprocessBigram['input'] = preprocess['input'].apply(lambda row: extract_ngrams(row, 2))\n",
        "preprocessBigram"
      ],
      "execution_count": 122,
      "outputs": [
        {
          "output_type": "execute_result",
          "data": {
            "text/html": [
              "<div>\n",
              "<style scoped>\n",
              "    .dataframe tbody tr th:only-of-type {\n",
              "        vertical-align: middle;\n",
              "    }\n",
              "\n",
              "    .dataframe tbody tr th {\n",
              "        vertical-align: top;\n",
              "    }\n",
              "\n",
              "    .dataframe thead th {\n",
              "        text-align: right;\n",
              "    }\n",
              "</style>\n",
              "<table border=\"1\" class=\"dataframe\">\n",
              "  <thead>\n",
              "    <tr style=\"text-align: right;\">\n",
              "      <th></th>\n",
              "      <th>input</th>\n",
              "    </tr>\n",
              "  </thead>\n",
              "  <tbody>\n",
              "    <tr>\n",
              "      <th>0</th>\n",
              "      <td>[get system, system administration, administration certification, certification purplehat, purplehat today]</td>\n",
              "    </tr>\n",
              "    <tr>\n",
              "      <th>1</th>\n",
              "      <td>[lockdown special, special courses, courses ydemi, ydemi left]</td>\n",
              "    </tr>\n",
              "    <tr>\n",
              "      <th>2</th>\n",
              "      <td>[codeboost codeathon, codeathon live, live now]</td>\n",
              "    </tr>\n",
              "    <tr>\n",
              "      <th>3</th>\n",
              "      <td>[attend computer, computer vision, vision deep, deep learning, learning summit, summit tomorrow]</td>\n",
              "    </tr>\n",
              "    <tr>\n",
              "      <th>4</th>\n",
              "      <td>[ai big, big data, data expo]</td>\n",
              "    </tr>\n",
              "    <tr>\n",
              "      <th>5</th>\n",
              "      <td>[book online, online tickets, tickets workshops, workshops c, c programming]</td>\n",
              "    </tr>\n",
              "    <tr>\n",
              "      <th>6</th>\n",
              "      <td>[spoonshot hiring, hiring work, work home, home data, data science, science internship, internship bengaluru]</td>\n",
              "    </tr>\n",
              "    <tr>\n",
              "      <th>7</th>\n",
              "      <td>[java training, training electronic, electronic city, city bangalore]</td>\n",
              "    </tr>\n",
              "    <tr>\n",
              "      <th>8</th>\n",
              "      <td>[ted talk, talk field, field security]</td>\n",
              "    </tr>\n",
              "    <tr>\n",
              "      <th>9</th>\n",
              "      <td>[arrange machine, machine learning, learning workshop, workshop internship]</td>\n",
              "    </tr>\n",
              "    <tr>\n",
              "      <th>10</th>\n",
              "      <td>[digital marketing, marketing workshop, workshop webinar]</td>\n",
              "    </tr>\n",
              "    <tr>\n",
              "      <th>11</th>\n",
              "      <td>[advanced certification, certification open, open banking, banking july]</td>\n",
              "    </tr>\n",
              "    <tr>\n",
              "      <th>12</th>\n",
              "      <td>[software development, development conference, conference designed, designed developers, developers team, team leads, leads architects, architects project, project managers]</td>\n",
              "    </tr>\n",
              "    <tr>\n",
              "      <th>13</th>\n",
              "      <td>[miss web, web development, development course, course pune]</td>\n",
              "    </tr>\n",
              "    <tr>\n",
              "      <th>14</th>\n",
              "      <td>[bolt iot, iot ml, ml innovation, innovation training, training august]</td>\n",
              "    </tr>\n",
              "    <tr>\n",
              "      <th>15</th>\n",
              "      <td>[tech savvy, savvy contest, contest iot, iot academy]</td>\n",
              "    </tr>\n",
              "    <tr>\n",
              "      <th>16</th>\n",
              "      <td>[talk role, role data, data analytics, analytics cloud, cloud computing, computing internet, internet things]</td>\n",
              "    </tr>\n",
              "    <tr>\n",
              "      <th>17</th>\n",
              "      <td>[handson security, security training, training followed, followed twoday, twoday main, main conference, conference covering, covering information, information security, security research]</td>\n",
              "    </tr>\n",
              "    <tr>\n",
              "      <th>18</th>\n",
              "      <td>[happy invite, invite much, much anticipated, anticipated angularjs, angularjs hackathon]</td>\n",
              "    </tr>\n",
              "  </tbody>\n",
              "</table>\n",
              "</div>"
            ],
            "text/plain": [
              "                                                                                                                                                                                          input\n",
              "0                                                                                   [get system, system administration, administration certification, certification purplehat, purplehat today]\n",
              "1                                                                                                                                [lockdown special, special courses, courses ydemi, ydemi left]\n",
              "2                                                                                                                                               [codeboost codeathon, codeathon live, live now]\n",
              "3                                                                                              [attend computer, computer vision, vision deep, deep learning, learning summit, summit tomorrow]\n",
              "4                                                                                                                                                                 [ai big, big data, data expo]\n",
              "5                                                                                                                  [book online, online tickets, tickets workshops, workshops c, c programming]\n",
              "6                                                                                 [spoonshot hiring, hiring work, work home, home data, data science, science internship, internship bengaluru]\n",
              "7                                                                                                                         [java training, training electronic, electronic city, city bangalore]\n",
              "8                                                                                                                                                        [ted talk, talk field, field security]\n",
              "9                                                                                                                   [arrange machine, machine learning, learning workshop, workshop internship]\n",
              "10                                                                                                                                    [digital marketing, marketing workshop, workshop webinar]\n",
              "11                                                                                                                     [advanced certification, certification open, open banking, banking july]\n",
              "12                [software development, development conference, conference designed, designed developers, developers team, team leads, leads architects, architects project, project managers]\n",
              "13                                                                                                                                 [miss web, web development, development course, course pune]\n",
              "14                                                                                                                      [bolt iot, iot ml, ml innovation, innovation training, training august]\n",
              "15                                                                                                                                        [tech savvy, savvy contest, contest iot, iot academy]\n",
              "16                                                                                [talk role, role data, data analytics, analytics cloud, cloud computing, computing internet, internet things]\n",
              "17  [handson security, security training, training followed, followed twoday, twoday main, main conference, conference covering, covering information, information security, security research]\n",
              "18                                                                                                    [happy invite, invite much, much anticipated, anticipated angularjs, angularjs hackathon]"
            ]
          },
          "metadata": {
            "tags": []
          },
          "execution_count": 122
        }
      ]
    },
    {
      "cell_type": "markdown",
      "metadata": {
        "id": "V_lmQ7asIjmu",
        "colab_type": "text"
      },
      "source": [
        "# Embedding of Preprocessed Input Events"
      ]
    },
    {
      "cell_type": "code",
      "metadata": {
        "id": "VSZPt0CkFCki",
        "colab_type": "code",
        "colab": {}
      },
      "source": [
        "#Loading Trained Text Embedding Model from Tensorflow\n",
        "embed = hub.load(\"https://tfhub.dev/google/nnlm-en-dim128-with-normalization/2\")"
      ],
      "execution_count": 123,
      "outputs": []
    },
    {
      "cell_type": "code",
      "metadata": {
        "id": "IzFywOoYUb-T",
        "colab_type": "code",
        "colab": {}
      },
      "source": [
        "#FUNCTION to convert strings in list to lowercase\n",
        "def list_to_lowercase(lst):\n",
        "    lst = list(map(lambda x: x.lower(), lst))\n",
        "    return lst"
      ],
      "execution_count": 124,
      "outputs": []
    },
    {
      "cell_type": "code",
      "metadata": {
        "id": "eyVxPwmkUPXz",
        "colab_type": "code",
        "colab": {
          "base_uri": "https://localhost:8080/",
          "height": 408
        },
        "outputId": "6ca6466b-20a3-421a-b87f-a280019ac7a5"
      },
      "source": [
        "#smaller case domains\n",
        "domain = list_to_lowercase(Domain)\n",
        "domain"
      ],
      "execution_count": 125,
      "outputs": [
        {
          "output_type": "execute_result",
          "data": {
            "text/plain": [
              "['artificial intelligence',\n",
              " 'blockchain',\n",
              " 'c',\n",
              " 'c++',\n",
              " 'cloud computing',\n",
              " 'coding',\n",
              " 'data science',\n",
              " 'development processes',\n",
              " 'finance',\n",
              " 'hardware',\n",
              " 'higher education',\n",
              " 'iot',\n",
              " 'java',\n",
              " 'javascript',\n",
              " 'machine learning',\n",
              " 'management',\n",
              " 'mobile applications',\n",
              " 'networking',\n",
              " 'other',\n",
              " 'python',\n",
              " 'security',\n",
              " 'software architecture',\n",
              " 'web development']"
            ]
          },
          "metadata": {
            "tags": []
          },
          "execution_count": 125
        }
      ]
    },
    {
      "cell_type": "code",
      "metadata": {
        "id": "PN1hMiIf3DT8",
        "colab_type": "code",
        "colab": {}
      },
      "source": [
        "p = inflect.engine() "
      ],
      "execution_count": 126,
      "outputs": []
    },
    {
      "cell_type": "code",
      "metadata": {
        "id": "EbmFdTGiVOS-",
        "colab_type": "code",
        "colab": {
          "base_uri": "https://localhost:8080/",
          "height": 238
        },
        "outputId": "c6392cda-d10f-4735-a9a1-48e98a78433b"
      },
      "source": [
        "#smaller case events and then convert to singular\n",
        "event = list_to_lowercase(Events)\n",
        "for i in range(len(event)):\n",
        "    event[i] = p.singular_noun(event[i]) \n",
        "event"
      ],
      "execution_count": 127,
      "outputs": [
        {
          "output_type": "execute_result",
          "data": {
            "text/plain": [
              "['certification',\n",
              " 'competition',\n",
              " 'course',\n",
              " 'expo',\n",
              " 'fest',\n",
              " 'hackathon',\n",
              " 'internship',\n",
              " 'job',\n",
              " 'seminar',\n",
              " 'talk',\n",
              " 'training',\n",
              " 'webinar',\n",
              " 'workshop']"
            ]
          },
          "metadata": {
            "tags": []
          },
          "execution_count": 127
        }
      ]
    },
    {
      "cell_type": "code",
      "metadata": {
        "id": "RmQtrKiqSi79",
        "colab_type": "code",
        "colab": {}
      },
      "source": [
        "#FUNCTION to Convert List to Numpy array with only 1 value in 1 row for Embedding input\n",
        "def convert_LISTtoNUMPY_for_Embedding(list):\n",
        "    array = np.array(list).reshape(-1,1) #shape(-1,1) -> (respective_no_of_rows, 1 column)\n",
        "    return array"
      ],
      "execution_count": 128,
      "outputs": []
    },
    {
      "cell_type": "code",
      "metadata": {
        "id": "gPuQDl9XKshY",
        "colab_type": "code",
        "colab": {
          "base_uri": "https://localhost:8080/",
          "height": 408
        },
        "outputId": "55ddf54c-6670-4b02-83bd-3a22c30b9103"
      },
      "source": [
        "#Convert Domain list to Numpy array with each value in one row for Embedding input\n",
        "domain_array = convert_LISTtoNUMPY_for_Embedding(domain)\n",
        "domain_array"
      ],
      "execution_count": 129,
      "outputs": [
        {
          "output_type": "execute_result",
          "data": {
            "text/plain": [
              "array([['artificial intelligence'],\n",
              "       ['blockchain'],\n",
              "       ['c'],\n",
              "       ['c++'],\n",
              "       ['cloud computing'],\n",
              "       ['coding'],\n",
              "       ['data science'],\n",
              "       ['development processes'],\n",
              "       ['finance'],\n",
              "       ['hardware'],\n",
              "       ['higher education'],\n",
              "       ['iot'],\n",
              "       ['java'],\n",
              "       ['javascript'],\n",
              "       ['machine learning'],\n",
              "       ['management'],\n",
              "       ['mobile applications'],\n",
              "       ['networking'],\n",
              "       ['other'],\n",
              "       ['python'],\n",
              "       ['security'],\n",
              "       ['software architecture'],\n",
              "       ['web development']], dtype='<U23')"
            ]
          },
          "metadata": {
            "tags": []
          },
          "execution_count": 129
        }
      ]
    },
    {
      "cell_type": "code",
      "metadata": {
        "id": "242CUFZrTm3H",
        "colab_type": "code",
        "colab": {
          "base_uri": "https://localhost:8080/",
          "height": 238
        },
        "outputId": "1f43bb08-3ec4-4f24-9baa-feb9d3c004c1"
      },
      "source": [
        "#Convert Event list to Numpy array with each value in one row for Embedding input\n",
        "event_array = convert_LISTtoNUMPY_for_Embedding(event)\n",
        "event_array"
      ],
      "execution_count": 130,
      "outputs": [
        {
          "output_type": "execute_result",
          "data": {
            "text/plain": [
              "array([['certification'],\n",
              "       ['competition'],\n",
              "       ['course'],\n",
              "       ['expo'],\n",
              "       ['fest'],\n",
              "       ['hackathon'],\n",
              "       ['internship'],\n",
              "       ['job'],\n",
              "       ['seminar'],\n",
              "       ['talk'],\n",
              "       ['training'],\n",
              "       ['webinar'],\n",
              "       ['workshop']], dtype='<U13')"
            ]
          },
          "metadata": {
            "tags": []
          },
          "execution_count": 130
        }
      ]
    },
    {
      "cell_type": "code",
      "metadata": {
        "id": "2ReYtbfWOHsh",
        "colab_type": "code",
        "colab": {}
      },
      "source": [
        "#FUNCTION to generate Embeddings for domain, events\n",
        "def Lst_embed(Lst , array):\n",
        "    Lst_embedding={}\n",
        "    for i in range(len(array)):\n",
        "        Lst_embedding[Lst[i]] = embed(array[i]).numpy()\n",
        "    return Lst_embedding"
      ],
      "execution_count": 131,
      "outputs": []
    },
    {
      "cell_type": "code",
      "metadata": {
        "id": "9o3kPRrhI7m8",
        "colab_type": "code",
        "colab": {}
      },
      "source": [
        "np.set_printoptions(edgeitems=5, linewidth=100000) #adjusting np array printing option to display one row vectors in one line"
      ],
      "execution_count": 132,
      "outputs": []
    },
    {
      "cell_type": "code",
      "metadata": {
        "id": "LECGdq2MHaYy",
        "colab_type": "code",
        "colab": {
          "base_uri": "https://localhost:8080/",
          "height": 428
        },
        "outputId": "64373b5a-0800-4978-db6b-2022687aba58"
      },
      "source": [
        "# Domain names(lowercase) to vector\n",
        "Domain_embedding = Lst_embed(Domain,domain_array)\n",
        "Domain_embedding"
      ],
      "execution_count": 133,
      "outputs": [
        {
          "output_type": "execute_result",
          "data": {
            "text/plain": [
              "{'Artificial Intelligence': array([[-0.02381875,  0.05594338, -0.07246269, -0.04354268, -0.04750569, -0.04718925, -0.00347527, -0.24177687, -0.03963751,  0.10682512,  0.06793644, -0.04864619, -0.01375441,  0.05176971, -0.19391337,  0.01247761, -0.04312132, -0.05439579,  0.03666145,  0.05388505,  0.10056886,  0.02378981,  0.03047369, -0.08116286,  0.08467728,  0.20824097,  0.1531769 ,  0.13950138,  0.09806154,  0.02888711, -0.04995367, -0.11170217,  0.05676451,  0.01363306,  0.04906087,  0.05782437,  0.06803175, -0.09751923,  0.03738473,  0.00217713, -0.06354721,  0.04211215, -0.0572245 ,  0.0718331 , -0.05395149, -0.06211198, -0.05455518,  0.01159068,  0.12673263,  0.0441965 ,  0.11889018, -0.00200013,  0.1356021 , -0.06100192, -0.04036981,  0.15302859, -0.01678325,  0.0034187 , -0.05341627,  0.00181504,  0.12422847, -0.05650365, -0.00933342,  0.01072138, -0.07174584,  0.11136372,  0.00601638, -0.00930537, -0.02702697,  0.00130041, -0.03623686, -0.05587099,  0.11041072,  0.05636852,  0.03566609,  0.1715788 , -0.05999418,  0.00376741,  0.01529406, -0.08450314, -0.02858091, -0.06263646, -0.12400179,  0.04285695,  0.05778379, -0.01563902, -0.06282235, -0.05318346, -0.09811047,  0.21519473, -0.00789954,  0.09986192,  0.01008442, -0.02950462,  0.06434207, -0.17060022,  0.14524601, -0.01772459, -0.0416764 ,  0.0540351 ,  0.07519103,  0.00972494,  0.03857595,  0.03076232,  0.03074364, -0.03557516,  0.02444468,  0.1563268 ,  0.12657507,  0.07524448,  0.04503784, -0.03102756, -0.12243289, -0.00747001,  0.01796314,  0.04507225,  0.12640303, -0.00335677,  0.11755718,  0.02387515,  0.00642201,  0.00913977, -0.04140591,  0.06196509, -0.07522037, -0.09353237,  0.01992749, -0.14751151]], dtype=float32),\n",
              " 'Blockchain': array([[-0.2386947 , -0.13033912, -0.02230424,  0.16754964, -0.17086451,  0.01366061, -0.05464397, -0.14844342,  0.11602819,  0.06536724,  0.20635279,  0.01082108,  0.07446451, -0.04888027, -0.02705953, -0.04164501, -0.1307304 , -0.04620517, -0.09148062, -0.10289863, -0.12524612,  0.0091282 , -0.03970917,  0.07140645, -0.11711019,  0.0281495 , -0.16557924, -0.05796862, -0.20028248,  0.08643992,  0.09552143,  0.16198842, -0.05212959,  0.00372544, -0.00036638, -0.03583326,  0.08137041, -0.0245439 ,  0.03242134,  0.01345002, -0.09866276,  0.20482115,  0.08387449, -0.02787515,  0.02510534, -0.05871398, -0.02455532,  0.07387245, -0.11983266, -0.06426125,  0.11890206,  0.02512819,  0.18416609,  0.05750979, -0.04773101,  0.02496861,  0.08750267, -0.01056346,  0.02815606, -0.09187099,  0.16037545, -0.15851697, -0.00064233, -0.06717124,  0.06117383, -0.22342746,  0.2076492 ,  0.02062017,  0.07709919,  0.00037066,  0.09422224, -0.1155581 , -0.00384633,  0.06005121,  0.10322946, -0.10673358,  0.1549363 , -0.15893409,  0.15793338,  0.05616842, -0.04792748,  0.08870912,  0.13801749, -0.12862703, -0.05712958,  0.0503677 ,  0.09054591,  0.10430746, -0.17179328, -0.06396511,  0.00810856,  0.01087938,  0.16012996,  0.06476682, -0.09269407, -0.04336664,  0.02443721, -0.05177415, -0.07941031,  0.05827702,  0.00164853,  0.14071363,  0.15721177, -0.1052146 ,  0.1213384 , -0.01623436, -0.01699165,  0.02434966,  0.06450788, -0.03239351,  0.00785658, -0.01766808, -0.01711508,  0.1177878 , -0.10079643,  0.11000289, -0.08705274, -0.15376364, -0.09404346, -0.03263315,  0.20694448,  0.0864137 , -0.09934493,  0.06503922,  0.07786251,  0.03315184, -0.13813958,  0.1221495 ]], dtype=float32),\n",
              " 'C': array([[ 0.10897093,  0.24288498, -0.06894178, -0.06749935,  0.03836131, -0.06195196, -0.05958307,  0.09137953, -0.04330692,  0.0840671 ,  0.07800891, -0.03113263,  0.17979045, -0.22039449, -0.09058645,  0.01501778,  0.05899886,  0.05699394, -0.00963892, -0.07979359, -0.02295992, -0.01114442,  0.02919492, -0.00418769, -0.05356624, -0.00457441,  0.12701212,  0.0608704 , -0.06112063, -0.03287388,  0.00895235,  0.01351228, -0.20051073,  0.00896579,  0.0143281 ,  0.1179667 ,  0.00228203, -0.03887417,  0.0407943 , -0.07720963,  0.00306063,  0.03935498, -0.02726238, -0.00917673,  0.01664529, -0.02530088, -0.01045371,  0.06068221,  0.00786355,  0.03921229,  0.03514144,  0.07096015,  0.03525518, -0.04810363,  0.01991066,  0.05242471, -0.00450926, -0.05596718,  0.05224272, -0.20451851, -0.29605934, -0.11725117, -0.01206261, -0.10166366, -0.08456341, -0.06363324, -0.03516109,  0.1896186 ,  0.11511081, -0.06343471, -0.01138431,  0.02073992,  0.16513456, -0.10211243,  0.13738208,  0.04526428, -0.10910328, -0.0044162 ,  0.01248759, -0.091181  ,  0.0142185 , -0.10633733, -0.00150033,  0.02360306,  0.01256617, -0.00800004, -0.12020118,  0.04676357, -0.06201607, -0.07930244, -0.04508022,  0.00606026, -0.2453304 , -0.10545017,  0.00138969,  0.01589771, -0.05618019,  0.06357843, -0.03194328, -0.0724429 ,  0.0526708 ,  0.04861753, -0.12834907,  0.07380261,  0.07087122,  0.09936509,  0.02110699, -0.17069645, -0.11139152, -0.0146414 , -0.00677062,  0.07324011, -0.10406358,  0.06020761, -0.17259279,  0.11352258, -0.14752455, -0.07603811, -0.04927101,  0.00375238,  0.05912605,  0.08739451,  0.06880426, -0.1197762 ,  0.03881937,  0.01662254, -0.0419803 , -0.16769888]], dtype=float32),\n",
              " 'C++': array([[-0.1501945 , -0.17133737, -0.12377484,  0.10878668, -0.10280805,  0.0079645 , -0.24713837, -0.02780441, -0.01580326, -0.0443612 , -0.02635937,  0.10729197,  0.16912986, -0.01210205,  0.10109231,  0.14823905,  0.04060297,  0.00899558,  0.12896386, -0.30570343, -0.05060813,  0.09892339,  0.03319795,  0.06111383, -0.0162648 , -0.07624014,  0.05001683, -0.03031866, -0.16581637, -0.03123219, -0.10605236, -0.07234681, -0.00558289, -0.16090523,  0.04503587,  0.00567946, -0.03001787, -0.04837171, -0.21521392,  0.01834813,  0.01121919, -0.00769745, -0.03937236, -0.13388906,  0.12821572,  0.08723874, -0.06541068,  0.10368983, -0.05040389,  0.04076285, -0.15711659,  0.03383903, -0.17456377, -0.10007448,  0.16366498, -0.03710283, -0.01962857, -0.07556483, -0.0964454 ,  0.06842063,  0.06773376,  0.08613592, -0.05546213,  0.13773274,  0.07811851, -0.12143838,  0.05434503, -0.07315584, -0.02955634,  0.04419065,  0.1260457 ,  0.06964821,  0.05106875,  0.1278984 ,  0.02663371,  0.04352431, -0.03051981, -0.1311421 , -0.01971308,  0.04110254,  0.07821386,  0.11842389,  0.12447552,  0.09283217, -0.1131094 ,  0.0205374 ,  0.1231833 , -0.00354806, -0.07167831,  0.06771281, -0.05941117, -0.05692819, -0.00722017, -0.07552123,  0.0522645 ,  0.00647039, -0.06814382, -0.1054254 ,  0.13835393,  0.03290853, -0.04900934,  0.02990132,  0.01478252, -0.0524032 , -0.04925031, -0.03645124, -0.0176518 ,  0.0583913 ,  0.05047591, -0.09073766,  0.24543107, -0.17754793,  0.13765217, -0.11551047, -0.10617936,  0.0465899 , -0.23137158,  0.06093902, -0.08210878, -0.1282229 ,  0.00511175,  0.03065999, -0.02270974, -0.18791291,  0.08030472,  0.14739527,  0.02220174,  0.04279171]], dtype=float32),\n",
              " 'Cloud Computing': array([[-0.06871764, -0.04849996,  0.05595907, -0.3425448 , -0.05774344, -0.00950237, -0.03983269, -0.01648588,  0.00427261,  0.1026902 , -0.03445328, -0.16574496, -0.06566714,  0.20086391,  0.00124008, -0.03195005,  0.15096723, -0.03602446, -0.03374028,  0.01716092, -0.04900677, -0.04535269,  0.16238572,  0.01963269, -0.02096136,  0.11954317,  0.22143705,  0.1201487 ,  0.01966823,  0.12050376,  0.08461626, -0.14634047,  0.05578024, -0.04334448, -0.19072026,  0.06621816,  0.1176335 ,  0.01600253,  0.11263745, -0.02354741,  0.01312044, -0.08027378, -0.05238355,  0.09353468,  0.04151469, -0.03712782,  0.04750029, -0.1693629 ,  0.0036094 ,  0.15309076,  0.05527511,  0.02707062,  0.00356637, -0.15758847, -0.06568507, -0.00212749,  0.16956897, -0.02635319, -0.10019507, -0.00713975,  0.11910651,  0.01444411,  0.15473786,  0.14212199, -0.01124825,  0.13887595, -0.01842337, -0.05109488, -0.07172983, -0.04761586, -0.15073696,  0.03661446,  0.03606332,  0.05407276, -0.06555156,  0.05060088, -0.16040497,  0.12003708, -0.09699054,  0.04359829, -0.12487828, -0.01741287, -0.02095145,  0.03268157,  0.11826543, -0.1073252 , -0.03986952, -0.18283507,  0.05485144,  0.17162919,  0.04212305, -0.09615427,  0.01600637,  0.04055054,  0.13111828, -0.08778806,  0.11480293, -0.00112125, -0.19356222, -0.07148889,  0.04072815,  0.05946389, -0.11812422,  0.13058016,  0.10578679,  0.11346602,  0.02444425,  0.2758856 , -0.01001636, -0.13150689, -0.15989725,  0.01932794, -0.12189722,  0.03591265, -0.00512621, -0.00239276,  0.11626614, -0.10403975,  0.06933203, -0.1702986 , -0.14590096, -0.0364068 , -0.04483838,  0.07233097, -0.06447279, -0.06828874, -0.05871042, -0.06993639]], dtype=float32),\n",
              " 'Coding': array([[-0.05052524,  0.08105788, -0.00635633, -0.18456332,  0.01820162,  0.10001083,  0.04069703,  0.06751374, -0.03401529,  0.20247184,  0.02922501, -0.07986989,  0.04682366,  0.10116414, -0.03881155,  0.00741751, -0.02952769, -0.07557371, -0.07193314, -0.0433482 ,  0.16801628, -0.01012252,  0.01746466,  0.13455372,  0.03855313,  0.17903727,  0.07980409,  0.0118094 , -0.06420936, -0.05935089, -0.10109714,  0.04233487, -0.0445673 ,  0.01807481, -0.06740128, -0.01897209, -0.01228317, -0.08087604,  0.21789788, -0.1143374 , -0.23897798, -0.08223392, -0.01199484, -0.01662241,  0.04099613,  0.00244658, -0.02724262, -0.20411925,  0.12233277, -0.03762714, -0.01338144, -0.09386865,  0.14908127,  0.02221426,  0.03412895, -0.00561219,  0.05749412,  0.01561148,  0.04947602, -0.10629179,  0.00034216,  0.06896374,  0.16229881, -0.03281533,  0.02280048,  0.00370397,  0.04334102, -0.00612663,  0.00292992,  0.13986802, -0.09746615,  0.05465392, -0.02109087, -0.06200085,  0.01399637,  0.09717064, -0.20324829,  0.02545883, -0.06862876, -0.04829879,  0.14520144,  0.00210442, -0.00771063, -0.15609801,  0.02499583, -0.01835955,  0.02749266, -0.06711535, -0.09902143,  0.05549378,  0.07623292,  0.00796904,  0.12193676, -0.17327195, -0.0016486 , -0.10724052, -0.12818542,  0.01678751, -0.14162548,  0.01383845,  0.07629512, -0.01550978, -0.06769679,  0.16602193, -0.15127304,  0.10938681,  0.00101094,  0.01548825,  0.05123469,  0.02610008, -0.03172543,  0.01425479, -0.18021451,  0.10342648,  0.16612242, -0.09772217,  0.00493145, -0.01056398,  0.10161158, -0.02336996, -0.00860791,  0.09590608,  0.06194821,  0.01590818,  0.12834932, -0.07281128, -0.00960568,  0.09748888]], dtype=float32),\n",
              " 'Data Science': array([[-3.47763523e-02, -1.08352964e-04,  2.96027064e-02, -3.32662314e-01, -5.56500554e-02, -9.99822766e-02,  3.04790470e-03, -7.74990544e-02, -3.53782028e-02,  2.90843517e-01, -1.26961216e-01,  2.49809679e-02,  8.38137493e-02, -2.92761507e-03, -2.63519436e-01,  3.35450843e-02,  2.82097552e-02,  5.65997511e-02,  1.03376163e-02,  1.95047036e-02,  7.63159916e-02, -6.27796426e-02, -4.01115976e-02,  3.28926137e-03,  1.35563597e-01,  1.25086606e-01,  2.89527047e-02, -4.61163446e-02, -1.27115935e-01,  3.23603787e-02, -2.52407845e-02, -8.97988230e-02,  1.57940432e-01, -5.38254082e-02,  4.92306165e-02,  8.58250931e-02, -7.28877410e-02, -1.58449113e-01,  7.22543150e-02, -2.28159763e-02, -7.32602775e-02,  1.95023790e-02,  3.37766707e-02,  1.10016838e-01, -6.73184767e-02, -3.73672061e-02,  3.32401469e-02, -1.47745997e-01, -1.64119732e-02,  1.31245732e-01,  1.48274153e-01,  4.44068089e-02,  9.26330611e-02, -2.24561304e-01,  1.64630756e-01,  5.11291027e-02,  8.12199563e-02,  7.68389851e-02,  1.00178674e-01,  5.53619936e-02,  1.27318785e-01,  2.44143028e-02,  1.41780436e-01,  1.05330467e-01,  2.28127241e-02, -1.55977726e-01,  1.78148881e-01, -1.05704889e-01, -3.38455066e-02,  4.32465114e-02, -1.61515728e-01,  7.99982026e-02, -1.36525128e-02,  2.07342952e-02,  5.66449715e-03,  2.10718483e-01, -1.22343034e-01,  1.77412525e-01, -4.58567403e-02,  4.93559893e-03,  9.19190571e-02, -1.84712112e-02, -1.54202640e-01,  3.72143500e-02,  7.32877851e-02, -8.85021687e-03, -1.21410913e-03, -2.31276259e-01, -1.59745999e-02,  1.67851835e-01, -8.47877376e-03,  8.70036110e-02, -7.45525071e-03,  8.59100651e-03,  8.62597525e-02, -3.43698859e-02, -5.73770516e-02, -1.68841165e-02, -2.77603775e-01, -1.25901578e-02,  5.48015460e-02, -1.35387322e-02, -1.37967676e-01,  9.82094109e-02,  6.34195432e-02,  2.00026557e-02, -9.99884121e-03,  1.21806204e-01, -1.06364870e-02,  3.00744120e-02, -5.44640087e-02, -6.56326562e-02, -7.12751299e-02, -1.70280524e-02,  1.63057685e-01, -3.41964364e-02,  9.98941958e-02, -7.88202360e-02,  7.61371627e-02,  4.77392524e-02, -8.65446255e-02, -1.49811385e-02, -9.29566696e-02, -3.10083795e-02, -4.99473996e-02,  2.00317856e-02,  6.96378760e-03, -1.85787231e-01]], dtype=float32),\n",
              " 'Development Processes': array([[ 0.05149219,  0.02869743,  0.09930836, -0.21505864, -0.13038935, -0.02573121,  0.07702205,  0.05487201, -0.02785086,  0.09723774,  0.1289215 , -0.04056856,  0.16174324,  0.00924401, -0.20381059, -0.07826971, -0.04386766,  0.00692126, -0.05808252,  0.01404249,  0.16000743, -0.26464996, -0.04104598,  0.11512315,  0.04375828, -0.06297203,  0.02256002,  0.12927078, -0.02249376, -0.0071526 , -0.0847113 , -0.06926618, -0.08084317,  0.15404785, -0.129064  ,  0.06813257,  0.06268071, -0.15467976,  0.00151335, -0.04091983, -0.06406577, -0.04741311, -0.06374928, -0.01578127, -0.05400112, -0.07911106,  0.12637794, -0.07798227,  0.21563011,  0.09414946, -0.01181234, -0.07571377,  0.23136623, -0.03913435, -0.00549488,  0.00909048,  0.12995388,  0.06724674,  0.0482286 ,  0.09788854,  0.10663119, -0.01913553,  0.16106424, -0.07259621, -0.11707927,  0.00330374,  0.00145704, -0.01972706,  0.12290186,  0.10229261, -0.16249683,  0.00275529,  0.00891586,  0.07160899,  0.11767931,  0.06127286, -0.0875271 ,  0.0981566 ,  0.06097807, -0.06832061,  0.19091351,  0.04822298, -0.0435702 , -0.07583403,  0.14570011, -0.05696375,  0.04642646,  0.00039009,  0.15444127,  0.1651478 ,  0.15853445, -0.05197111,  0.01451495, -0.08701657, -0.08316401, -0.145688  , -0.02453807,  0.15769018, -0.26454103, -0.06276624,  0.01853554,  0.03087456, -0.07389035,  0.03709531,  0.10861482,  0.0738113 , -0.00757745,  0.05885316, -0.00357798, -0.02441238, -0.22529371,  0.04746342,  0.00479545, -0.00352798, -0.02896598,  0.11302128,  0.0337271 , -0.05402277,  0.14869954,  0.05212694, -0.13691834,  0.10794459, -0.17178993,  0.00509002,  0.04622266, -0.00329939, -0.06477213,  0.06531748]], dtype=float32),\n",
              " 'Finance': array([[ 0.04539598,  0.07742774, -0.01175204, -0.17427427, -0.03038105, -0.01174759,  0.06376271, -0.179462  , -0.06804952,  0.11998758, -0.05895284,  0.03737804,  0.00129953,  0.10981365, -0.19051613,  0.0919196 , -0.08272809,  0.00569895,  0.08511524,  0.08355344, -0.20584667, -0.08430026,  0.12421215,  0.18973967,  0.04121586, -0.07589854, -0.04333334, -0.04887373, -0.14444742, -0.02742489,  0.05077634, -0.0355021 , -0.1578798 ,  0.14227511,  0.02221641,  0.06759906,  0.08127742, -0.03302011, -0.05882392, -0.01747173, -0.00641761,  0.06926458,  0.12912574,  0.02514442, -0.03297566, -0.03936215,  0.13584268,  0.11837836,  0.03402624, -0.01874162, -0.01229141, -0.0871438 ,  0.14571878, -0.20271122, -0.00715554,  0.07021144, -0.05286863, -0.00144919,  0.08065952, -0.00779419,  0.02445687,  0.09848391,  0.03624003, -0.01670269, -0.03947477,  0.01334348, -0.07990676,  0.16416849, -0.06247504,  0.11171181, -0.12294819, -0.04746456,  0.00775715,  0.03252964,  0.05201808,  0.16830269, -0.07133019,  0.01954327,  0.06731307, -0.02301509,  0.06238021, -0.04957017, -0.08554199, -0.05753921,  0.16140941, -0.00352517, -0.0596389 , -0.07486869,  0.04971391,  0.14944993,  0.14548318,  0.08645032, -0.01481045, -0.00935748, -0.09478093,  0.05226406,  0.00078831,  0.13463207, -0.1884105 ,  0.01084815,  0.00376966, -0.03757364, -0.09293314,  0.01667009,  0.09838167, -0.12835078,  0.00660876, -0.04309773, -0.05593888, -0.07989047,  0.06497777, -0.07555772, -0.0245517 ,  0.06343968,  0.03649045,  0.11680323,  0.02703073,  0.09083049, -0.05449563,  0.0485181 , -0.18737178, -0.00755118, -0.19836663,  0.07628825, -0.02735524,  0.09840389, -0.04487439,  0.00174258]], dtype=float32),\n",
              " 'Hardware': array([[ 0.01102832, -0.02941512, -0.03412564, -0.06860974, -0.10581117,  0.10507981,  0.02522494, -0.04470011, -0.0440468 ,  0.17613949, -0.01948674, -0.15521024,  0.0031336 ,  0.24605441, -0.04361173,  0.10145766, -0.00924326,  0.06812698,  0.09388671, -0.06156202,  0.07024881, -0.04221693,  0.0317263 , -0.0045472 ,  0.11488388,  0.0083558 ,  0.08685923,  0.11410771, -0.0764293 ,  0.10035049,  0.08860382, -0.00561534, -0.02927925,  0.05212074, -0.09326953,  0.07078072,  0.00122135, -0.0700031 ,  0.12387276, -0.04860122, -0.0234789 ,  0.05233321, -0.16774178,  0.03382211, -0.01877416, -0.04668174,  0.09480742, -0.07461389, -0.01880451,  0.20359321,  0.07714187, -0.0296565 , -0.10037218, -0.13152754, -0.05272636, -0.05805117,  0.07675596, -0.06132932, -0.05041518,  0.19166441,  0.14249226,  0.04897847,  0.1076555 , -0.02197715, -0.02745517,  0.09784563, -0.12949099,  0.02588982, -0.03324395,  0.03329454, -0.18045397, -0.05439145, -0.10726379,  0.06223124,  0.03465032,  0.09147725, -0.1458976 ,  0.06154323,  0.02198293, -0.04970839,  0.01242601,  0.12458534,  0.02082517,  0.01045884,  0.15289907,  0.0363501 ,  0.02855222, -0.02580743,  0.00152778,  0.07040203,  0.07253397,  0.08048651, -0.0021782 , -0.19267474,  0.05461982, -0.10504656,  0.13121967,  0.00815489, -0.00028185, -0.09851774,  0.10412875, -0.16047002,  0.01840703,  0.11214631, -0.11786716,  0.21581398, -0.06150854,  0.14356475, -0.01724639, -0.06327192,  0.09061001, -0.0326181 , -0.0819926 , -0.06082198,  0.03458238, -0.02024123,  0.05825064,  0.07317717,  0.11615438,  0.10102115, -0.01257344, -0.1490659 , -0.08862549, -0.04597928, -0.00937046, -0.03641514, -0.12916866, -0.0373214 ]], dtype=float32),\n",
              " 'Higher Education': array([[ 0.05273758,  0.0472428 ,  0.20405395, -0.14195247,  0.12265966, -0.11418379,  0.06220371,  0.06696637,  0.01071637,  0.19946593,  0.00716926,  0.02030109, -0.08634017,  0.09598409, -0.12367375,  0.03181843, -0.04651906, -0.04039355, -0.04965986,  0.05951524, -0.08430497, -0.04784808,  0.06199088, -0.00500898,  0.0988082 ,  0.03692898,  0.18941656,  0.10038751, -0.02794755,  0.04592611,  0.0350187 , -0.01309108,  0.05582806,  0.01889481,  0.04520652, -0.13418268, -0.07641173, -0.00395138, -0.03493669,  0.01664264, -0.12076614,  0.1401715 , -0.015804  ,  0.08849381, -0.10401589,  0.07138672, -0.0095437 , -0.02439033,  0.05644502,  0.08207852,  0.05488911,  0.04389766,  0.08319159, -0.08669357,  0.0975098 ,  0.09628328, -0.05316205, -0.09096029, -0.10395553, -0.06322054,  0.09957798,  0.12668125, -0.06287435, -0.06045283, -0.19164276, -0.02511468,  0.15354273, -0.06832957, -0.04224284,  0.08225842, -0.16743875,  0.10698204, -0.1364429 ,  0.12879327,  0.02631916,  0.14111085, -0.02133884,  0.013322  ,  0.12081873, -0.16563587,  0.10155851, -0.03559604, -0.02786238, -0.07147799,  0.10886474, -0.07987101, -0.01676793,  0.0670037 , -0.01322907,  0.24412374, -0.0625857 , -0.02142314, -0.05537729,  0.10323475,  0.00585791,  0.13556921, -0.05533225,  0.0131432 , -0.1295131 ,  0.00493571,  0.00973982, -0.10576869, -0.12678201, -0.1432601 ,  0.05342538, -0.05503356,  0.01572457,  0.09265793, -0.05951019, -0.09307294, -0.00116209,  0.11437199,  0.13880186,  0.03638826,  0.03320261, -0.00539969,  0.14704753,  0.03822498,  0.01827659,  0.00345451, -0.00795142,  0.04143889, -0.06336254,  0.01861469, -0.15435697,  0.1136874 , -0.03316946,  0.11873628]], dtype=float32),\n",
              " 'IoT': array([[ 0.02807552,  0.08136903, -0.13110945, -0.0050544 ,  0.18156344, -0.06880186,  0.01038195, -0.06715024, -0.07270329,  0.05227078,  0.0898061 , -0.02461346,  0.15393789,  0.05436602, -0.15376319, -0.04547053, -0.14366497, -0.01261694,  0.01573915, -0.13275048, -0.03291288, -0.05095477, -0.08084921, -0.0131156 , -0.09201673,  0.0583818 ,  0.10737579,  0.02926342, -0.03560948, -0.00973824,  0.03642788, -0.05129569,  0.00122496, -0.14125423, -0.12712331,  0.05539299, -0.0075329 , -0.0596491 ,  0.00632488,  0.2550989 ,  0.02804588,  0.12213032,  0.03786246, -0.05173824, -0.04265218,  0.03039839,  0.01359415, -0.07629029, -0.01277152,  0.05248041, -0.03129302, -0.10560241, -0.03864275,  0.07224169, -0.0376359 ,  0.05070597, -0.14551565, -0.01135705,  0.10629059,  0.02115034, -0.02512801, -0.15414327, -0.15319148, -0.07251485,  0.09964386,  0.11315119,  0.01539718, -0.01952836,  0.03195578, -0.05258629, -0.14571469, -0.08763993,  0.04180308, -0.00353088, -0.02354626, -0.11620881,  0.04438639, -0.1798303 , -0.02231601, -0.13080558,  0.13112427, -0.08620216,  0.15436137, -0.12919949, -0.09938235,  0.13787687,  0.12726519, -0.03510975, -0.00213864, -0.04339964,  0.00266589,  0.01502027,  0.00589715,  0.0106117 ,  0.05944477, -0.01665284, -0.09607063, -0.08025843, -0.00100686, -0.08161148,  0.03115009, -0.04706604,  0.03655175, -0.00377333, -0.06847259,  0.07770687,  0.01536224,  0.00791086,  0.08454312, -0.12402757, -0.2256375 ,  0.01105107,  0.1938384 ,  0.03618966,  0.08222344, -0.00661709, -0.0287277 , -0.02269186, -0.2404873 , -0.07191137, -0.02484532, -0.08942918,  0.03065672,  0.00741961, -0.13093369, -0.15396434, -0.00239697, -0.15393789]], dtype=float32),\n",
              " 'Java': array([[-0.12219694, -0.09560563, -0.12665346, -0.10194721,  0.05897449, -0.00052948, -0.18564516, -0.03979788, -0.05308848,  0.14925599, -0.02661561, -0.07824424, -0.02931463,  0.02987246,  0.12466008, -0.02891069,  0.07771476,  0.02281309,  0.02278778, -0.07071917, -0.09846158, -0.04952185,  0.08665816, -0.05776368,  0.0704428 , -0.14290732,  0.00937773,  0.03416092, -0.04666996, -0.0247184 ,  0.03847875,  0.05000273, -0.05786795,  0.07540955, -0.1546449 ,  0.02634429,  0.11356231, -0.09681948,  0.22490345,  0.06369119, -0.11549496, -0.07981343,  0.00275774,  0.0222249 ,  0.03245606, -0.08772016,  0.01189654,  0.00429353, -0.03578985,  0.01630244,  0.16081135, -0.05808157,  0.0948595 , -0.08108398, -0.01404482, -0.09326196,  0.11405129, -0.10949151, -0.09608348, -0.04841835, -0.09555906, -0.13843156,  0.2736478 , -0.04597546,  0.27637717,  0.01463403,  0.1060079 , -0.09372968,  0.05914355,  0.00600952, -0.12791288, -0.0678774 ,  0.05117608,  0.01813486, -0.05391155,  0.13064834, -0.06536669, -0.00917019, -0.06575241,  0.01231466, -0.01055108,  0.15069965,  0.00992441, -0.03894343,  0.12760106, -0.00784396, -0.02400062, -0.12621915,  0.04069385,  0.06167553, -0.06314552, -0.04574767, -0.01333818, -0.17551626,  0.00847063, -0.044385  , -0.02184019, -0.05772116, -0.03170184,  0.1015129 , -0.08050185, -0.19800639, -0.0244734 ,  0.05216721,  0.08688696,  0.04793442, -0.06604499,  0.10244025, -0.13523951, -0.0651956 ,  0.04562011, -0.00099113, -0.05987247,  0.11518719,  0.03335607, -0.06815784,  0.09237005, -0.01173152,  0.03412549, -0.19168304, -0.02335675, -0.00722843, -0.01241893, -0.04244122,  0.08241527,  0.00488172,  0.08524387,  0.02523472]], dtype=float32),\n",
              " 'JavaScript': array([[ 2.26013202e-04,  7.49183744e-02,  8.24948121e-03, -6.26126602e-02, -9.55755915e-03, -4.53226501e-03, -1.44275427e-01, -1.63773566e-01, -2.51334682e-02,  1.08984374e-01,  1.35408908e-01, -8.65070522e-02,  8.38909000e-02, -1.82230659e-02,  2.64915470e-02,  5.26340716e-02,  5.89664467e-02, -8.41269195e-02, -1.40400201e-01, -2.30143443e-02,  6.94680586e-02, -2.82324493e-01,  7.25532398e-02, -1.92771275e-02, -3.15538459e-02,  6.50587976e-02,  1.50869802e-01,  1.02117971e-01, -9.63156223e-02, -1.51668862e-02, -1.70839988e-02,  1.13026602e-02,  1.47888642e-02, -7.22382143e-02, -1.55117065e-01, -1.48841709e-01,  1.14397682e-01, -8.35388824e-02,  1.58329248e-01,  4.46416065e-02, -8.64740536e-02,  5.60632758e-02, -1.51753873e-01, -1.78848445e-01,  9.01732668e-02, -7.01820999e-02,  1.29957590e-02, -2.61325277e-02, -7.25222379e-02, -4.04553637e-02, -4.10484001e-02,  8.93972218e-02, -4.21594642e-02, -6.32356927e-02, -8.60390291e-02,  1.11313507e-01, -1.59209296e-02,  2.64075417e-02, -6.28006682e-02, -5.55672459e-02,  1.30027598e-02,  6.46467805e-02,  1.76583305e-01,  1.27591446e-01,  3.00407540e-02,  7.80045521e-05,  2.00316697e-01,  9.10863206e-02, -3.37679759e-02,  1.02011964e-01,  1.13546634e-02, -8.24698210e-02, -1.11296503e-02, -1.45459488e-01,  1.22113131e-01,  8.59970227e-02,  1.50408794e-03, -6.16656020e-02, -1.53198950e-02, -2.02872843e-01, -2.07272116e-02,  6.23426437e-02, -2.64755469e-02,  8.58220160e-02, -4.77747917e-02, -7.41213262e-02, -7.49713778e-02,  5.31481020e-02, -1.25997365e-01, -7.89446086e-02,  1.18701935e-01,  7.66454786e-02,  3.40279900e-02, -9.36154723e-02,  1.69137880e-01, -1.44608447e-03, -1.91951208e-02,  7.45143555e-03, -8.15397575e-02, -3.81232277e-02,  4.36055474e-02, -2.73155961e-02,  3.75721939e-02,  9.05862898e-02,  1.34184837e-01,  1.41787291e-01, -3.70211639e-02,  6.07605502e-02, -3.80382203e-02, -5.38341440e-02, -2.33773645e-02,  3.53140645e-02, -3.23248878e-02,  5.65423034e-02, -2.48624533e-02, -7.00320899e-02,  1.25296310e-01,  6.86850175e-02, -1.16948836e-01, -2.72095893e-02,  1.52993947e-01, -3.80322188e-02,  1.21501103e-01, -9.39724892e-02, -2.40834057e-02, -7.56464154e-02,  8.89431909e-02,  2.74526030e-02]], dtype=float32),\n",
              " 'Machine Learning': array([[-0.028289  ,  0.04589714,  0.0226074 , -0.15559003, -0.02903215, -0.03614638, -0.00700366, -0.08412965, -0.03474244,  0.19986655,  0.12232368, -0.05199844, -0.04249616,  0.10740556, -0.02135498, -0.07925802, -0.02586844, -0.02290931,  0.12836818, -0.08906118,  0.08346698, -0.09385443,  0.05975841, -0.08852647,  0.12457292, -0.05486896,  0.04027068,  0.03707507, -0.03841333, -0.07920704,  0.01526511, -0.04381962, -0.04792615,  0.08110312,  0.02255234, -0.02807252, -0.01755173,  0.02239603,  0.15449458, -0.0493142 ,  0.05276011, -0.11787231, -0.02132146, -0.02693684,  0.01167175, -0.01656168,  0.10016701, -0.0390678 ,  0.12188251,  0.16129914,  0.06845367, -0.16103183,  0.04515918, -0.17374554,  0.09806569, -0.09242869, -0.09921641, -0.18567891,  0.09378365, -0.13940081,  0.10602534,  0.20336384,  0.0736175 , -0.01508871, -0.02431978, -0.02195203, -0.00718428, -0.08671655, -0.0127413 ,  0.10782132, -0.23638606, -0.014181  , -0.12768386, -0.01139777, -0.18320365,  0.03614885, -0.12975053,  0.05169519, -0.09618375, -0.07620081,  0.2064552 ,  0.10520246, -0.07367519, -0.05204358,  0.12462194,  0.02279626, -0.00416811, -0.01131277,  0.01805803,  0.16190477,  0.02027129,  0.03935726,  0.18902269, -0.04155261, -0.00063347, -0.12527123,  0.1180433 , -0.00353815,  0.00611992, -0.10849772,  0.14518292,  0.0434128 , -0.0425685 ,  0.12014449, -0.10871847, -0.01855329, -0.10518303,  0.12468602, -0.01891992,  0.00688376, -0.06534541,  0.0201847 , -0.12168999, -0.08747961,  0.14656095, -0.02919793,  0.18291341,  0.0260813 ,  0.1869995 , -0.0616905 ,  0.08615767, -0.12410057, -0.0070241 , -0.03571787,  0.01625839, -0.12970442,  0.03655493, -0.02540167]], dtype=float32),\n",
              " 'Management': array([[-0.03525186, -0.00024544, -0.09721833, -0.06670903, -0.14539151,  0.02096929,  0.03531968, -0.04403616,  0.09930138,  0.14607456,  0.04428484,  0.0485478 , -0.00139515,  0.07400291, -0.06111711, -0.01260967, -0.00248835, -0.04436557, -0.00903782,  0.02615752,  0.04716718, -0.02938705,  0.01098522,  0.10938234,  0.13246696, -0.02278752,  0.07571455,  0.0273589 , -0.09610737, -0.08931408, -0.0494553 , -0.1310379 , -0.13552533,  0.19821844, -0.10659526,  0.01774946, -0.04417019, -0.1061964 , -0.03191415, -0.0335273 , -0.12136871, -0.1042813 , -0.03451391, -0.025904  , -0.1140926 , -0.06470349,  0.05492127, -0.04311575,  0.04179326,  0.04354851, -0.10895765, -0.02361427,  0.18441707,  0.00098016,  0.02285534,  0.02550677, -0.01510932,  0.06475678,  0.04933419, -0.01151971, -0.0455169 ,  0.07287903,  0.00334094,  0.04903546, -0.02042835, -0.01052502, -0.0142971 ,  0.14268194, -0.04609175,  0.02238382, -0.06308066, -0.02853607,  0.125404  ,  0.09252261,  0.03943086,  0.16347039, -0.20285603,  0.14947362,  0.08780427, -0.13380721,  0.17517094, -0.09962594,  0.03189962, -0.11948267,  0.16913982, -0.06047766,  0.10505477, -0.14753269, -0.08221235,  0.11863169,  0.01125004,  0.0998617 , -0.07304858, -0.05119924, -0.06227328,  0.02118567,  0.18577509,  0.12671518, -0.19535385, -0.00527058,  0.03709915, -0.00573886,  0.08299067,  0.02371116,  0.08325226,  0.05986244,  0.00130473,  0.07758284, -0.03640803, -0.0819443 , -0.17816633, -0.08291154, -0.08207187,  0.06556577,  0.10449607,  0.05555748,  0.06220062,  0.10014267, -0.12009144,  0.00171811, -0.12481299,  0.15257397, -0.05463061,  0.07911847, -0.0915263 ,  0.00482006, -0.09640449,  0.13883236]], dtype=float32),\n",
              " 'Mobile Applications': array([[ 2.81758141e-02,  7.37135932e-02,  4.29924221e-05, -2.34706804e-01, -1.42596155e-01, -4.25182432e-02,  2.02752743e-02,  1.76174880e-03, -1.29719630e-01,  8.45740661e-02, -5.35345487e-02, -2.09296662e-02,  1.10857554e-01,  9.22489688e-02,  9.25784651e-03, -9.05028954e-02, -3.32747810e-02, -1.13346852e-01,  1.35796592e-02,  6.09194413e-02,  1.11141190e-01, -1.22910842e-01,  2.19886424e-03,  2.52871532e-02,  6.04624525e-02, -2.17675064e-02,  2.16800719e-01,  1.78794801e-01, -6.01967573e-02,  1.24463305e-01,  8.16833675e-02,  1.51585676e-02, -6.99867159e-02,  1.30818300e-02, -2.38431424e-01,  5.87426983e-02,  3.83241884e-02, -6.42589629e-02,  1.90730974e-01, -1.93535276e-02, -4.84861359e-02, -1.35208145e-02, -7.05148429e-02,  1.24539202e-03,  3.40516679e-02, -4.89843916e-03,  3.03601567e-02, -1.15669318e-01,  1.38488799e-01,  2.95366377e-01, -6.22530207e-02,  1.12735853e-02,  9.76895466e-02, -6.37902990e-02,  3.44202518e-02, -4.69275862e-02,  1.29810154e-01, -7.73922279e-02, -5.21398196e-03,  9.24872458e-02,  1.66952893e-01, -1.19244261e-02,  1.66100770e-01, -2.15541217e-02, -1.06762433e-02,  1.48161501e-01, -9.22816768e-02, -1.96813829e-02, -1.41346291e-01,  1.29272014e-01, -1.01408111e-02, -3.33284438e-02, -4.98432443e-02, -6.97513670e-02, -3.29351500e-02,  4.92357910e-02, -1.67773977e-01,  2.43967324e-02,  4.70122024e-02, -4.53096479e-02, -2.30523515e-02,  5.51326722e-02, -6.44285530e-02,  9.00720730e-02,  1.57285810e-01, -9.14101303e-02, -1.42883420e-01, -5.18271364e-02,  6.09775670e-02,  1.07463002e-01,  2.68653687e-02,  4.56494577e-02,  1.10873869e-02, -3.99470292e-02,  1.52055591e-01, -1.33766562e-01,  1.25240022e-02, -3.85831892e-02, -1.59557879e-01,  8.15638751e-02,  5.53976968e-02, -1.64042473e-01, -2.45345443e-01,  2.90593207e-02,  1.18086986e-01,  2.60230869e-01,  5.84419444e-02,  4.32884730e-02,  4.48162062e-03,  2.44800225e-02,  1.23216948e-02,  4.45639193e-02, -9.65872929e-02, -5.79370856e-02,  1.53235095e-02, -4.66967002e-02, -2.76230834e-03, -1.19945213e-01,  2.34708220e-01, -1.40138358e-01, -9.41312239e-02,  1.92663074e-02, -1.01712719e-01,  1.25248805e-01, -6.07253499e-02,  5.42366244e-02, -3.08992509e-02,  5.15254727e-03]], dtype=float32),\n",
              " 'Networking': array([[-0.04857657,  0.08838478, -0.07303292, -0.07318583,  0.0023667 ,  0.00430497, -0.06123386, -0.0221544 ,  0.05553753,  0.08453993, -0.02926414, -0.07956683, -0.12045782, -0.01177564,  0.02964022, -0.00290258,  0.01940748,  0.03306629,  0.03625954, -0.01155522, -0.00317121,  0.0639367 ,  0.23573866,  0.03073678,  0.07285935,  0.00286263,  0.10603997,  0.05954907, -0.07233448,  0.02241476,  0.04863856,  0.06129035,  0.07386636,  0.03059076,  0.00460253,  0.00145887,  0.09484016, -0.01024514,  0.12780038, -0.06406068, -0.05289807,  0.12464707,  0.01233356,  0.14069737,  0.06802538, -0.0921704 ,  0.02214338, -0.18167654,  0.0061964 ,  0.135446  ,  0.01278679, -0.07748391,  0.0502407 , -0.094088  , -0.01657929, -0.00579828, -0.01199881, -0.17011443,  0.04026833,  0.03188431, -0.03270811, -0.03881635,  0.15373212,  0.01670052,  0.18932353,  0.05477021,  0.01152767,  0.03781759, -0.19171917,  0.03637939,  0.02975181,  0.01433107, -0.14637718,  0.1336882 , -0.02995569,  0.18400604, -0.06658442,  0.05831337,  0.0236422 , -0.20634642,  0.07274087, -0.08988497, -0.13528068, -0.02879576,  0.02305121,  0.02518234,  0.11083949, -0.14698744, -0.01770892,  0.23463522,  0.04770042,  0.03894997, -0.0815354 , -0.01399769,  0.22319846, -0.11114119,  0.06264589,  0.13332175, -0.09900186, -0.07257832, -0.04556103,  0.02295891,  0.06214032,  0.1643313 ,  0.07956959,  0.10291009,  0.11773019,  0.01584641, -0.01813321, -0.11944117, -0.02744159,  0.00264359,  0.02463268,  0.12296917,  0.00132111, -0.04639034,  0.08360592, -0.1380221 ,  0.11614183, -0.0337358 , -0.06044451,  0.00490009, -0.0004794 ,  0.17002901, -0.11554534,  0.06913847, -0.06686269, -0.02059497]], dtype=float32),\n",
              " 'Other': array([[ 0.23540272,  0.01913304,  0.25682324,  0.01058906,  0.01344988,  0.12033708,  0.02162254, -0.02594936, -0.12162223,  0.16841303, -0.08068004, -0.01976215, -0.15194267, -0.06019644, -0.13764434, -0.03773316, -0.14986295, -0.14631337, -0.08085126,  0.21636203,  0.13610332, -0.06397109,  0.08289635, -0.0400803 , -0.05093485, -0.18426777,  0.12243027,  0.04122116,  0.14181726, -0.02532795,  0.21967304,  0.01020044,  0.04389343, -0.1612658 ,  0.04192915,  0.06720322, -0.0765937 , -0.01746118,  0.00589094,  0.06745525, -0.00753009,  0.05246242,  0.08047034,  0.03183837, -0.03383344, -0.08011249, -0.08015674,  0.0844547 , -0.09621733, -0.02487776,  0.06197988, -0.03931844,  0.10609841,  0.03054168, -0.00193735, -0.02769625, -0.10819352,  0.07384256, -0.08244231,  0.15265258,  0.01338639, -0.05566569, -0.02248829,  0.03852965,  0.11685292,  0.08163428, -0.17901556, -0.04443982, -0.03774855, -0.04716789,  0.06568336,  0.02774627, -0.12078342,  0.08305219, -0.01550459,  0.21117908, -0.25288507, -0.02301736, -0.0559081 , -0.01703408,  0.11728772, -0.0133633 , -0.04797207, -0.11965987, -0.02841386, -0.04009569, -0.06478105,  0.06422313, -0.06117377,  0.04452447,  0.03866239,  0.05932684,  0.06890586,  0.03235782, -0.0574472 ,  0.02290385, -0.01465038, -0.12121245,  0.00999266,  0.05148893,  0.03260023, -0.08106097,  0.06369022, -0.02751733,  0.00171995, -0.15016884,  0.00821499,  0.020524  ,  0.09611345,  0.012815  ,  0.01418096,  0.05112147, -0.01434256, -0.05860154,  0.02327708,  0.00524836,  0.00906535,  0.10376281, -0.04858964,  0.00723188, -0.01452533, -0.0860496 , -0.01016773,  0.02546069,  0.0620299 ,  0.00222401, -0.05754917, -0.01025431]], dtype=float32),\n",
              " 'Python': array([[-1.06131658e-01, -7.70942718e-02, -6.90717921e-02, -1.35485092e-02, -2.22353175e-01,  3.97003517e-02,  1.41466195e-02, -1.84834227e-02, -8.77462476e-02,  2.51306538e-02, -7.12071881e-02,  5.08124083e-02, -2.27242075e-02,  2.45385449e-02,  5.81007600e-02, -1.26423407e-03, -2.18518466e-01, -5.73196150e-02, -6.82836473e-02, -9.22710821e-02, -1.15527391e-01,  1.84054095e-02,  7.26034492e-02, -3.07937022e-02,  1.02204926e-01,  1.18127875e-01,  9.84422341e-02, -6.93128328e-04, -1.27453599e-02, -2.02417485e-02,  1.04049267e-02,  4.16277088e-02, -3.30731235e-02, -4.37481031e-02,  2.74050757e-02,  8.32424164e-02, -4.49263193e-02, -2.68989801e-02, -4.59145010e-02,  7.60460794e-02, -6.57511726e-02,  1.02323949e-01,  3.83871086e-02, -8.50207433e-02, -1.45291910e-01,  5.33608831e-02, -5.21496590e-03,  3.08547150e-02,  1.34594925e-02,  7.93096870e-02,  5.80847561e-02, -2.46295612e-02, -6.03181683e-02,  3.67968157e-03,  2.98045184e-02, -2.03137606e-01,  2.02527493e-02, -1.33785784e-01, -1.68715253e-01, -7.09231338e-03,  1.60429708e-03, -1.50628895e-01,  1.28523796e-03, -1.50014773e-01,  7.48648643e-02, -9.24171135e-02,  7.46238185e-03, -7.91116506e-02,  1.23262830e-01,  7.52399340e-02, -5.71445823e-02,  4.15896997e-02,  2.14830786e-01, -1.48143440e-01,  1.78213008e-02, -1.29487976e-01, -6.17774390e-02,  3.93772908e-02, -1.03935242e-01,  2.81852186e-02, -8.27893317e-02,  1.17256708e-01,  4.77068312e-02,  2.68849777e-03,  6.56921649e-03, -1.50201827e-01,  6.79025706e-03, -1.28887877e-01,  1.92935730e-03,  8.33034217e-02,  1.47964403e-01, -2.40714569e-02,  2.33984336e-01, -1.06229670e-01,  1.61553919e-01, -9.09538493e-02,  5.53042404e-02, -1.26988515e-01,  3.89532112e-02,  7.77844014e-03,  1.77933946e-01, -9.71429870e-02,  4.45952602e-02,  8.32324177e-02, -1.53612450e-01,  1.82293747e-02,  1.41576221e-02,  2.45129392e-01,  5.71825877e-02, -3.60366702e-02, -6.50420459e-03, -1.12134762e-01, -1.25281200e-01, -2.86813099e-02,  1.72181893e-02, -3.40763107e-03,  2.86192987e-02,  8.78802687e-02,  4.59084995e-02,  2.63738837e-02, -2.46565659e-02,  1.26493424e-02,  5.84848300e-02,  1.55698834e-02, -1.27023523e-04, -1.12052754e-01,  9.48685706e-02, -1.95506215e-02]], dtype=float32),\n",
              " 'Security': array([[-0.02420446,  0.09803227, -0.05070882, -0.03408561, -0.0392679 , -0.00227255,  0.08977084, -0.10719674, -0.00812071, -0.1089246 ,  0.12251689, -0.00493341, -0.00070756,  0.10505581, -0.0143624 ,  0.06690724, -0.15284185, -0.180145  , -0.02490159, -0.00820541,  0.02393993,  0.00658309,  0.04606991, -0.08672296,  0.02801332,  0.04622236,  0.21271773,  0.10116094,  0.00759166, -0.04610379,  0.02330795, -0.06953552, -0.03507072,  0.06249505, -0.12950002,  0.04486848,  0.02215995, -0.18193541,  0.03865025, -0.03634642,  0.02294048,  0.00030622, -0.04595393,  0.16053775, -0.09547175,  0.04131111, -0.13865276,  0.00896379,  0.04707066,  0.03600502, -0.02406112,  0.03676601,  0.02960566, -0.079087  , -0.08841565,  0.00712386, -0.11202981, -0.01173932, -0.0812149 , -0.0025058 ,  0.04437592, -0.01230225, -0.09572846,  0.09575061,  0.07093111,  0.07376267,  0.04320186,  0.13344832, -0.08394223, -0.0512939 , -0.09358621, -0.04378433,  0.00856636,  0.08917403,  0.07312416,  0.19454387, -0.09172674, -0.05112971,  0.0322965 , -0.07197356,  0.02340177,  0.01513902, -0.16783753,  0.00263741,  0.17577711,  0.03376766,  0.16371332, -0.15748207,  0.04052666,  0.0875895 ,  0.09736641,  0.11513763,  0.11718084, -0.1325492 ,  0.0923887 , -0.01068645,  0.23113398, -0.01815041, -0.12074602,  0.00321727,  0.05682541, -0.14071551,  0.06375512,  0.03950506,  0.07896712,  0.1474654 , -0.04243826,  0.11901555,  0.0225222 , -0.12479335, -0.02919781, -0.04975107, -0.02332358,  0.12660982,  0.12888238, -0.00532172,  0.0851215 , -0.11757697, -0.12186145,  0.20655423, -0.1263883 , -0.04498184, -0.03423806,  0.03481141, -0.06260712, -0.08671515, -0.01849833,  0.05132778]], dtype=float32),\n",
              " 'Software Architecture': array([[-3.29292342e-02,  3.46402600e-02,  4.60801832e-02, -1.60350263e-01, -8.86891931e-02,  9.14529935e-02,  3.43196355e-02, -1.56675205e-01, -8.72316360e-02,  2.36111417e-01,  1.93968497e-03, -1.10441349e-01,  1.45773832e-02,  2.42080078e-01, -6.43976703e-02, -1.16107669e-02, -2.10136678e-02, -7.74078593e-02,  7.18590766e-02, -3.21869180e-02, -2.46922579e-03, -1.76255196e-01,  2.33456921e-02,  6.58228695e-02,  1.76678836e-01, -3.50418910e-02, -3.46251018e-02,  1.11292422e-01,  7.14267651e-03,  4.77926955e-02,  5.01534231e-02, -8.23610052e-02, -1.30964788e-02,  1.60381019e-01, -8.03449452e-02, -4.13212888e-02, -3.70783755e-03, -6.46763965e-02,  7.00199008e-02, -9.13328156e-02, -1.00980803e-01, -8.50854963e-02, -1.10981718e-01,  6.18094504e-02, -6.79266676e-02, -7.41582066e-02,  1.33231848e-01, -2.23345488e-01,  4.39079804e-03,  2.08103508e-01,  7.51866475e-02, -4.99725230e-02, -2.42878986e-03, -2.37868130e-01,  3.96148339e-02, -6.24405108e-02,  1.93829820e-01,  1.93713754e-02, -7.61758387e-02,  1.17097244e-01,  7.89322853e-02,  8.14698413e-02,  1.99808896e-01,  6.33821264e-02, -3.33634997e-03,  1.81979558e-04, -1.05405515e-02, -2.53655016e-03, -1.98944025e-02,  7.35969618e-02, -1.91652745e-01, -1.39189228e-01, -5.85102364e-02,  1.20453231e-01,  8.80047977e-02,  8.12521130e-02, -3.22781473e-01,  3.93296443e-02, -1.18752562e-01, -6.87155575e-02,  1.11614894e-02,  7.88718686e-02, -8.08332115e-02,  8.05761516e-02,  1.76188558e-01,  1.24058351e-02,  5.50891124e-02,  1.34889409e-03,  5.66279478e-02,  4.81340401e-02,  2.25107968e-01, -8.12739786e-03,  4.63851690e-02, -2.05722243e-01, -7.17324018e-02, -2.21443072e-01,  4.71956432e-02,  5.48115280e-03, -1.89900726e-01, -4.84575070e-02,  1.17236838e-01, -1.31583735e-01,  1.06527796e-02,  1.66817486e-01,  3.70032378e-02,  1.60118625e-01,  3.78660113e-02,  1.21958949e-01, -5.04347943e-02, -1.57236587e-02, -1.94819905e-02, -2.41270736e-02, -1.45034075e-01,  4.70276177e-02,  5.42102680e-02, -5.00157177e-02,  1.82131499e-01,  7.62248337e-02,  2.05314249e-01, -4.13581654e-02, -1.71456307e-01, -5.75405210e-02, -3.87499593e-02, -1.40162641e-02,  2.12029181e-02, -1.12004995e-01, -3.05950195e-02,  2.58702189e-02]], dtype=float32),\n",
              " 'Web Development': array([[-1.90230943e-02,  8.94087106e-02,  3.52216847e-02, -1.55942708e-01, -6.48749694e-02,  7.09395185e-02,  1.20227179e-02, -1.23092897e-01, -5.38444985e-03,  2.40778148e-01,  6.20944016e-02, -1.49583280e-01,  6.81012217e-03, -6.01631124e-03, -1.61440715e-01, -1.56280831e-01, -1.45792691e-02, -1.34471267e-01, -6.14128150e-02, -5.79718947e-02,  1.07707940e-01, -2.16086432e-01,  8.94757062e-02,  1.38383999e-01,  4.87017073e-02, -3.82543635e-03,  1.18526004e-01,  1.23873763e-01, -1.88804001e-01, -5.21885464e-03,  1.39859036e-01, -1.63880624e-02, -2.35353019e-02,  6.09452501e-02, -3.03575676e-02, -1.03059001e-02,  1.05671190e-01, -1.90244932e-02, -4.09077965e-02,  1.85927795e-03, -7.27960467e-02,  4.14477661e-03, -8.76518488e-02,  1.24556519e-01, -1.15743943e-01, -5.65168187e-02,  1.96303669e-02, -1.29746720e-01,  6.49859384e-02, -4.50607128e-02,  7.31580034e-02, -3.68776098e-02,  2.04191878e-01, -3.93209495e-02, -2.11611434e-04,  2.67488398e-02,  1.04472831e-01,  2.21096464e-02,  7.47513324e-02, -2.53044777e-02,  7.50987232e-02, -8.44342858e-02,  1.63626358e-01,  5.75108603e-02, -1.29780155e-02, -1.29109193e-02,  3.85808535e-02,  1.74937472e-02, -1.06797926e-01,  5.42376675e-02, -6.52096421e-02, -1.99693777e-02, -2.08416898e-02, -1.25457579e-02,  8.01699385e-02, -2.67309323e-02, -1.28805414e-01,  1.51239157e-01,  9.86654982e-02, -1.33856922e-01,  1.76538184e-01, -9.75124259e-03, -9.58225802e-02, -1.01672374e-01,  4.86746691e-02, -8.28838050e-02, -5.99110089e-02, -1.34672374e-01,  5.67221157e-02,  9.94286314e-02,  2.00656801e-01,  1.31792650e-01,  3.25469598e-02, -3.58752608e-02,  1.24632962e-01, -1.19493686e-01,  3.28441262e-02,  1.11321047e-01, -1.44446447e-01,  5.49187027e-02, -2.46985722e-02, -6.37262762e-02,  1.55971525e-02,  9.82847214e-02,  1.84698433e-01,  1.01856753e-01,  9.34610590e-02,  4.80278246e-02, -5.87002784e-02,  2.38543265e-02, -9.61736739e-02,  7.11980611e-02,  1.79341026e-02, -4.54929397e-02,  2.38093100e-02,  8.03314149e-02,  1.74869567e-01,  7.71606788e-02,  1.48778826e-01,  3.46285775e-02, -1.78554490e-01,  4.43911068e-02, -9.01163071e-02,  6.56409413e-02, -1.44401584e-02,  4.27595526e-02, -2.66771112e-02, -4.89800144e-03]], dtype=float32)}"
            ]
          },
          "metadata": {
            "tags": []
          },
          "execution_count": 133
        }
      ]
    },
    {
      "cell_type": "code",
      "metadata": {
        "id": "oupd8HVrXeTg",
        "colab_type": "code",
        "colab": {
          "base_uri": "https://localhost:8080/",
          "height": 258
        },
        "outputId": "199fb0a2-e336-4571-f270-a068813edd94"
      },
      "source": [
        "Event_embedding = Lst_embed(Events, event_array)\n",
        "Event_embedding"
      ],
      "execution_count": 134,
      "outputs": [
        {
          "output_type": "execute_result",
          "data": {
            "text/plain": [
              "{'Certifications': array([[-0.02622697,  0.1323314 , -0.07933656, -0.05958174,  0.02174166,  0.01774574,  0.00393504,  0.15573442,  0.03231861,  0.15558924, -0.02188332,  0.05177488,  0.03396592,  0.0251112 ,  0.04587876,  0.02054276,  0.05123631,  0.00960169,  0.08924967,  0.02350604,  0.2586215 , -0.01055706, -0.03316978,  0.04662339, -0.01685476, -0.05775296, -0.05638898, -0.05432487, -0.00763475, -0.01671426,  0.03887858, -0.16345112,  0.07165498,  0.02070082, -0.0658092 ,  0.08015142,  0.02607125, -0.07549284,  0.05855378, -0.13110675, -0.04210997, -0.03396124, -0.12198041, -0.08546801, -0.05965901,  0.04859266, -0.05623327, -0.05659505,  0.11494159,  0.1686635 , -0.01245608, -0.13544455,  0.09639972, -0.08678984, -0.07847134,  0.00334613, -0.00114855,  0.09728484, -0.02478104, -0.09510131,  0.10785009,  0.10539845,  0.06441829, -0.0618402 , -0.00102796, -0.08595154,  0.1213435 , -0.02296631, -0.06114709,  0.07895839,  0.03255863, -0.0283063 ,  0.01853368,  0.11436556,  0.09289436, -0.05213431, -0.09226799, -0.02856973,  0.08763749, -0.11564992,  0.06752441,  0.15496403, -0.13023803, -0.09187811,  0.21155791, -0.075679  ,  0.08411925, -0.0480541 ,  0.04324916,  0.1446505 , -0.0144359 , -0.00153959,  0.04434853, -0.14364012, -0.07178493,  0.15504716, -0.08016197,  0.03019011, -0.21762848, -0.03133749,  0.09384973, -0.02361025, -0.00888399,  0.00615721, -0.06403662,  0.07069258,  0.14193074,  0.1289244 , -0.0090678 , -0.132356  ,  0.00590081, -0.1515102 ,  0.00280874, -0.00311197,  0.25284365, -0.03602418,  0.14319053, -0.00948109,  0.1489356 ,  0.00222802, -0.06106397,  0.02716361, -0.1072202 , -0.01040017, -0.03487212,  0.10712186, -0.09982546,  0.06330838]], dtype=float32),\n",
              " 'Competitions': array([[ 5.07777464e-03, -2.60172356e-02,  9.13311243e-02, -1.68486670e-01, -1.26420725e-02,  6.26014471e-02,  4.83630374e-02,  3.35366502e-02,  5.70703559e-02,  7.81265125e-02,  4.90332916e-02, -1.31956309e-01,  5.70748411e-02, -2.91590523e-02, -1.59948394e-02, -7.89972469e-02,  9.31563675e-02,  1.45623222e-01,  8.47991332e-02, -6.43892884e-02,  1.62922651e-01,  4.34588082e-02, -8.42605382e-02,  1.27638549e-01,  1.42120838e-01,  5.98561019e-02,  4.23247600e-03, -1.52647421e-02,  3.07404343e-02,  1.14018032e-02,  7.14479089e-02,  5.83959036e-02,  7.05831572e-02,  1.22747786e-01,  7.93712735e-02, -9.00354981e-03,  5.17247766e-02,  1.17889948e-01, -1.85497358e-01, -3.87909673e-02,  1.99176222e-02,  1.24149650e-01,  4.91769146e-03, -1.86489280e-02, -3.68774496e-02, -4.58331220e-02, -5.01194596e-03, -3.25028449e-02,  1.66161716e-01,  2.11816803e-01,  1.60584241e-01, -1.36384768e-02,  2.59663705e-02,  2.25941520e-02,  1.78769380e-02,  4.35066819e-02, -3.15124243e-02, -8.50774124e-02, -6.03587888e-02,  1.27514377e-01, -7.50146201e-03,  5.23875542e-02,  8.77524391e-02,  1.72665268e-02, -7.00834617e-02,  4.77705784e-02, -3.47634554e-02,  1.54489115e-01, -1.84547335e-01,  1.29902169e-01,  1.01815812e-01, -3.55743431e-02, -7.72108957e-02,  1.83078155e-01,  4.28932793e-02,  3.45225818e-02, -9.07955170e-02, -5.25042489e-02,  1.32399157e-01,  5.42546883e-02,  7.41349086e-02,  1.74533918e-01, -1.16233766e-01, -1.24176568e-03,  1.33705258e-01, -1.45496041e-01, -5.50296716e-02, -6.28139004e-02,  1.92307606e-01,  1.10023439e-01, -1.02782296e-03, -4.92517203e-02, -1.01744004e-01,  3.53230000e-03, -6.87279925e-02,  3.22051197e-02, -1.00144662e-01,  3.03334948e-02,  6.71810210e-02,  9.31324288e-02,  5.89150526e-02, -1.51809594e-02, -5.52002303e-02,  8.75639319e-02, -5.81520386e-02,  2.39645820e-02,  1.38217509e-01,  1.37648985e-01,  5.95209710e-02, -8.57147500e-02, -1.05068348e-01,  8.62668082e-02,  1.48405969e-01, -4.62056510e-02,  4.54695709e-02,  1.96288736e-03,  1.19668804e-01, -1.02168895e-01,  7.21989498e-02,  1.15469247e-01,  3.30324657e-02, -9.82491020e-03,  1.57120768e-02,  1.57970548e-01, -6.83285370e-02,  2.71841954e-03, -1.28664877e-04,  7.53482506e-02]], dtype=float32),\n",
              " 'Courses': array([[ 0.15790348, -0.03566315,  0.1411371 , -0.12078588,  0.03002203, -0.00804193,  0.08807523, -0.14295134,  0.00901446,  0.00205627,  0.0041627 , -0.1469941 , -0.00234847,  0.00605543,  0.03689299,  0.12101702, -0.09630468,  0.05672087, -0.00966427,  0.00035979,  0.08911535, -0.14078821, -0.11088394,  0.07200664,  0.05914348,  0.0155736 , -0.1200663 , -0.05287653, -0.1823149 , -0.08659679,  0.03803778, -0.10291397,  0.01017016,  0.22430168,  0.01030535,  0.03538404, -0.09690651,  0.07469963, -0.10753023,  0.07638303,  0.01956621,  0.01913882, -0.00547104,  0.00674231, -0.22639722,  0.05700216, -0.04966238, -0.07617369, -0.03938755,  0.06157481, -0.03298977, -0.04199333, -0.10606489, -0.05900829, -0.14294915, -0.05193017, -0.09171022, -0.06467121,  0.11500739, -0.16060738, -0.05662493,  0.03132164,  0.10807755,  0.06654432, -0.03497845, -0.09563524,  0.02631724, -0.06644401, -0.02612754,  0.10029947,  0.06932671, -0.10471076, -0.00910386,  0.05559134, -0.08705036,  0.08151608, -0.00336025, -0.06070694,  0.14569448, -0.0131837 ,  0.14595397, -0.01185137, -0.04582458, -0.08928543, -0.07718329, -0.00422157, -0.08280916, -0.04106877,  0.19412266,  0.16131388, -0.07467565,  0.03889693,  0.02739662, -0.00236373,  0.01398833,  0.00444835, -0.21071677, -0.11947755,  0.04150924, -0.13564862,  0.03584632,  0.05419141,  0.03625844,  0.00398607,  0.07309692, -0.02549081, -0.07295082,  0.18176322, -0.18584959,  0.02179911, -0.13713576,  0.00900573, -0.06257351, -0.01380298,  0.12782256,  0.00369824,  0.08155533,  0.00957268,  0.1299617 , -0.04878143, -0.00710864, -0.05730744, -0.05850021, -0.0521962 ,  0.01169655, -0.15930994,  0.07574195,  0.05484122]], dtype=float32),\n",
              " 'Expos': array([[-0.06797885,  0.10213025,  0.03200351, -0.14943305, -0.04276524,  0.09340724, -0.10232039, -0.08708917,  0.03128403,  0.0146784 ,  0.07446124,  0.00846831, -0.01997182,  0.04088731,  0.06595773, -0.03494482,  0.0056608 ,  0.13810325,  0.05741078, -0.05879693,  0.02941079,  0.05416548,  0.14901873,  0.06028871,  0.12904455, -0.09062321, -0.08521828, -0.12443893, -0.01923356,  0.06639317,  0.07104458, -0.16008562,  0.07312673,  0.0363568 ,  0.00117371,  0.07225115, -0.02746243, -0.00278404, -0.00776995,  0.08085208, -0.08574293,  0.16372178,  0.02857511,  0.16826051, -0.094061  ,  0.1726807 ,  0.02438849, -0.12228282,  0.06062791,  0.0558873 ,  0.04102463, -0.04191313,  0.03914553,  0.01254225,  0.01394835,  0.06017252,  0.14239079, -0.15319712,  0.04390492,  0.01895187, -0.01796244,  0.06359036,  0.05705163, -0.04405867,  0.08883213, -0.02939201,  0.01080281, -0.16031215, -0.11870653,  0.06216899,  0.12123001,  0.04569365,  0.03213966,  0.19934148, -0.0403791 , -0.09573236, -0.06620537,  0.06608331,  0.04800468, -0.09108682,  0.17369479,  0.23346706, -0.08058683, -0.06947415, -0.0216068 , -0.16192366, -0.02293661, -0.08288612,  0.10682273,  0.1245293 ,  0.14587319,  0.10299879, -0.08921241, -0.08026523, -0.07859504, -0.09511499,  0.02130281,  0.04471595, -0.0250399 , -0.02313849, -0.04876407,  0.02249295, -0.09298941, -0.04273121, -0.06251876,  0.09761146,  0.05884857,  0.14625582, -0.05451876, -0.12844245, -0.09410443,  0.05005632,  0.14280042,  0.03456102, -0.0981103 ,  0.04771243,  0.03125703, -0.13941897,  0.15874642, -0.08481218,  0.0781596 , -0.06476993,  0.00962676,  0.07317838, -0.00093192,  0.14009151,  0.03962792, -0.06167369]], dtype=float32),\n",
              " 'Fests': array([[-2.29851250e-03,  1.70845087e-04, -3.69398668e-03, -1.47656098e-01,  7.08518997e-02,  1.54436782e-01,  8.09863117e-03, -1.21358879e-01,  7.08217472e-02, -4.47226502e-02,  1.07236162e-01, -1.68546572e-01, -4.85113896e-02,  1.16140202e-01, -8.14026629e-04, -6.06413893e-02,  7.55020455e-02, -1.32297268e-02,  5.14258072e-03, -1.17967807e-01,  1.90571230e-02,  9.54923555e-02,  9.15227160e-02,  1.53516512e-02,  3.19853574e-02, -4.48001772e-02, -7.72808418e-02, -1.48267701e-01, -4.94316556e-02,  4.55826195e-03,  7.98234192e-04, -8.38145912e-02,  2.08746865e-01,  1.43426597e-01,  3.50433439e-02, -4.04113233e-02,  1.73185244e-02,  3.05669159e-02, -1.03404351e-01,  6.82992712e-02, -8.76894668e-02,  1.94868192e-01,  5.56050539e-02,  1.00466959e-01, -1.12193540e-01,  1.34360328e-01, -1.38829579e-03, -1.51347220e-01,  5.97728118e-02, -6.98454911e-03,  3.73992813e-03, -2.08043382e-02,  5.81605509e-02,  6.26656935e-02,  2.80688424e-02,  2.90494077e-02,  5.17890304e-02, -6.35787770e-02, -8.95055979e-02,  2.79956218e-03,  3.37383151e-02, -2.14159340e-02,  3.60468775e-02,  9.99013111e-02,  3.05654760e-03,  7.29781315e-02, -1.99773889e-02, -1.27496377e-01, -4.51447368e-02,  4.07989584e-02,  6.05796613e-02,  8.86513740e-02, -6.08323365e-02,  1.58040330e-01, -5.21077514e-02, -2.87464801e-02,  4.52366211e-02,  3.41302529e-02,  1.16687194e-01,  1.58010181e-02,  2.89302468e-02,  2.42307156e-01, -5.39468490e-02, -1.06011525e-01, -2.17030689e-01, -2.93810479e-02,  1.09139867e-02,  6.49929140e-03,  1.74040899e-01,  1.00472704e-01,  4.63578803e-03,  1.45219758e-01, -1.38612792e-01, -8.20515826e-02, -3.68967955e-03, -8.05556122e-03, -8.94108415e-02, -2.93609481e-02,  2.42271259e-01,  2.74457596e-02, -6.44947365e-02, -8.87245964e-03,  6.94291517e-02, -1.25164852e-01, -6.87830970e-02, -1.98424365e-02,  1.20939657e-01,  1.17084883e-01, -9.03612599e-02, -1.24781519e-01, -1.01115890e-01,  1.26369372e-01,  1.09986905e-02,  4.36444563e-04, -1.11296244e-01,  9.34623182e-03,  2.14374699e-02, -8.77023935e-02,  1.33933928e-02,  1.05952669e-03, -2.57617179e-02, -1.52906358e-01,  6.21718168e-02,  2.27410588e-02, -7.78565463e-03,  3.72758135e-02,  1.69604674e-01,  3.47418487e-02]], dtype=float32),\n",
              " 'Hackathons': array([[-0.08448447, -0.08690038,  0.01737547, -0.13063666,  0.0365156 ,  0.1924467 , -0.1833833 , -0.1312469 ,  0.09400202,  0.03682772, -0.02903782, -0.19567889,  0.07069533,  0.09903189,  0.06822342, -0.10168588,  0.04907528,  0.02783037, -0.05162423,  0.14896949,  0.03599141,  0.0297981 ,  0.08577595,  0.06907673,  0.09056073, -0.11975161, -0.04314207,  0.04766675, -0.06845249, -0.02332069, -0.04571803, -0.06386179,  0.03784209,  0.03245309, -0.10185794, -0.07407059,  0.06188705,  0.06554142,  0.00167462,  0.1062986 , -0.00572713,  0.07550012,  0.15719956,  0.10627058,  0.14057636, -0.1675404 , -0.07391553, -0.16511449,  0.03108158,  0.09505241,  0.07051927, -0.09142505, -0.04947543, -0.06708799,  0.0775939 ,  0.01739948,  0.07594829, -0.03904354, -0.01970734,  0.06467108, -0.01345801,  0.05103601,  0.15235576,  0.18923548,  0.0636317 ,  0.08114823,  0.11305111, -0.07789401, -0.02374084,  0.06420892, -0.00124646,  0.01855491, -0.08935228, -0.00705163, -0.03956774, -0.00593921, -0.01164034,  0.18037419,  0.06675186, -0.13616173, -0.0367747 ,  0.1575757 , -0.03089451, -0.00163461, -0.10483005, -0.11268598,  0.12929717, -0.05701024,  0.13414496,  0.02381187,  0.05199737,  0.00338426,  0.12089403, -0.10259922, -0.06049553, -0.2005367 , -0.03620549,  0.0273852 , -0.04925935, -0.02772833,  0.0786683 ,  0.03406469,  0.00716567, -0.03499803,  0.02137096,  0.09206829,  0.02977809,  0.12805569, -0.05159522, -0.05928808, -0.06914276,  0.08137832, -0.18215786,  0.01908511, -0.05621694,  0.05939912, -0.05382505, -0.08138232,  0.13951397, -0.03947971,  0.15929434, -0.10816229, -0.01071199,  0.03755799, -0.06313051,  0.05661809,  0.11665745, -0.0077849 ]], dtype=float32),\n",
              " 'Internships': array([[-0.04921836,  0.16230248,  0.00969581, -0.10275519, -0.00562412,  0.01921666, -0.03246333,  0.01558187, -0.04663841,  0.13207826, -0.01355816, -0.10491442, -0.02707182,  0.08440424, -0.13318266, -0.12562282,  0.02799113,  0.05688844,  0.03322083,  0.03980269,  0.06993789,  0.07311858, -0.12569058, -0.02247624, -0.02221329, -0.10546156, -0.07777686, -0.01901338, -0.15956272, -0.04451457, -0.03352727, -0.0777627 , -0.13361755,  0.11842404,  0.05721308,  0.05856222,  0.20685647,  0.11901972,  0.07122129,  0.05133006,  0.03803081, -0.05172752,  0.01576391,  0.04806846,  0.04245446,  0.08080383,  0.12267373, -0.10880002,  0.06127366,  0.08936896,  0.02971144, -0.1845188 ,  0.17329988,  0.03747254, -0.01168413, -0.05686114, -0.18713719, -0.07340379, -0.06615847, -0.04459953,  0.01372908,  0.08349604, -0.06713342,  0.00913451,  0.08164831, -0.11369497, -0.02802754,  0.00368738, -0.09891105,  0.12282442, -0.08092621,  0.1688904 , -0.07223265,  0.14003557,  0.05080112, -0.04808565, -0.01077695,  0.10491543,  0.03581899, -0.07705476,  0.04709958,  0.03580078, -0.12868822, -0.09807061,  0.05938142, -0.06796677,  0.0586846 , -0.1703336 ,  0.10334582,  0.15460002,  0.05118746, -0.00033375,  0.07796498, -0.01830948, -0.07331681, -0.10486082, -0.03974403, -0.00838814, -0.07632153, -0.17381264, -0.02884876,  0.06856347,  0.01456344, -0.16883579,  0.07409151, -0.0720415 ,  0.16542147,  0.0789116 , -0.03577651, -0.06566595, -0.05039052, -0.04438917, -0.08815837,  0.14056553, -0.04679314, -0.07476406,  0.12391061, -0.01662963,  0.10213422,  0.11856259,  0.07255527,  0.09889688,  0.0523849 , -0.02694034, -0.09170518,  0.16249461,  0.0374331 ,  0.02303552]], dtype=float32),\n",
              " 'Jobs': array([[ 0.07966279,  0.2121143 ,  0.06845286, -0.12294513, -0.08577138, -0.04196548,  0.10367058, -0.01499175, -0.10232183,  0.13510251,  0.05105727, -0.05052175,  0.0182952 ,  0.0723463 , -0.14358039, -0.19162257,  0.10264473,  0.14352457,  0.06958103,  0.05415209,  0.04696317,  0.09202348, -0.09168728, -0.09714077,  0.00792243,  0.02041467, -0.03918824,  0.0094798 , -0.06917441, -0.03484034,  0.00961534, -0.0958744 , -0.12739535,  0.03691065,  0.00958744, -0.05465306,  0.09376954,  0.06811269, -0.00318518,  0.11387859,  0.08258487, -0.11180829, -0.00308685, -0.03109307,  0.08624311,  0.04065925,  0.11670101,  0.06413552, -0.02013562,  0.14611046,  0.12647714, -0.22786084,  0.0213196 , -0.11868493, -0.01555517,  0.05827808, -0.27453166, -0.01810784, -0.03332948,  0.06335019, -0.00787459,  0.10264473, -0.07075837, -0.02533928,  0.05739707, -0.01509407, -0.0823696 , -0.03651067, -0.13765916, -0.03671132, -0.17511594, -0.04489686, -0.08943759,  0.08502724, -0.03672594,  0.00123713,  0.07083942,  0.01067043,  0.12240165, -0.06346314,  0.07386781,  0.16525212, -0.1099373 , -0.02947457,  0.13771099, -0.13995403, -0.00875294, -0.10774475,  0.11579607,  0.03221725,  0.06603042,  0.05542643,  0.04187113, -0.02248364, -0.02567281,  0.02132624,  0.08971399, -0.0204067 , -0.01128169, -0.16613977,  0.02053958, -0.10817529, -0.01832576, -0.20242852,  0.11548647, -0.04571674,  0.06572479,  0.03558581, -0.00757428, -0.04917699, -0.07670085,  0.01772647, -0.11834343,  0.02151759, -0.06417538, -0.08214768,  0.09030265,  0.05046861,  0.05180938,  0.04869994, -0.01300251,  0.12004431,  0.03160998,  0.00138197, -0.08229651, -0.02475194,  0.13314249, -0.02001071]], dtype=float32),\n",
              " 'Seminars': array([[-0.02815981,  0.04588025, -0.00156279, -0.22709666, -0.08210201,  0.01355546, -0.0597565 , -0.1233171 ,  0.0621466 ,  0.11842612,  0.03241133,  0.08708058,  0.0087204 ,  0.00102463, -0.00057615,  0.00452482, -0.07628981,  0.06782689,  0.05128408, -0.00788361,  0.0656299 ,  0.05614129,  0.06552649,  0.04758023,  0.18924774,  0.00719982, -0.1329123 , -0.0590991 , -0.09555723,  0.02800258, -0.1274251 , -0.19155341,  0.01918615, -0.12081305,  0.0526928 ,  0.08764301, -0.00201443,  0.06406499, -0.09774682, -0.01385936,  0.0382594 , -0.03282181,  0.07241923,  0.11034941, -0.05209133,  0.19212112, -0.03656998, -0.08916676,  0.08195428,  0.03770962,  0.01155369, -0.05472307,  0.13007057, -0.08718399,  0.04366111,  0.04117078,  0.02981652, -0.1619986 ,  0.05818632, -0.06111775,  0.08690013, -0.01218366,  0.05752892,  0.14409137,  0.1263741 , -0.19581655,  0.01085724, -0.1377695 ,  0.00542915, -0.05133684,  0.11516758, -0.01539578,  0.03291572,  0.15933941, -0.07053566, -0.09869652, -0.00418503,  0.07285294,  0.09993642, -0.14917018,  0.22457467,  0.1301803 , -0.04634244, -0.0250986 , -0.06109031, -0.17920725,  0.12367588,  0.01774155,  0.02515769,  0.15209527,  0.07114558, -0.06636751, -0.06967354, -0.01626423, -0.02763959, -0.06577658, -0.08816429,  0.06914487, -0.08925434, -0.08187514, -0.06476778,  0.0718874 ,  0.02237717, -0.20307967, -0.10303773,  0.02215134,  0.06356482,  0.07263978, -0.07679211,  0.02623824, -0.06652157,  0.08406368,  0.02067508,  0.00935776, -0.01710419,  0.06708822,  0.18265995, -0.05589859,  0.085541  , -0.09916504,  0.08909923,  0.04883173, -0.05005685,  0.04917046, -0.04627175,  0.04845818,  0.05993695,  0.01206864]], dtype=float32),\n",
              " 'Talks': array([[ 0.02636901,  0.07348055, -0.15026888, -0.13660114, -0.11458269, -0.12084925,  0.05603733, -0.07961853,  0.03841748,  0.11091319,  0.02230105, -0.08384051,  0.10176273, -0.03337739, -0.01177718, -0.01693031, -0.20121667,  0.11679118,  0.02712354,  0.01661805,  0.10147025, -0.17152292,  0.14730588,  0.00598962,  0.06238443, -0.09690209, -0.16917312, -0.12937517, -0.01292876,  0.04384473,  0.06488682, -0.00393373,  0.00468685, -0.07110957,  0.07042569,  0.05497335, -0.08489742,  0.00078279,  0.01899185,  0.03590379, -0.06502528, -0.05700804,  0.17290199,  0.0669653 ,  0.12344631,  0.09223785,  0.00338267,  0.07570881, -0.00400438,  0.02150412,  0.11183445, -0.04690383,  0.08768946, -0.01360699, -0.01290897, -0.08300968, -0.12463603, -0.06051647,  0.08238373,  0.07348762, -0.18337779, -0.02430041,  0.19189666, -0.00571267,  0.15399633, -0.04737294,  0.05501574, -0.08984143, -0.09872483, -0.06786678, -0.05657991,  0.00677665, -0.10873155,  0.07749341, -0.02515667,  0.01173761,  0.04733197,  0.02577838,  0.03797522,  0.03820836,  0.07815751, -0.02395423, -0.09916285, -0.17449017,  0.00125896, -0.06828927,  0.02990004, -0.05342755,  0.01933379,  0.21638075, -0.05003216, -0.15596743,  0.01753365, -0.00363983,  0.08191462, -0.01727084,  0.00170264,  0.03635736, -0.06375219, -0.11867468, -0.08290794,  0.07299872,  0.05754356, -0.04058358, -0.11286733, -0.05694446,  0.11415315, -0.02368294, -0.15126927, -0.04615919, -0.08674701,  0.00151895, -0.09333007,  0.02345969,  0.04472502,  0.01688227,  0.13120073, -0.20515887, -0.03225831, -0.04238088, -0.11579078,  0.0021661 , -0.12041546,  0.11909998, -0.03038046, -0.03303969,  0.20533974,  0.01906532]], dtype=float32),\n",
              " 'Trainings': array([[ 0.02284346,  0.07746359,  0.05419392, -0.110233  , -0.06078361, -0.01021589, -0.05705453, -0.11558412, -0.14439464,  0.08361904,  0.08060478, -0.06132473, -0.02996759,  0.01851446, -0.11481452, -0.01489494, -0.09180405, -0.0667667 ,  0.01176578, -0.02642022,  0.28008187, -0.04709784, -0.00653357, -0.04251766,  0.0989322 , -0.01505528, -0.20555103,  0.00495028, -0.06280114,  0.05587207, -0.19868477, -0.04015809,  0.03046195, -0.01846503, -0.07196818,  0.14283407,  0.00900137,  0.06656228,  0.12919639, -0.02250141, -0.07640941, -0.03833965, -0.0450723 ,  0.09339002,  0.0241181 ,  0.02306391,  0.16665421,  0.04655939,  0.11134999,  0.11476375, -0.01513411, -0.15400928,  0.15080929, -0.06481866,  0.03072516,  0.08265838, -0.11720081, -0.08034692,  0.00949706, -0.10793088,  0.03483637,  0.13164549, -0.06347854, -0.03742174, -0.05099795, -0.11222515,  0.02871699,  0.05102601, -0.08142382,  0.12109691, -0.05555942, -0.10018948,  0.03919743,  0.12890247,  0.01829   ,  0.07719237, -0.03231112,  0.00115841,  0.12678072, -0.15770362,  0.1363526 ,  0.06001401, -0.20056199, -0.12609127,  0.08211058, -0.002409  ,  0.08290824, -0.10465876,  0.08488701,  0.17180625, -0.03362986, -0.04590202,  0.0244361 ,  0.10576773,  0.00564372, -0.02644828,  0.0498676 ,  0.0253019 ,  0.06007013, -0.08156411,  0.06244172,  0.08095618, -0.0537343 ,  0.07277252,  0.02166234,  0.11481319,  0.13228948,  0.18040411, -0.03305133, -0.02803424,  0.00136016,  0.08198231,  0.01063543,  0.11015417,  0.16331795,  0.01338915,  0.05540577,  0.05033123,  0.06796385, -0.04751739, -0.01855989,  0.08574613, -0.07221536,  0.03156691, -0.0209061 ,  0.03146938, -0.13701665,  0.07662852]], dtype=float32),\n",
              " 'Webinars': array([[-0.03103358,  0.00826895, -0.026003  , -0.20490265, -0.11443621,  0.08002424, -0.01145732, -0.07125022,  0.01770204,  0.11549333, -0.1429255 , -0.05159695, -0.01176136,  0.04968773, -0.02457984, -0.01970627,  0.08275655,  0.0268991 ,  0.03158564,  0.0286403 ,  0.08472378,  0.1456028 ,  0.08524483,  0.13163118,  0.16769135,  0.05221903, -0.18579544,  0.04621634, -0.07661185,  0.07333846, -0.08413271, -0.09387283,  0.02938139, -0.10324591,  0.00929907,  0.04408009,  0.02299065,  0.1230682 , -0.03404593,  0.08202146,  0.07008009, -0.14694096,  0.10198277,  0.08962634, -0.05998792,  0.12922291, -0.07470962, -0.07943616,  0.03333885,  0.05512736,  0.01219341, -0.11318706,  0.01345455, -0.15194954,  0.04497519,  0.02952441,  0.02906436, -0.14273547,  0.04186683, -0.05149794,  0.0832276 ,  0.02756018,  0.14251545,  0.09628411,  0.08910228, -0.14238644,  0.10953064, -0.11838766, -0.05672855,  0.00241128,  0.13742386, -0.05493234,  0.05884779,  0.11195892, -0.07929315, -0.10033358, -0.10161272,  0.15931939,  0.09264869, -0.10197977,  0.14266646,  0.09562203,  0.08099635,  0.01499073, -0.04619133, -0.14092626,  0.17219688,  0.05482433, -0.00366242,  0.11742856,  0.08910328, -0.14281449,  0.00241728, -0.13648275,  0.04123876, -0.0043235 , -0.03763735,  0.03479102, -0.1534137 , -0.16248074, -0.03917252,  0.05215802,  0.00716083, -0.07568473, -0.09208162,  0.11974282,  0.12429034, -0.05390922, -0.034681  ,  0.02756218, -0.02940039,  0.1186997 , -0.09937347, -0.01676093,  0.06385137, -0.02443982,  0.12884487, -0.04349502,  0.00303835, -0.15500489,  0.01414863,  0.01466469, -0.05936785,  0.06373636, -0.04913067,  0.02307666,  0.01268846, -0.06983306]], dtype=float32),\n",
              " 'Workshops': array([[-0.04801509,  0.10194302,  0.03067939, -0.18310699, -0.05705937,  0.03611538, -0.07504693, -0.1587275 ,  0.01675227,  0.1260465 ,  0.00508817,  0.10258703,  0.00716271,  0.03090603, -0.05675307, -0.00694954, -0.1233111 ,  0.07200301,  0.02232402, -0.018479  ,  0.00419845,  0.05246935,  0.03340468,  0.05446647,  0.15888794, -0.04052139, -0.18113117, -0.01267612, -0.09568013, -0.0293678 , -0.15507321, -0.15248479,  0.02458705, -0.04287531,  0.06291272,  0.07675233, -0.02533204,  0.0724619 , -0.0911765 ,  0.02376352,  0.02241378,  0.02665598,  0.02962025,  0.15893057, -0.03021938,  0.2072486 ,  0.03737424, -0.1057656 ,  0.08046609,  0.10991692,  0.01036035, -0.11114661,  0.09773447, -0.025718  ,  0.05631886,  0.04548054,  0.01785069, -0.14769508,  0.09597745,  0.04288316,  0.09444258, -0.00301925,  0.03740229,  0.10183305,  0.02461622, -0.17095034,  0.05400871, -0.12666582,  0.0638249 , -0.01579073,  0.09865225,  0.03011504, -0.00317632,  0.0677406 , -0.12327745, -0.16340503, -0.03893604,  0.0657547 ,  0.0803236 , -0.19812803,  0.24009229,  0.1628429 , -0.02422241, -0.06036359, -0.03752235, -0.12845762,  0.12922056,  0.06731313,  0.03655969,  0.10896435,  0.04277096, -0.03826397,  0.00143838, -0.15378967, -0.06841828, -0.09523807, -0.09458844,  0.01819514, -0.01233616,  0.01250782, -0.02378147,  0.0910183 , -0.00840587, -0.17517458, -0.0777251 ,  0.04907873,  0.0773223 ,  0.14066812, -0.0327573 ,  0.02527819, -0.09178125,  0.0904461 , -0.04736546, -0.01759936,  0.01640782,  0.10877138,  0.1149647 , -0.07317996,  0.10578692, -0.13866651,  0.10352389,  0.05071682, -0.0306289 ,  0.02051763, -0.02611631,  0.03432695,  0.06861687,  0.01267948]], dtype=float32)}"
            ]
          },
          "metadata": {
            "tags": []
          },
          "execution_count": 134
        }
      ]
    },
    {
      "cell_type": "markdown",
      "metadata": {
        "id": "8h8p0tfwKV1G",
        "colab_type": "text"
      },
      "source": [
        "# Extracting Domains & Events from input   "
      ]
    },
    {
      "cell_type": "code",
      "metadata": {
        "id": "OOhNocupqvEM",
        "colab_type": "code",
        "colab": {}
      },
      "source": [
        "#FUNCTION for Domain_Recommendation for respective ngrams\n",
        "def Domain_Recommendation_ngram(preprocess_ngram, threshold):\n",
        "    Domain_Recommendation_ngram = {}\n",
        "    for j in range(len(preprocess_ngram['input'])):\n",
        "        word2vec_input_event = embed(preprocess_ngram['input'][j]).numpy()\n",
        "        domain_recommend = [] #list to keep domains matched to input event\n",
        "        for i in range(len(Domain)):\n",
        "            similarity_index = cosine_similarity(word2vec_input_event, Domain_embedding[Domain[i]])\n",
        "            for value in np.nditer(similarity_index):\n",
        "                if value >= threshold :\n",
        "                    domain_recommend.append(Domain[i])\n",
        "                    break\n",
        "        if not domain_recommend:\n",
        "            domain_recommend.append('Other') #if no domain recommended\n",
        "        Domain_Recommendation_ngram[input.iloc[:,0][j]] = domain_recommend\n",
        "    return Domain_Recommendation_ngram"
      ],
      "execution_count": 135,
      "outputs": []
    },
    {
      "cell_type": "code",
      "metadata": {
        "id": "EEH-RQV2r5vN",
        "colab_type": "code",
        "colab": {
          "base_uri": "https://localhost:8080/",
          "height": 816
        },
        "outputId": "01c8c3ab-5e6d-43f5-f7fe-19ee87c287fe"
      },
      "source": [
        "Domain_Recommendation_Bigram = Domain_Recommendation_ngram(preprocessBigram, 0.5)\n",
        "Domain_Recommendation_Bigram"
      ],
      "execution_count": 136,
      "outputs": [
        {
          "output_type": "execute_result",
          "data": {
            "text/plain": [
              "{'AI & Big Data Expo in 36 hours': ['Data Science'],\n",
              " 'Advanced Certification in Open Banking from July 2020': ['Other'],\n",
              " 'Arrange a Machine Learning Workshop and Internship ': ['Machine Learning',\n",
              "  'Software Architecture'],\n",
              " 'Attend the Computer Vision and Deep Learning Summit tomorrow': ['Data Science',\n",
              "  'Machine Learning',\n",
              "  'Software Architecture'],\n",
              " 'Bolt IoT and ML Innovation Training in August': ['Development Processes',\n",
              "  'IoT',\n",
              "  'Software Architecture'],\n",
              " 'Book Online Tickets for workshops on C programming': ['C'],\n",
              " 'CodeBoost codeathon is live now!': ['Other'],\n",
              " 'Digital Marketing Workshop and Webinar ': ['Web Development'],\n",
              " \"Don't miss the Web Development Course in Pune\": ['Development Processes',\n",
              "  'Software Architecture',\n",
              "  'Web Development'],\n",
              " 'Four days of hands-on security training followed by the two-day main conference covering the information security research': ['Artificial Intelligence',\n",
              "  'Data Science',\n",
              "  'Management',\n",
              "  'Security',\n",
              "  'Software Architecture',\n",
              "  'Web Development'],\n",
              " 'Get a System Administration certification from PurpleHat today.': ['Management'],\n",
              " 'Java Training in Electronic city Bangalore': ['Artificial Intelligence',\n",
              "  'Java',\n",
              "  'Machine Learning'],\n",
              " 'Lockdown special courses on Ydemi. 22 hours left!': ['Other'],\n",
              " 'Software development conference is designed for developers, team leads, architects, and project managers': ['Cloud Computing',\n",
              "  'Coding',\n",
              "  'Data Science',\n",
              "  'Development Processes',\n",
              "  'Hardware',\n",
              "  'Machine Learning',\n",
              "  'Management',\n",
              "  'Mobile Applications',\n",
              "  'Software Architecture',\n",
              "  'Web Development'],\n",
              " 'Spoonshot is hiring a Work From Home - Data Science Internship for 6 months in Bengaluru': ['Data Science'],\n",
              " 'Talk on the Role of Data analytics and Cloud Computing in Internet of Things 2020': ['Cloud Computing',\n",
              "  'Data Science',\n",
              "  'Mobile Applications',\n",
              "  'Networking',\n",
              "  'Software Architecture',\n",
              "  'Web Development'],\n",
              " 'Tech Savvy contest 2020 - The IOT Academy': ['IoT'],\n",
              " 'Ted Talk in the field of Security': ['Security'],\n",
              " 'We are happy to invite you to the much anticipated AngularJS Hackathon!': ['Other']}"
            ]
          },
          "metadata": {
            "tags": []
          },
          "execution_count": 136
        }
      ]
    },
    {
      "cell_type": "code",
      "metadata": {
        "id": "UTVypysZu8EI",
        "colab_type": "code",
        "colab": {
          "base_uri": "https://localhost:8080/",
          "height": 816
        },
        "outputId": "38d35298-225d-43a3-e0fa-c1efefcc44e3"
      },
      "source": [
        "Domain_Recommendation_Unigram = Domain_Recommendation_ngram(preprocessUnigram,0.5)\n",
        "Domain_Recommendation_Unigram"
      ],
      "execution_count": 137,
      "outputs": [
        {
          "output_type": "execute_result",
          "data": {
            "text/plain": [
              "{'AI & Big Data Expo in 36 hours': ['Data Science'],\n",
              " 'Advanced Certification in Open Banking from July 2020': ['Finance'],\n",
              " 'Arrange a Machine Learning Workshop and Internship ': ['Hardware',\n",
              "  'Machine Learning',\n",
              "  'Software Architecture'],\n",
              " 'Attend the Computer Vision and Deep Learning Summit tomorrow': ['Data Science',\n",
              "  'Hardware',\n",
              "  'Machine Learning',\n",
              "  'Software Architecture'],\n",
              " 'Bolt IoT and ML Innovation Training in August': ['Development Processes',\n",
              "  'IoT',\n",
              "  'Software Architecture'],\n",
              " 'Book Online Tickets for workshops on C programming': ['C'],\n",
              " 'CodeBoost codeathon is live now!': ['Other'],\n",
              " 'Digital Marketing Workshop and Webinar ': ['Management'],\n",
              " \"Don't miss the Web Development Course in Pune\": ['Development Processes',\n",
              "  'Management',\n",
              "  'Web Development'],\n",
              " 'Four days of hands-on security training followed by the two-day main conference covering the information security research': ['Data Science',\n",
              "  'Security'],\n",
              " 'Get a System Administration certification from PurpleHat today.': ['Software Architecture'],\n",
              " 'Java Training in Electronic city Bangalore': ['Java'],\n",
              " 'Lockdown special courses on Ydemi. 22 hours left!': ['Security'],\n",
              " 'Software development conference is designed for developers, team leads, architects, and project managers': ['Cloud Computing',\n",
              "  'Coding',\n",
              "  'Data Science',\n",
              "  'Development Processes',\n",
              "  'Hardware',\n",
              "  'Machine Learning',\n",
              "  'Management',\n",
              "  'Mobile Applications',\n",
              "  'Software Architecture',\n",
              "  'Web Development'],\n",
              " 'Spoonshot is hiring a Work From Home - Data Science Internship for 6 months in Bengaluru': ['Data Science'],\n",
              " 'Talk on the Role of Data analytics and Cloud Computing in Internet of Things 2020': ['Cloud Computing',\n",
              "  'Data Science',\n",
              "  'Hardware',\n",
              "  'Management',\n",
              "  'Mobile Applications',\n",
              "  'Networking',\n",
              "  'Software Architecture',\n",
              "  'Web Development'],\n",
              " 'Tech Savvy contest 2020 - The IOT Academy': ['Hardware',\n",
              "  'IoT',\n",
              "  'Software Architecture'],\n",
              " 'Ted Talk in the field of Security': ['Security'],\n",
              " 'We are happy to invite you to the much anticipated AngularJS Hackathon!': ['Other']}"
            ]
          },
          "metadata": {
            "tags": []
          },
          "execution_count": 137
        }
      ]
    },
    {
      "cell_type": "code",
      "metadata": {
        "id": "HX1rktfQWRMh",
        "colab_type": "code",
        "colab": {}
      },
      "source": [
        "def Combine_Unigram_Bigram(unigram,bigram):\n",
        "    ds = [unigram, bigram]\n",
        "    d = {}\n",
        "    for k in unigram.keys():\n",
        "        d[k] = np.unique(np.concatenate(list(d[k] for d in ds))).tolist()\n",
        "    return d"
      ],
      "execution_count": 138,
      "outputs": []
    },
    {
      "cell_type": "code",
      "metadata": {
        "id": "mkmF9PsGWujq",
        "colab_type": "code",
        "colab": {
          "base_uri": "https://localhost:8080/",
          "height": 952
        },
        "outputId": "5760282f-eee7-44b4-db91-bf58c056e3fa"
      },
      "source": [
        "Domain_Recommendation = Combine_Unigram_Bigram(Domain_Recommendation_Unigram, Domain_Recommendation_Bigram)\n",
        "Domain_Recommendation"
      ],
      "execution_count": 139,
      "outputs": [
        {
          "output_type": "execute_result",
          "data": {
            "text/plain": [
              "{'AI & Big Data Expo in 36 hours': ['Data Science'],\n",
              " 'Advanced Certification in Open Banking from July 2020': ['Finance', 'Other'],\n",
              " 'Arrange a Machine Learning Workshop and Internship ': ['Hardware',\n",
              "  'Machine Learning',\n",
              "  'Software Architecture'],\n",
              " 'Attend the Computer Vision and Deep Learning Summit tomorrow': ['Data Science',\n",
              "  'Hardware',\n",
              "  'Machine Learning',\n",
              "  'Software Architecture'],\n",
              " 'Bolt IoT and ML Innovation Training in August': ['Development Processes',\n",
              "  'IoT',\n",
              "  'Software Architecture'],\n",
              " 'Book Online Tickets for workshops on C programming': ['C'],\n",
              " 'CodeBoost codeathon is live now!': ['Other'],\n",
              " 'Digital Marketing Workshop and Webinar ': ['Management', 'Web Development'],\n",
              " \"Don't miss the Web Development Course in Pune\": ['Development Processes',\n",
              "  'Management',\n",
              "  'Software Architecture',\n",
              "  'Web Development'],\n",
              " 'Four days of hands-on security training followed by the two-day main conference covering the information security research': ['Artificial Intelligence',\n",
              "  'Data Science',\n",
              "  'Management',\n",
              "  'Security',\n",
              "  'Software Architecture',\n",
              "  'Web Development'],\n",
              " 'Get a System Administration certification from PurpleHat today.': ['Management',\n",
              "  'Software Architecture'],\n",
              " 'Java Training in Electronic city Bangalore': ['Artificial Intelligence',\n",
              "  'Java',\n",
              "  'Machine Learning'],\n",
              " 'Lockdown special courses on Ydemi. 22 hours left!': ['Other', 'Security'],\n",
              " 'Software development conference is designed for developers, team leads, architects, and project managers': ['Cloud Computing',\n",
              "  'Coding',\n",
              "  'Data Science',\n",
              "  'Development Processes',\n",
              "  'Hardware',\n",
              "  'Machine Learning',\n",
              "  'Management',\n",
              "  'Mobile Applications',\n",
              "  'Software Architecture',\n",
              "  'Web Development'],\n",
              " 'Spoonshot is hiring a Work From Home - Data Science Internship for 6 months in Bengaluru': ['Data Science'],\n",
              " 'Talk on the Role of Data analytics and Cloud Computing in Internet of Things 2020': ['Cloud Computing',\n",
              "  'Data Science',\n",
              "  'Hardware',\n",
              "  'Management',\n",
              "  'Mobile Applications',\n",
              "  'Networking',\n",
              "  'Software Architecture',\n",
              "  'Web Development'],\n",
              " 'Tech Savvy contest 2020 - The IOT Academy': ['Hardware',\n",
              "  'IoT',\n",
              "  'Software Architecture'],\n",
              " 'Ted Talk in the field of Security': ['Security'],\n",
              " 'We are happy to invite you to the much anticipated AngularJS Hackathon!': ['Other']}"
            ]
          },
          "metadata": {
            "tags": []
          },
          "execution_count": 139
        }
      ]
    },
    {
      "cell_type": "code",
      "metadata": {
        "id": "rsEOQlk_x_Mb",
        "colab_type": "code",
        "colab": {}
      },
      "source": [
        "#FUNCTION for Event_Recommendation for respective ngrams\n",
        "def Event_Recommendation_ngram(preprocess_ngram, threshold):\n",
        "    Event_Recommendation_ngram = {}\n",
        "    for j in range(len(preprocess_ngram['input'])):\n",
        "        word2vec_input_event = embed(preprocess_ngram['input'][j]).numpy()\n",
        "        event_recommend = [] #list to keep event_type matched to input text event\n",
        "        for i in range(len(Events)):\n",
        "            similarity_index = cosine_similarity(word2vec_input_event, Event_embedding[Events[i]])\n",
        "            for value in np.nditer(similarity_index):\n",
        "                if value >= threshold :\n",
        "                    event_recommend.append(Events[i])\n",
        "                    break\n",
        "        Event_Recommendation_ngram[input.iloc[:,0][j]] = event_recommend\n",
        "    return Event_Recommendation_ngram"
      ],
      "execution_count": 140,
      "outputs": []
    },
    {
      "cell_type": "code",
      "metadata": {
        "id": "BT8RYTcdyt2-",
        "colab_type": "code",
        "colab": {
          "base_uri": "https://localhost:8080/",
          "height": 680
        },
        "outputId": "654bb06a-973f-43e0-ab13-a85795946075"
      },
      "source": [
        "Event_Recommendation_Bigram = Event_Recommendation_ngram(preprocessBigram, 0.5)\n",
        "Event_Recommendation_Bigram"
      ],
      "execution_count": 141,
      "outputs": [
        {
          "output_type": "execute_result",
          "data": {
            "text/plain": [
              "{'AI & Big Data Expo in 36 hours': ['Expos',\n",
              "  'Seminars',\n",
              "  'Webinars',\n",
              "  'Workshops'],\n",
              " 'Advanced Certification in Open Banking from July 2020': ['Certifications'],\n",
              " 'Arrange a Machine Learning Workshop and Internship ': ['Expos',\n",
              "  'Internships',\n",
              "  'Jobs',\n",
              "  'Seminars',\n",
              "  'Trainings',\n",
              "  'Webinars',\n",
              "  'Workshops'],\n",
              " 'Attend the Computer Vision and Deep Learning Summit tomorrow': ['Seminars',\n",
              "  'Workshops'],\n",
              " 'Bolt IoT and ML Innovation Training in August': ['Certifications',\n",
              "  'Trainings'],\n",
              " 'Book Online Tickets for workshops on C programming': ['Expos', 'Workshops'],\n",
              " 'CodeBoost codeathon is live now!': [],\n",
              " 'Digital Marketing Workshop and Webinar ': ['Expos',\n",
              "  'Seminars',\n",
              "  'Webinars',\n",
              "  'Workshops'],\n",
              " \"Don't miss the Web Development Course in Pune\": ['Courses'],\n",
              " 'Four days of hands-on security training followed by the two-day main conference covering the information security research': ['Seminars',\n",
              "  'Trainings'],\n",
              " 'Get a System Administration certification from PurpleHat today.': ['Certifications'],\n",
              " 'Java Training in Electronic city Bangalore': ['Trainings'],\n",
              " 'Lockdown special courses on Ydemi. 22 hours left!': [],\n",
              " 'Software development conference is designed for developers, team leads, architects, and project managers': ['Expos',\n",
              "  'Seminars',\n",
              "  'Webinars',\n",
              "  'Workshops'],\n",
              " 'Spoonshot is hiring a Work From Home - Data Science Internship for 6 months in Bengaluru': ['Internships',\n",
              "  'Jobs',\n",
              "  'Trainings'],\n",
              " 'Talk on the Role of Data analytics and Cloud Computing in Internet of Things 2020': ['Talks'],\n",
              " 'Tech Savvy contest 2020 - The IOT Academy': [],\n",
              " 'Ted Talk in the field of Security': ['Talks'],\n",
              " 'We are happy to invite you to the much anticipated AngularJS Hackathon!': ['Hackathons']}"
            ]
          },
          "metadata": {
            "tags": []
          },
          "execution_count": 141
        }
      ]
    },
    {
      "cell_type": "code",
      "metadata": {
        "id": "KPJOyvQtzhwT",
        "colab_type": "code",
        "colab": {
          "base_uri": "https://localhost:8080/",
          "height": 731
        },
        "outputId": "585eda9a-2d98-49ca-9625-e22a6cddac99"
      },
      "source": [
        "Event_Recommendation_Unigram = Event_Recommendation_ngram(preprocessUnigram,0.5)\n",
        "Event_Recommendation_Unigram"
      ],
      "execution_count": 142,
      "outputs": [
        {
          "output_type": "execute_result",
          "data": {
            "text/plain": [
              "{'AI & Big Data Expo in 36 hours': ['Expos', 'Fests', 'Seminars', 'Workshops'],\n",
              " 'Advanced Certification in Open Banking from July 2020': ['Certifications'],\n",
              " 'Arrange a Machine Learning Workshop and Internship ': ['Expos',\n",
              "  'Internships',\n",
              "  'Jobs',\n",
              "  'Seminars',\n",
              "  'Trainings',\n",
              "  'Webinars',\n",
              "  'Workshops'],\n",
              " 'Attend the Computer Vision and Deep Learning Summit tomorrow': ['Seminars',\n",
              "  'Trainings'],\n",
              " 'Bolt IoT and ML Innovation Training in August': ['Competitions',\n",
              "  'Trainings'],\n",
              " 'Book Online Tickets for workshops on C programming': ['Expos',\n",
              "  'Seminars',\n",
              "  'Webinars',\n",
              "  'Workshops'],\n",
              " 'CodeBoost codeathon is live now!': [],\n",
              " 'Digital Marketing Workshop and Webinar ': ['Expos',\n",
              "  'Seminars',\n",
              "  'Webinars',\n",
              "  'Workshops'],\n",
              " \"Don't miss the Web Development Course in Pune\": ['Courses'],\n",
              " 'Four days of hands-on security training followed by the two-day main conference covering the information security research': ['Expos',\n",
              "  'Seminars',\n",
              "  'Trainings',\n",
              "  'Webinars',\n",
              "  'Workshops'],\n",
              " 'Get a System Administration certification from PurpleHat today.': ['Certifications'],\n",
              " 'Java Training in Electronic city Bangalore': ['Trainings'],\n",
              " 'Lockdown special courses on Ydemi. 22 hours left!': ['Courses'],\n",
              " 'Software development conference is designed for developers, team leads, architects, and project managers': ['Expos',\n",
              "  'Seminars',\n",
              "  'Webinars',\n",
              "  'Workshops'],\n",
              " 'Spoonshot is hiring a Work From Home - Data Science Internship for 6 months in Bengaluru': ['Internships',\n",
              "  'Jobs',\n",
              "  'Trainings'],\n",
              " 'Talk on the Role of Data analytics and Cloud Computing in Internet of Things 2020': ['Talks'],\n",
              " 'Tech Savvy contest 2020 - The IOT Academy': ['Competitions'],\n",
              " 'Ted Talk in the field of Security': ['Talks'],\n",
              " 'We are happy to invite you to the much anticipated AngularJS Hackathon!': ['Hackathons']}"
            ]
          },
          "metadata": {
            "tags": []
          },
          "execution_count": 142
        }
      ]
    },
    {
      "cell_type": "code",
      "metadata": {
        "id": "FbLYTGa-0AqM",
        "colab_type": "code",
        "colab": {
          "base_uri": "https://localhost:8080/",
          "height": 833
        },
        "outputId": "a7aae028-d883-4575-c612-facde89d7ba0"
      },
      "source": [
        "Event_Recommendation = Combine_Unigram_Bigram(Event_Recommendation_Unigram, Event_Recommendation_Bigram)\n",
        "Event_Recommendation"
      ],
      "execution_count": 143,
      "outputs": [
        {
          "output_type": "execute_result",
          "data": {
            "text/plain": [
              "{'AI & Big Data Expo in 36 hours': ['Expos',\n",
              "  'Fests',\n",
              "  'Seminars',\n",
              "  'Webinars',\n",
              "  'Workshops'],\n",
              " 'Advanced Certification in Open Banking from July 2020': ['Certifications'],\n",
              " 'Arrange a Machine Learning Workshop and Internship ': ['Expos',\n",
              "  'Internships',\n",
              "  'Jobs',\n",
              "  'Seminars',\n",
              "  'Trainings',\n",
              "  'Webinars',\n",
              "  'Workshops'],\n",
              " 'Attend the Computer Vision and Deep Learning Summit tomorrow': ['Seminars',\n",
              "  'Trainings',\n",
              "  'Workshops'],\n",
              " 'Bolt IoT and ML Innovation Training in August': ['Certifications',\n",
              "  'Competitions',\n",
              "  'Trainings'],\n",
              " 'Book Online Tickets for workshops on C programming': ['Expos',\n",
              "  'Seminars',\n",
              "  'Webinars',\n",
              "  'Workshops'],\n",
              " 'CodeBoost codeathon is live now!': [],\n",
              " 'Digital Marketing Workshop and Webinar ': ['Expos',\n",
              "  'Seminars',\n",
              "  'Webinars',\n",
              "  'Workshops'],\n",
              " \"Don't miss the Web Development Course in Pune\": ['Courses'],\n",
              " 'Four days of hands-on security training followed by the two-day main conference covering the information security research': ['Expos',\n",
              "  'Seminars',\n",
              "  'Trainings',\n",
              "  'Webinars',\n",
              "  'Workshops'],\n",
              " 'Get a System Administration certification from PurpleHat today.': ['Certifications'],\n",
              " 'Java Training in Electronic city Bangalore': ['Trainings'],\n",
              " 'Lockdown special courses on Ydemi. 22 hours left!': ['Courses'],\n",
              " 'Software development conference is designed for developers, team leads, architects, and project managers': ['Expos',\n",
              "  'Seminars',\n",
              "  'Webinars',\n",
              "  'Workshops'],\n",
              " 'Spoonshot is hiring a Work From Home - Data Science Internship for 6 months in Bengaluru': ['Internships',\n",
              "  'Jobs',\n",
              "  'Trainings'],\n",
              " 'Talk on the Role of Data analytics and Cloud Computing in Internet of Things 2020': ['Talks'],\n",
              " 'Tech Savvy contest 2020 - The IOT Academy': ['Competitions'],\n",
              " 'Ted Talk in the field of Security': ['Talks'],\n",
              " 'We are happy to invite you to the much anticipated AngularJS Hackathon!': ['Hackathons']}"
            ]
          },
          "metadata": {
            "tags": []
          },
          "execution_count": 143
        }
      ]
    },
    {
      "cell_type": "markdown",
      "metadata": {
        "id": "g2SxVdjiOtaz",
        "colab_type": "text"
      },
      "source": [
        "# Mapping Recommendations with Employees and their preference"
      ]
    },
    {
      "cell_type": "code",
      "metadata": {
        "id": "AxjHjyh9CeUl",
        "colab_type": "code",
        "colab": {
          "base_uri": "https://localhost:8080/",
          "height": 419
        },
        "outputId": "74f33b5b-bd1b-4c6e-8206-9ffbd8ba12c0"
      },
      "source": [
        "Employee_Preference_Data"
      ],
      "execution_count": 144,
      "outputs": [
        {
          "output_type": "execute_result",
          "data": {
            "text/html": [
              "<div>\n",
              "<style scoped>\n",
              "    .dataframe tbody tr th:only-of-type {\n",
              "        vertical-align: middle;\n",
              "    }\n",
              "\n",
              "    .dataframe tbody tr th {\n",
              "        vertical-align: top;\n",
              "    }\n",
              "\n",
              "    .dataframe thead th {\n",
              "        text-align: right;\n",
              "    }\n",
              "</style>\n",
              "<table border=\"1\" class=\"dataframe\">\n",
              "  <thead>\n",
              "    <tr style=\"text-align: right;\">\n",
              "      <th></th>\n",
              "      <th>Name</th>\n",
              "      <th>Domain</th>\n",
              "      <th>Event1</th>\n",
              "      <th>Event2</th>\n",
              "    </tr>\n",
              "  </thead>\n",
              "  <tbody>\n",
              "    <tr>\n",
              "      <th>0</th>\n",
              "      <td>Bryan Brock</td>\n",
              "      <td>Management</td>\n",
              "      <td>Jobs</td>\n",
              "      <td>Hackathons</td>\n",
              "    </tr>\n",
              "    <tr>\n",
              "      <th>1</th>\n",
              "      <td>Joseph Sullivan</td>\n",
              "      <td>Coding</td>\n",
              "      <td>Certifications</td>\n",
              "      <td>Webinars</td>\n",
              "    </tr>\n",
              "    <tr>\n",
              "      <th>2</th>\n",
              "      <td>Sherri Dawson</td>\n",
              "      <td>Security</td>\n",
              "      <td>Internships</td>\n",
              "      <td>Fests</td>\n",
              "    </tr>\n",
              "    <tr>\n",
              "      <th>3</th>\n",
              "      <td>Dustin Ferguson</td>\n",
              "      <td>Hardware</td>\n",
              "      <td>Competitions</td>\n",
              "      <td>Webinars</td>\n",
              "    </tr>\n",
              "    <tr>\n",
              "      <th>4</th>\n",
              "      <td>Kayla Young</td>\n",
              "      <td>Web Development</td>\n",
              "      <td>Expos</td>\n",
              "      <td>Certifications</td>\n",
              "    </tr>\n",
              "    <tr>\n",
              "      <th>...</th>\n",
              "      <td>...</td>\n",
              "      <td>...</td>\n",
              "      <td>...</td>\n",
              "      <td>...</td>\n",
              "    </tr>\n",
              "    <tr>\n",
              "      <th>178</th>\n",
              "      <td>Katelyn Barnes</td>\n",
              "      <td>Coding</td>\n",
              "      <td>Courses</td>\n",
              "      <td>Webinars</td>\n",
              "    </tr>\n",
              "    <tr>\n",
              "      <th>179</th>\n",
              "      <td>Gabriel Cruz</td>\n",
              "      <td>Other</td>\n",
              "      <td>Talks</td>\n",
              "      <td>Fests</td>\n",
              "    </tr>\n",
              "    <tr>\n",
              "      <th>180</th>\n",
              "      <td>Christina Williams</td>\n",
              "      <td>Software Architecture</td>\n",
              "      <td>Talks</td>\n",
              "      <td>Fests</td>\n",
              "    </tr>\n",
              "    <tr>\n",
              "      <th>181</th>\n",
              "      <td>William Turner</td>\n",
              "      <td>Development Processes</td>\n",
              "      <td>Trainings</td>\n",
              "      <td>Seminars</td>\n",
              "    </tr>\n",
              "    <tr>\n",
              "      <th>182</th>\n",
              "      <td>Damon Lane</td>\n",
              "      <td>C</td>\n",
              "      <td>Seminars</td>\n",
              "      <td>Internships</td>\n",
              "    </tr>\n",
              "  </tbody>\n",
              "</table>\n",
              "<p>183 rows × 4 columns</p>\n",
              "</div>"
            ],
            "text/plain": [
              "                   Name                 Domain          Event1          Event2\n",
              "0           Bryan Brock             Management            Jobs      Hackathons\n",
              "1       Joseph Sullivan                 Coding  Certifications        Webinars\n",
              "2         Sherri Dawson               Security     Internships           Fests\n",
              "3       Dustin Ferguson               Hardware    Competitions        Webinars\n",
              "4           Kayla Young        Web Development           Expos  Certifications\n",
              "..                  ...                    ...             ...             ...\n",
              "178      Katelyn Barnes                 Coding         Courses        Webinars\n",
              "179        Gabriel Cruz                  Other           Talks           Fests\n",
              "180  Christina Williams  Software Architecture           Talks           Fests\n",
              "181      William Turner  Development Processes       Trainings        Seminars\n",
              "182          Damon Lane                      C        Seminars     Internships\n",
              "\n",
              "[183 rows x 4 columns]"
            ]
          },
          "metadata": {
            "tags": []
          },
          "execution_count": 144
        }
      ]
    },
    {
      "cell_type": "code",
      "metadata": {
        "id": "WR0i6E4b472R",
        "colab_type": "code",
        "colab": {}
      },
      "source": [
        "def find_employees_domain(recommendeddomains):\n",
        "    return(Employee_Preference_Data['Name'].loc[Employee_Preference_Data['Domain'].isin(recommendeddomains)])"
      ],
      "execution_count": 145,
      "outputs": []
    },
    {
      "cell_type": "code",
      "metadata": {
        "id": "BXREqwyH9vvg",
        "colab_type": "code",
        "colab": {}
      },
      "source": [
        "def find_employees_event(recommendedevents):\n",
        "    return(Employee_Preference_Data['Name'].loc[Employee_Preference_Data['Event1'].isin(recommendedevents) | Employee_Preference_Data['Event2'].isin(recommendedevents)])"
      ],
      "execution_count": 146,
      "outputs": []
    },
    {
      "cell_type": "code",
      "metadata": {
        "id": "RkiPQz4BAijq",
        "colab_type": "code",
        "colab": {}
      },
      "source": [
        "def pandas_to_string(employee_names_df):\n",
        "    return ', '.join(employee_names_df.values.flatten().tolist())"
      ],
      "execution_count": 147,
      "outputs": []
    },
    {
      "cell_type": "code",
      "metadata": {
        "id": "DLTtujhWGGTy",
        "colab_type": "code",
        "colab": {}
      },
      "source": [
        "#Mapping Recommendations with Employees and their preference\n",
        "Recommendations = pd.DataFrame(columns=['input','Recommended_Employees'], index=input.index) #Empty dataframe with same no. of rows as no. of input events\n",
        "for i in range(len(input)):\n",
        "    Recommendations['input'][i] = input.iloc[i,0]\n",
        "    recommended_domains = Domain_Recommendation[input.iloc[i,0]] # iloc[rows,columns]\n",
        "    recommended_events = Event_Recommendation[input.iloc[i,0]]\n",
        "    if (recommended_domains == ['Other']): #condition when no domain detected\n",
        "        Recommendations['Recommended_Employees'][i] = pandas_to_string(find_employees_event(recommended_events)) #direct recommendation with event names\n",
        "    else:\n",
        "        DomainMatchedIndex = find_employees_domain(recommended_domains).index # Getting index of employees with recommended domains\n",
        "        EventsMatchedIndex = find_employees_event(recommended_events).index #Getting index of employees with recommended domains\n",
        "        RecommendationIndex = DomainMatchedIndex.intersection(EventsMatchedIndex) #Intersection to get Respective Domain Employees with their Preferred events\n",
        "        Recommendations['Recommended_Employees'][i] = pandas_to_string(Employee_Preference_Data['Name'][RecommendationIndex])  "
      ],
      "execution_count": 148,
      "outputs": []
    },
    {
      "cell_type": "code",
      "metadata": {
        "id": "0vv2ArefJ9iY",
        "colab_type": "code",
        "colab": {
          "base_uri": "https://localhost:8080/",
          "height": 1000
        },
        "outputId": "b4179300-112b-42b5-d8fb-db237b20a8af"
      },
      "source": [
        "Recommendations"
      ],
      "execution_count": 149,
      "outputs": [
        {
          "output_type": "execute_result",
          "data": {
            "text/html": [
              "<div>\n",
              "<style scoped>\n",
              "    .dataframe tbody tr th:only-of-type {\n",
              "        vertical-align: middle;\n",
              "    }\n",
              "\n",
              "    .dataframe tbody tr th {\n",
              "        vertical-align: top;\n",
              "    }\n",
              "\n",
              "    .dataframe thead th {\n",
              "        text-align: right;\n",
              "    }\n",
              "</style>\n",
              "<table border=\"1\" class=\"dataframe\">\n",
              "  <thead>\n",
              "    <tr style=\"text-align: right;\">\n",
              "      <th></th>\n",
              "      <th>input</th>\n",
              "      <th>Recommended_Employees</th>\n",
              "    </tr>\n",
              "  </thead>\n",
              "  <tbody>\n",
              "    <tr>\n",
              "      <th>0</th>\n",
              "      <td>Get a System Administration certification from PurpleHat today.</td>\n",
              "      <td>Joshua Miller, Virginia Lucas</td>\n",
              "    </tr>\n",
              "    <tr>\n",
              "      <th>1</th>\n",
              "      <td>Lockdown special courses on Ydemi. 22 hours left!</td>\n",
              "      <td>David Foster, Jennifer Merritt, Robert Ramirez</td>\n",
              "    </tr>\n",
              "    <tr>\n",
              "      <th>2</th>\n",
              "      <td>CodeBoost codeathon is live now!</td>\n",
              "      <td></td>\n",
              "    </tr>\n",
              "    <tr>\n",
              "      <th>3</th>\n",
              "      <td>Attend the Computer Vision and Deep Learning Summit tomorrow</td>\n",
              "      <td>David Davis, Philip Woods, Jessica Lee, Rebecca Kelley, Melissa Diaz</td>\n",
              "    </tr>\n",
              "    <tr>\n",
              "      <th>4</th>\n",
              "      <td>AI &amp; Big Data Expo in 36 hours</td>\n",
              "      <td>Jessica Terrell</td>\n",
              "    </tr>\n",
              "    <tr>\n",
              "      <th>5</th>\n",
              "      <td>Book Online Tickets for workshops on C programming</td>\n",
              "      <td>Melinda West, Christopher Hernandez, Allison Robinson, Beverly Hayes, Teresa Riley, Gina Diaz, Damon Lane</td>\n",
              "    </tr>\n",
              "    <tr>\n",
              "      <th>6</th>\n",
              "      <td>Spoonshot is hiring a Work From Home - Data Science Internship for 6 months in Bengaluru</td>\n",
              "      <td>Adam Richards, Michael Smith, Daniel Johnson</td>\n",
              "    </tr>\n",
              "    <tr>\n",
              "      <th>7</th>\n",
              "      <td>Java Training in Electronic city Bangalore</td>\n",
              "      <td>Russell Vargas, Corey Beck, Edward Hampton, James Raymond, Melissa Diaz</td>\n",
              "    </tr>\n",
              "    <tr>\n",
              "      <th>8</th>\n",
              "      <td>Ted Talk in the field of Security</td>\n",
              "      <td>Kevin Robbins, Ernest Pierce, Marissa Dawson</td>\n",
              "    </tr>\n",
              "    <tr>\n",
              "      <th>9</th>\n",
              "      <td>Arrange a Machine Learning Workshop and Internship</td>\n",
              "      <td>Dustin Ferguson, David Davis, Philip Woods, Christian Odom, Brian Patterson, Matthew Martinez, Jessica Lee, Tanya Armstrong, Jasmine Brown, Rebecca Kelley, Sharon Mitchell, Stacy Jones, Melissa Diaz</td>\n",
              "    </tr>\n",
              "    <tr>\n",
              "      <th>10</th>\n",
              "      <td>Digital Marketing Workshop and Webinar</td>\n",
              "      <td>Kayla Young, Ann Morris, Jacqueline Houston, Donna Hansen, Janice Leonard, Matthew Graham, Micheal Brown, Robert Sanchez</td>\n",
              "    </tr>\n",
              "    <tr>\n",
              "      <th>11</th>\n",
              "      <td>Advanced Certification in Open Banking from July 2020</td>\n",
              "      <td>Lisa Roberts, Kenneth Martinez, Mrs. Brenda Scott, Todd Smith</td>\n",
              "    </tr>\n",
              "    <tr>\n",
              "      <th>12</th>\n",
              "      <td>Software development conference is designed for developers, team leads, architects, and project managers</td>\n",
              "      <td>Joseph Sullivan, Dustin Ferguson, Kayla Young, Ann Morris, David Davis, Jacqueline Houston, Erika Ross, Donna Hansen, Philip Woods, Diana Thomas, Christian Odom, Joshua Calhoun, Peter Wood, Antonio Nelson, Janice Leonard, Corey Moran, Jessica Lee, Tanya Armstrong, Samantha Mcdowell, Bryan Mann, Jasmine Brown, Mary Lewis, John Phillips, Katherine Gonzalez, Kenneth Jackson, Matthew Graham, Alyssa Davis, Dana Bryant, Micheal Brown, Jennifer Thompson, Lauren Martin, Patricia Miller, Kristen Mitchell, Jason Anthony, Jessica Terrell, Charles Parker, Robert Sanchez, Katelyn Barnes, William Turner</td>\n",
              "    </tr>\n",
              "    <tr>\n",
              "      <th>13</th>\n",
              "      <td>Don't miss the Web Development Course in Pune</td>\n",
              "      <td>Edwin Bowman, Michael West, Katherine Gonzalez, Jason Anthony</td>\n",
              "    </tr>\n",
              "    <tr>\n",
              "      <th>14</th>\n",
              "      <td>Bolt IoT and ML Innovation Training in August</td>\n",
              "      <td>Curtis Ortega, David Davis, Glenn Martinez, Virginia Lucas, Sharon Buckley, Lisa Thomas, Jennifer Thompson, William Turner</td>\n",
              "    </tr>\n",
              "    <tr>\n",
              "      <th>15</th>\n",
              "      <td>Tech Savvy contest 2020 - The IOT Academy</td>\n",
              "      <td>Dustin Ferguson, David Davis, Tanya Armstrong</td>\n",
              "    </tr>\n",
              "    <tr>\n",
              "      <th>16</th>\n",
              "      <td>Talk on the Role of Data analytics and Cloud Computing in Internet of Things 2020</td>\n",
              "      <td>Diana Thomas, Anthony Williams, Kathryn Odom, Kenneth Diaz, Matthew Graham, Susan Bailey, Michael Smith, Alyssa Davis, Jennifer Walker, Christina Williams</td>\n",
              "    </tr>\n",
              "    <tr>\n",
              "      <th>17</th>\n",
              "      <td>Four days of hands-on security training followed by the two-day main conference covering the information security research</td>\n",
              "      <td>Kayla Young, Deborah Young, Ann Morris, Corey Beck, David Davis, Jacqueline Houston, Donna Hansen, Kevin Robbins, Michelle Miller, Janice Leonard, Michael West, Mrs. Marissa Dixon, Jessica Lee, Aaron Black, Robert Burton, Matthew Graham, Micheal Brown, Ashley Rodriguez, Jessica Terrell, Robert Sanchez</td>\n",
              "    </tr>\n",
              "    <tr>\n",
              "      <th>18</th>\n",
              "      <td>We are happy to invite you to the much anticipated AngularJS Hackathon!</td>\n",
              "      <td>Bryan Brock, David Cox, Julian Sanders, Javier Leblanc, Angela Hall, Christopher Jones, Jonathan Fowler, Laura Hurst, Valerie Peterson, Virginia Lucas, Adam Richards, Matthew Martinez, Teresa Riley, Daniel Lopez, Samuel Johnston, Laura Wood, Sherry Jensen, Mark Rogers, Courtney Evans, Derek Schmidt, Barbara Mcguire, Anthony Wilkinson, Ashley Rodriguez, Daniel Johnson</td>\n",
              "    </tr>\n",
              "  </tbody>\n",
              "</table>\n",
              "</div>"
            ],
            "text/plain": [
              "                                                                                                                         input                                                                                                                                                                                                                                                                                                                                                                                                                                                                                                                                                                                                 Recommended_Employees\n",
              "0                                                              Get a System Administration certification from PurpleHat today.                                                                                                                                                                                                                                                                                                                                                                                                                                                                                                                                                                                         Joshua Miller, Virginia Lucas\n",
              "1                                                                            Lockdown special courses on Ydemi. 22 hours left!                                                                                                                                                                                                                                                                                                                                                                                                                                                                                                                                                                        David Foster, Jennifer Merritt, Robert Ramirez\n",
              "2                                                                                             CodeBoost codeathon is live now!                                                                                                                                                                                                                                                                                                                                                                                                                                                                                                                                                                                                                      \n",
              "3                                                                 Attend the Computer Vision and Deep Learning Summit tomorrow                                                                                                                                                                                                                                                                                                                                                                                                                                                                                                                                                  David Davis, Philip Woods, Jessica Lee, Rebecca Kelley, Melissa Diaz\n",
              "4                                                                                               AI & Big Data Expo in 36 hours                                                                                                                                                                                                                                                                                                                                                                                                                                                                                                                                                                                                       Jessica Terrell\n",
              "5                                                                           Book Online Tickets for workshops on C programming                                                                                                                                                                                                                                                                                                                                                                                                                                                                                                             Melinda West, Christopher Hernandez, Allison Robinson, Beverly Hayes, Teresa Riley, Gina Diaz, Damon Lane\n",
              "6                                     Spoonshot is hiring a Work From Home - Data Science Internship for 6 months in Bengaluru                                                                                                                                                                                                                                                                                                                                                                                                                                                                                                                                                                          Adam Richards, Michael Smith, Daniel Johnson\n",
              "7                                                                                   Java Training in Electronic city Bangalore                                                                                                                                                                                                                                                                                                                                                                                                                                                                                                                                               Russell Vargas, Corey Beck, Edward Hampton, James Raymond, Melissa Diaz\n",
              "8                                                                                            Ted Talk in the field of Security                                                                                                                                                                                                                                                                                                                                                                                                                                                                                                                                                                          Kevin Robbins, Ernest Pierce, Marissa Dawson\n",
              "9                                                                          Arrange a Machine Learning Workshop and Internship                                                                                                                                                                                                                                                                                                                                                                                                                 Dustin Ferguson, David Davis, Philip Woods, Christian Odom, Brian Patterson, Matthew Martinez, Jessica Lee, Tanya Armstrong, Jasmine Brown, Rebecca Kelley, Sharon Mitchell, Stacy Jones, Melissa Diaz\n",
              "10                                                                                     Digital Marketing Workshop and Webinar                                                                                                                                                                                                                                                                                                                                                                                                                                                                                               Kayla Young, Ann Morris, Jacqueline Houston, Donna Hansen, Janice Leonard, Matthew Graham, Micheal Brown, Robert Sanchez\n",
              "11                                                                       Advanced Certification in Open Banking from July 2020                                                                                                                                                                                                                                                                                                                                                                                                                                                                                                                                                         Lisa Roberts, Kenneth Martinez, Mrs. Brenda Scott, Todd Smith\n",
              "12                    Software development conference is designed for developers, team leads, architects, and project managers  Joseph Sullivan, Dustin Ferguson, Kayla Young, Ann Morris, David Davis, Jacqueline Houston, Erika Ross, Donna Hansen, Philip Woods, Diana Thomas, Christian Odom, Joshua Calhoun, Peter Wood, Antonio Nelson, Janice Leonard, Corey Moran, Jessica Lee, Tanya Armstrong, Samantha Mcdowell, Bryan Mann, Jasmine Brown, Mary Lewis, John Phillips, Katherine Gonzalez, Kenneth Jackson, Matthew Graham, Alyssa Davis, Dana Bryant, Micheal Brown, Jennifer Thompson, Lauren Martin, Patricia Miller, Kristen Mitchell, Jason Anthony, Jessica Terrell, Charles Parker, Robert Sanchez, Katelyn Barnes, William Turner\n",
              "13                                                                               Don't miss the Web Development Course in Pune                                                                                                                                                                                                                                                                                                                                                                                                                                                                                                                                                         Edwin Bowman, Michael West, Katherine Gonzalez, Jason Anthony\n",
              "14                                                                               Bolt IoT and ML Innovation Training in August                                                                                                                                                                                                                                                                                                                                                                                                                                                                                            Curtis Ortega, David Davis, Glenn Martinez, Virginia Lucas, Sharon Buckley, Lisa Thomas, Jennifer Thompson, William Turner\n",
              "15                                                                                   Tech Savvy contest 2020 - The IOT Academy                                                                                                                                                                                                                                                                                                                                                                                                                                                                                                                                                                         Dustin Ferguson, David Davis, Tanya Armstrong\n",
              "16                                           Talk on the Role of Data analytics and Cloud Computing in Internet of Things 2020                                                                                                                                                                                                                                                                                                                                                                                                                                                            Diana Thomas, Anthony Williams, Kathryn Odom, Kenneth Diaz, Matthew Graham, Susan Bailey, Michael Smith, Alyssa Davis, Jennifer Walker, Christina Williams\n",
              "17  Four days of hands-on security training followed by the two-day main conference covering the information security research                                                                                                                                                                                                                                                                                                        Kayla Young, Deborah Young, Ann Morris, Corey Beck, David Davis, Jacqueline Houston, Donna Hansen, Kevin Robbins, Michelle Miller, Janice Leonard, Michael West, Mrs. Marissa Dixon, Jessica Lee, Aaron Black, Robert Burton, Matthew Graham, Micheal Brown, Ashley Rodriguez, Jessica Terrell, Robert Sanchez\n",
              "18                                                     We are happy to invite you to the much anticipated AngularJS Hackathon!                                                                                                                                                                                                                                     Bryan Brock, David Cox, Julian Sanders, Javier Leblanc, Angela Hall, Christopher Jones, Jonathan Fowler, Laura Hurst, Valerie Peterson, Virginia Lucas, Adam Richards, Matthew Martinez, Teresa Riley, Daniel Lopez, Samuel Johnston, Laura Wood, Sherry Jensen, Mark Rogers, Courtney Evans, Derek Schmidt, Barbara Mcguire, Anthony Wilkinson, Ashley Rodriguez, Daniel Johnson"
            ]
          },
          "metadata": {
            "tags": []
          },
          "execution_count": 149
        }
      ]
    },
    {
      "cell_type": "markdown",
      "metadata": {
        "id": "MigJKkiGfZ0Q",
        "colab_type": "text"
      },
      "source": [
        "### Exporting Recommendations to Spreadsheet(xls)"
      ]
    },
    {
      "cell_type": "code",
      "metadata": {
        "id": "prn36T23V51u",
        "colab_type": "code",
        "colab": {}
      },
      "source": [
        "Recommendations.to_excel('output.xls', index=False)"
      ],
      "execution_count": 150,
      "outputs": []
    }
  ]
}